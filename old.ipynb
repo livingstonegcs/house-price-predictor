{
 "cells": [
  {
   "cell_type": "code",
   "execution_count": 1,
   "metadata": {
    "collapsed": true
   },
   "outputs": [],
   "source": [
    "?read.table"
   ]
  },
  {
   "cell_type": "code",
   "execution_count": 35,
   "metadata": {
    "collapsed": false
   },
   "outputs": [
    {
     "name": "stderr",
     "output_type": "stream",
     "text": [
      "Installing package into ‘/home/livingstonegcs/R/x86_64-pc-linux-gnu-library/3.4’\n",
      "(as ‘lib’ is unspecified)\n",
      "also installing the dependencies ‘mnormt’, ‘bindr’, ‘rematch’, ‘psych’, ‘assertthat’, ‘bindrcpp’, ‘glue’, ‘pkgconfig’, ‘BH’, ‘plogr’, ‘cellranger’, ‘selectr’, ‘tidyselect’, ‘broom’, ‘dplyr’, ‘forcats’, ‘haven’, ‘hms’, ‘lubridate’, ‘modelr’, ‘purrr’, ‘readr’, ‘readxl’, ‘rvest’, ‘tidyr’, ‘xml2’\n",
      "\n",
      "Warning message in install.packages(\"tidyverse\"):\n",
      "“installation of package ‘xml2’ had non-zero exit status”Warning message in install.packages(\"tidyverse\"):\n",
      "“installation of package ‘rvest’ had non-zero exit status”Warning message in install.packages(\"tidyverse\"):\n",
      "“installation of package ‘tidyverse’ had non-zero exit status”"
     ]
    }
   ],
   "source": [
    "install.packages(\"tidyverse\")"
   ]
  },
  {
   "cell_type": "code",
   "execution_count": 37,
   "metadata": {
    "collapsed": false
   },
   "outputs": [
    {
     "name": "stderr",
     "output_type": "stream",
     "text": [
      "Installing packages into ‘/home/livingstonegcs/R/x86_64-pc-linux-gnu-library/3.4’\n",
      "(as ‘lib’ is unspecified)\n"
     ]
    }
   ],
   "source": [
    "install.packages(c(\"nycflights13\", \"gapminder\", \"Lahman\"))"
   ]
  },
  {
   "cell_type": "code",
   "execution_count": 2,
   "metadata": {
    "collapsed": false
   },
   "outputs": [
    {
     "data": {
      "text/html": [
       "11"
      ],
      "text/latex": [
       "11"
      ],
      "text/markdown": [
       "11"
      ],
      "text/plain": [
       "[1] 11"
      ]
     },
     "metadata": {},
     "output_type": "display_data"
    }
   ],
   "source": [
    "primary_attributes <- c(\"NCD_\",\"AI_\",\"AS(NA)_\",\"BL_\",\"NAC_\",\"AS(NAC)_\",\"CS_\",\"AT_\",\"NA_\",\"ADL_\",\"NAD_\")\n",
    "length(primary_attributes)"
   ]
  },
  {
   "cell_type": "code",
   "execution_count": 3,
   "metadata": {
    "collapsed": false
   },
   "outputs": [],
   "source": [
    "#DERIVING DERIVED ATTRIBUTES\n",
    "derived_attributes <- c()#c(\"RowNum\")\n",
    "for(attr in primary_attributes){\n",
    "    for(i in 0:6){\n",
    "        derived_attributes <-c(derived_attributes, paste(attr,as.character(i),ep = \"\") )\n",
    "    }\n",
    "}\n",
    "derived_attributes <- c(derived_attributes,\"Buzz\")"
   ]
  },
  {
   "cell_type": "code",
   "execution_count": 4,
   "metadata": {
    "collapsed": false
   },
   "outputs": [
    {
     "data": {
      "text/html": [
       "78"
      ],
      "text/latex": [
       "78"
      ],
      "text/markdown": [
       "78"
      ],
      "text/plain": [
       "[1] 78"
      ]
     },
     "metadata": {},
     "output_type": "display_data"
    }
   ],
   "source": [
    "length(derived_attributes)"
   ]
  },
  {
   "cell_type": "code",
   "execution_count": 5,
   "metadata": {
    "collapsed": false
   },
   "outputs": [],
   "source": [
    "table <- read.table('Twitter-Absolute-Sigma-500.data',sep=\",\",col.names=derived_attributes)"
   ]
  },
  {
   "cell_type": "code",
   "execution_count": 6,
   "metadata": {
    "collapsed": false
   },
   "outputs": [
    {
     "data": {
      "text/html": [
       "<table>\n",
       "<thead><tr><th scope=col>NCD_.0.</th><th scope=col>NCD_.1.</th><th scope=col>NCD_.2.</th><th scope=col>NCD_.3.</th><th scope=col>NCD_.4.</th><th scope=col>NCD_.5.</th><th scope=col>NCD_.6.</th><th scope=col>AI_.0.</th><th scope=col>AI_.1.</th><th scope=col>AI_.2.</th><th scope=col>⋯</th><th scope=col>ADL_.5.</th><th scope=col>ADL_.6.</th><th scope=col>NAD_.0.</th><th scope=col>NAD_.1.</th><th scope=col>NAD_.2.</th><th scope=col>NAD_.3.</th><th scope=col>NAD_.4.</th><th scope=col>NAD_.5.</th><th scope=col>NAD_.6.</th><th scope=col>Buzz</th></tr></thead>\n",
       "<tbody>\n",
       "\t<tr><td>889 </td><td>939 </td><td>960 </td><td>805 </td><td>805 </td><td>1143</td><td>1121</td><td>549 </td><td>613 </td><td>587 </td><td>⋯   </td><td>1   </td><td>1   </td><td>889 </td><td>939 </td><td>960 </td><td>805 </td><td>805 </td><td>1143</td><td>1121</td><td>1   </td></tr>\n",
       "\t<tr><td>542 </td><td>473 </td><td>504 </td><td>626 </td><td>647 </td><td> 795</td><td> 832</td><td>366 </td><td>288 </td><td>318 </td><td>⋯   </td><td>1   </td><td>1   </td><td>542 </td><td>473 </td><td>504 </td><td>626 </td><td>647 </td><td> 795</td><td> 832</td><td>1   </td></tr>\n",
       "\t<tr><td> 92 </td><td> 99 </td><td>196 </td><td>100 </td><td>184 </td><td>  79</td><td> 162</td><td> 66 </td><td> 59 </td><td>118 </td><td>⋯   </td><td>1   </td><td>1   </td><td> 92 </td><td> 99 </td><td>196 </td><td>100 </td><td>184 </td><td>  79</td><td> 162</td><td>0   </td></tr>\n",
       "\t<tr><td> 90 </td><td> 87 </td><td> 92 </td><td>344 </td><td>184 </td><td> 848</td><td> 184</td><td> 83 </td><td> 78 </td><td> 76 </td><td>⋯   </td><td>1   </td><td>1   </td><td> 90 </td><td> 87 </td><td> 92 </td><td>344 </td><td>184 </td><td> 848</td><td> 184</td><td>1   </td></tr>\n",
       "\t<tr><td>169 </td><td> 98 </td><td>101 </td><td> 90 </td><td> 96 </td><td>  95</td><td> 185</td><td>141 </td><td> 68 </td><td> 85 </td><td>⋯   </td><td>1   </td><td>1   </td><td>169 </td><td> 98 </td><td>101 </td><td> 90 </td><td> 96 </td><td>  95</td><td> 185</td><td>1   </td></tr>\n",
       "\t<tr><td>775 </td><td>765 </td><td>935 </td><td>806 </td><td>912 </td><td>1095</td><td>1198</td><td>614 </td><td>588 </td><td>751 </td><td>⋯   </td><td>1   </td><td>1   </td><td>775 </td><td>765 </td><td>935 </td><td>806 </td><td>912 </td><td>1095</td><td>1198</td><td>1   </td></tr>\n",
       "</tbody>\n",
       "</table>\n"
      ],
      "text/latex": [
       "\\begin{tabular}{r|llllllllllllllllllllllllllllllllllllllllllllllllllllllllllllllllllllllllllllll}\n",
       " NCD\\_.0. & NCD\\_.1. & NCD\\_.2. & NCD\\_.3. & NCD\\_.4. & NCD\\_.5. & NCD\\_.6. & AI\\_.0. & AI\\_.1. & AI\\_.2. & ⋯ & ADL\\_.5. & ADL\\_.6. & NAD\\_.0. & NAD\\_.1. & NAD\\_.2. & NAD\\_.3. & NAD\\_.4. & NAD\\_.5. & NAD\\_.6. & Buzz\\\\\n",
       "\\hline\n",
       "\t 889  & 939  & 960  & 805  & 805  & 1143 & 1121 & 549  & 613  & 587  & ⋯    & 1    & 1    & 889  & 939  & 960  & 805  & 805  & 1143 & 1121 & 1   \\\\\n",
       "\t 542  & 473  & 504  & 626  & 647  &  795 &  832 & 366  & 288  & 318  & ⋯    & 1    & 1    & 542  & 473  & 504  & 626  & 647  &  795 &  832 & 1   \\\\\n",
       "\t  92  &  99  & 196  & 100  & 184  &   79 &  162 &  66  &  59  & 118  & ⋯    & 1    & 1    &  92  &  99  & 196  & 100  & 184  &   79 &  162 & 0   \\\\\n",
       "\t  90  &  87  &  92  & 344  & 184  &  848 &  184 &  83  &  78  &  76  & ⋯    & 1    & 1    &  90  &  87  &  92  & 344  & 184  &  848 &  184 & 1   \\\\\n",
       "\t 169  &  98  & 101  &  90  &  96  &   95 &  185 & 141  &  68  &  85  & ⋯    & 1    & 1    & 169  &  98  & 101  &  90  &  96  &   95 &  185 & 1   \\\\\n",
       "\t 775  & 765  & 935  & 806  & 912  & 1095 & 1198 & 614  & 588  & 751  & ⋯    & 1    & 1    & 775  & 765  & 935  & 806  & 912  & 1095 & 1198 & 1   \\\\\n",
       "\\end{tabular}\n"
      ],
      "text/markdown": [
       "\n",
       "NCD_.0. | NCD_.1. | NCD_.2. | NCD_.3. | NCD_.4. | NCD_.5. | NCD_.6. | AI_.0. | AI_.1. | AI_.2. | ⋯ | ADL_.5. | ADL_.6. | NAD_.0. | NAD_.1. | NAD_.2. | NAD_.3. | NAD_.4. | NAD_.5. | NAD_.6. | Buzz | \n",
       "|---|---|---|---|---|---|\n",
       "| 889  | 939  | 960  | 805  | 805  | 1143 | 1121 | 549  | 613  | 587  | ⋯    | 1    | 1    | 889  | 939  | 960  | 805  | 805  | 1143 | 1121 | 1    | \n",
       "| 542  | 473  | 504  | 626  | 647  |  795 |  832 | 366  | 288  | 318  | ⋯    | 1    | 1    | 542  | 473  | 504  | 626  | 647  |  795 |  832 | 1    | \n",
       "|  92  |  99  | 196  | 100  | 184  |   79 |  162 |  66  |  59  | 118  | ⋯    | 1    | 1    |  92  |  99  | 196  | 100  | 184  |   79 |  162 | 0    | \n",
       "|  90  |  87  |  92  | 344  | 184  |  848 |  184 |  83  |  78  |  76  | ⋯    | 1    | 1    |  90  |  87  |  92  | 344  | 184  |  848 |  184 | 1    | \n",
       "| 169  |  98  | 101  |  90  |  96  |   95 |  185 | 141  |  68  |  85  | ⋯    | 1    | 1    | 169  |  98  | 101  |  90  |  96  |   95 |  185 | 1    | \n",
       "| 775  | 765  | 935  | 806  | 912  | 1095 | 1198 | 614  | 588  | 751  | ⋯    | 1    | 1    | 775  | 765  | 935  | 806  | 912  | 1095 | 1198 | 1    | \n",
       "\n",
       "\n"
      ],
      "text/plain": [
       "  NCD_.0. NCD_.1. NCD_.2. NCD_.3. NCD_.4. NCD_.5. NCD_.6. AI_.0. AI_.1. AI_.2.\n",
       "1 889     939     960     805     805     1143    1121    549    613    587   \n",
       "2 542     473     504     626     647      795     832    366    288    318   \n",
       "3  92      99     196     100     184       79     162     66     59    118   \n",
       "4  90      87      92     344     184      848     184     83     78     76   \n",
       "5 169      98     101      90      96       95     185    141     68     85   \n",
       "6 775     765     935     806     912     1095    1198    614    588    751   \n",
       "  ⋯ ADL_.5. ADL_.6. NAD_.0. NAD_.1. NAD_.2. NAD_.3. NAD_.4. NAD_.5. NAD_.6.\n",
       "1 ⋯ 1       1       889     939     960     805     805     1143    1121   \n",
       "2 ⋯ 1       1       542     473     504     626     647      795     832   \n",
       "3 ⋯ 1       1        92      99     196     100     184       79     162   \n",
       "4 ⋯ 1       1        90      87      92     344     184      848     184   \n",
       "5 ⋯ 1       1       169      98     101      90      96       95     185   \n",
       "6 ⋯ 1       1       775     765     935     806     912     1095    1198   \n",
       "  Buzz\n",
       "1 1   \n",
       "2 1   \n",
       "3 0   \n",
       "4 1   \n",
       "5 1   \n",
       "6 1   "
      ]
     },
     "metadata": {},
     "output_type": "display_data"
    }
   ],
   "source": [
    "head(table)"
   ]
  },
  {
   "cell_type": "code",
   "execution_count": 7,
   "metadata": {
    "collapsed": false
   },
   "outputs": [
    {
     "data": {
      "text/html": [
       "140707"
      ],
      "text/latex": [
       "140707"
      ],
      "text/markdown": [
       "140707"
      ],
      "text/plain": [
       "[1] 140707"
      ]
     },
     "metadata": {},
     "output_type": "display_data"
    }
   ],
   "source": [
    "nrow(table)"
   ]
  },
  {
   "cell_type": "code",
   "execution_count": 8,
   "metadata": {
    "collapsed": false
   },
   "outputs": [
    {
     "data": {
      "text/html": [
       "78"
      ],
      "text/latex": [
       "78"
      ],
      "text/markdown": [
       "78"
      ],
      "text/plain": [
       "[1] 78"
      ]
     },
     "metadata": {},
     "output_type": "display_data"
    }
   ],
   "source": [
    "ncol(table)"
   ]
  },
  {
   "cell_type": "code",
   "execution_count": 9,
   "metadata": {
    "collapsed": false
   },
   "outputs": [
    {
     "data": {
      "text/html": [
       "<ol class=list-inline>\n",
       "\t<li>'NCD_.0.'</li>\n",
       "\t<li>'NCD_.1.'</li>\n",
       "\t<li>'NCD_.2.'</li>\n",
       "\t<li>'NCD_.3.'</li>\n",
       "\t<li>'NCD_.4.'</li>\n",
       "\t<li>'NCD_.5.'</li>\n",
       "\t<li>'NCD_.6.'</li>\n",
       "\t<li>'AI_.0.'</li>\n",
       "\t<li>'AI_.1.'</li>\n",
       "\t<li>'AI_.2.'</li>\n",
       "\t<li>'AI_.3.'</li>\n",
       "\t<li>'AI_.4.'</li>\n",
       "\t<li>'AI_.5.'</li>\n",
       "\t<li>'AI_.6.'</li>\n",
       "\t<li>'AS.NA._.0.'</li>\n",
       "\t<li>'AS.NA._.1.'</li>\n",
       "\t<li>'AS.NA._.2.'</li>\n",
       "\t<li>'AS.NA._.3.'</li>\n",
       "\t<li>'AS.NA._.4.'</li>\n",
       "\t<li>'AS.NA._.5.'</li>\n",
       "\t<li>'AS.NA._.6.'</li>\n",
       "\t<li>'BL_.0.'</li>\n",
       "\t<li>'BL_.1.'</li>\n",
       "\t<li>'BL_.2.'</li>\n",
       "\t<li>'BL_.3.'</li>\n",
       "\t<li>'BL_.4.'</li>\n",
       "\t<li>'BL_.5.'</li>\n",
       "\t<li>'BL_.6.'</li>\n",
       "\t<li>'NAC_.0.'</li>\n",
       "\t<li>'NAC_.1.'</li>\n",
       "\t<li>'NAC_.2.'</li>\n",
       "\t<li>'NAC_.3.'</li>\n",
       "\t<li>'NAC_.4.'</li>\n",
       "\t<li>'NAC_.5.'</li>\n",
       "\t<li>'NAC_.6.'</li>\n",
       "\t<li>'AS.NAC._.0.'</li>\n",
       "\t<li>'AS.NAC._.1.'</li>\n",
       "\t<li>'AS.NAC._.2.'</li>\n",
       "\t<li>'AS.NAC._.3.'</li>\n",
       "\t<li>'AS.NAC._.4.'</li>\n",
       "\t<li>'AS.NAC._.5.'</li>\n",
       "\t<li>'AS.NAC._.6.'</li>\n",
       "\t<li>'CS_.0.'</li>\n",
       "\t<li>'CS_.1.'</li>\n",
       "\t<li>'CS_.2.'</li>\n",
       "\t<li>'CS_.3.'</li>\n",
       "\t<li>'CS_.4.'</li>\n",
       "\t<li>'CS_.5.'</li>\n",
       "\t<li>'CS_.6.'</li>\n",
       "\t<li>'AT_.0.'</li>\n",
       "\t<li>'AT_.1.'</li>\n",
       "\t<li>'AT_.2.'</li>\n",
       "\t<li>'AT_.3.'</li>\n",
       "\t<li>'AT_.4.'</li>\n",
       "\t<li>'AT_.5.'</li>\n",
       "\t<li>'AT_.6.'</li>\n",
       "\t<li>'NA_.0.'</li>\n",
       "\t<li>'NA_.1.'</li>\n",
       "\t<li>'NA_.2.'</li>\n",
       "\t<li>'NA_.3.'</li>\n",
       "\t<li>'NA_.4.'</li>\n",
       "\t<li>'NA_.5.'</li>\n",
       "\t<li>'NA_.6.'</li>\n",
       "\t<li>'ADL_.0.'</li>\n",
       "\t<li>'ADL_.1.'</li>\n",
       "\t<li>'ADL_.2.'</li>\n",
       "\t<li>'ADL_.3.'</li>\n",
       "\t<li>'ADL_.4.'</li>\n",
       "\t<li>'ADL_.5.'</li>\n",
       "\t<li>'ADL_.6.'</li>\n",
       "\t<li>'NAD_.0.'</li>\n",
       "\t<li>'NAD_.1.'</li>\n",
       "\t<li>'NAD_.2.'</li>\n",
       "\t<li>'NAD_.3.'</li>\n",
       "\t<li>'NAD_.4.'</li>\n",
       "\t<li>'NAD_.5.'</li>\n",
       "\t<li>'NAD_.6.'</li>\n",
       "\t<li>'Buzz'</li>\n",
       "</ol>\n"
      ],
      "text/latex": [
       "\\begin{enumerate*}\n",
       "\\item 'NCD\\_.0.'\n",
       "\\item 'NCD\\_.1.'\n",
       "\\item 'NCD\\_.2.'\n",
       "\\item 'NCD\\_.3.'\n",
       "\\item 'NCD\\_.4.'\n",
       "\\item 'NCD\\_.5.'\n",
       "\\item 'NCD\\_.6.'\n",
       "\\item 'AI\\_.0.'\n",
       "\\item 'AI\\_.1.'\n",
       "\\item 'AI\\_.2.'\n",
       "\\item 'AI\\_.3.'\n",
       "\\item 'AI\\_.4.'\n",
       "\\item 'AI\\_.5.'\n",
       "\\item 'AI\\_.6.'\n",
       "\\item 'AS.NA.\\_.0.'\n",
       "\\item 'AS.NA.\\_.1.'\n",
       "\\item 'AS.NA.\\_.2.'\n",
       "\\item 'AS.NA.\\_.3.'\n",
       "\\item 'AS.NA.\\_.4.'\n",
       "\\item 'AS.NA.\\_.5.'\n",
       "\\item 'AS.NA.\\_.6.'\n",
       "\\item 'BL\\_.0.'\n",
       "\\item 'BL\\_.1.'\n",
       "\\item 'BL\\_.2.'\n",
       "\\item 'BL\\_.3.'\n",
       "\\item 'BL\\_.4.'\n",
       "\\item 'BL\\_.5.'\n",
       "\\item 'BL\\_.6.'\n",
       "\\item 'NAC\\_.0.'\n",
       "\\item 'NAC\\_.1.'\n",
       "\\item 'NAC\\_.2.'\n",
       "\\item 'NAC\\_.3.'\n",
       "\\item 'NAC\\_.4.'\n",
       "\\item 'NAC\\_.5.'\n",
       "\\item 'NAC\\_.6.'\n",
       "\\item 'AS.NAC.\\_.0.'\n",
       "\\item 'AS.NAC.\\_.1.'\n",
       "\\item 'AS.NAC.\\_.2.'\n",
       "\\item 'AS.NAC.\\_.3.'\n",
       "\\item 'AS.NAC.\\_.4.'\n",
       "\\item 'AS.NAC.\\_.5.'\n",
       "\\item 'AS.NAC.\\_.6.'\n",
       "\\item 'CS\\_.0.'\n",
       "\\item 'CS\\_.1.'\n",
       "\\item 'CS\\_.2.'\n",
       "\\item 'CS\\_.3.'\n",
       "\\item 'CS\\_.4.'\n",
       "\\item 'CS\\_.5.'\n",
       "\\item 'CS\\_.6.'\n",
       "\\item 'AT\\_.0.'\n",
       "\\item 'AT\\_.1.'\n",
       "\\item 'AT\\_.2.'\n",
       "\\item 'AT\\_.3.'\n",
       "\\item 'AT\\_.4.'\n",
       "\\item 'AT\\_.5.'\n",
       "\\item 'AT\\_.6.'\n",
       "\\item 'NA\\_.0.'\n",
       "\\item 'NA\\_.1.'\n",
       "\\item 'NA\\_.2.'\n",
       "\\item 'NA\\_.3.'\n",
       "\\item 'NA\\_.4.'\n",
       "\\item 'NA\\_.5.'\n",
       "\\item 'NA\\_.6.'\n",
       "\\item 'ADL\\_.0.'\n",
       "\\item 'ADL\\_.1.'\n",
       "\\item 'ADL\\_.2.'\n",
       "\\item 'ADL\\_.3.'\n",
       "\\item 'ADL\\_.4.'\n",
       "\\item 'ADL\\_.5.'\n",
       "\\item 'ADL\\_.6.'\n",
       "\\item 'NAD\\_.0.'\n",
       "\\item 'NAD\\_.1.'\n",
       "\\item 'NAD\\_.2.'\n",
       "\\item 'NAD\\_.3.'\n",
       "\\item 'NAD\\_.4.'\n",
       "\\item 'NAD\\_.5.'\n",
       "\\item 'NAD\\_.6.'\n",
       "\\item 'Buzz'\n",
       "\\end{enumerate*}\n"
      ],
      "text/markdown": [
       "1. 'NCD_.0.'\n",
       "2. 'NCD_.1.'\n",
       "3. 'NCD_.2.'\n",
       "4. 'NCD_.3.'\n",
       "5. 'NCD_.4.'\n",
       "6. 'NCD_.5.'\n",
       "7. 'NCD_.6.'\n",
       "8. 'AI_.0.'\n",
       "9. 'AI_.1.'\n",
       "10. 'AI_.2.'\n",
       "11. 'AI_.3.'\n",
       "12. 'AI_.4.'\n",
       "13. 'AI_.5.'\n",
       "14. 'AI_.6.'\n",
       "15. 'AS.NA._.0.'\n",
       "16. 'AS.NA._.1.'\n",
       "17. 'AS.NA._.2.'\n",
       "18. 'AS.NA._.3.'\n",
       "19. 'AS.NA._.4.'\n",
       "20. 'AS.NA._.5.'\n",
       "21. 'AS.NA._.6.'\n",
       "22. 'BL_.0.'\n",
       "23. 'BL_.1.'\n",
       "24. 'BL_.2.'\n",
       "25. 'BL_.3.'\n",
       "26. 'BL_.4.'\n",
       "27. 'BL_.5.'\n",
       "28. 'BL_.6.'\n",
       "29. 'NAC_.0.'\n",
       "30. 'NAC_.1.'\n",
       "31. 'NAC_.2.'\n",
       "32. 'NAC_.3.'\n",
       "33. 'NAC_.4.'\n",
       "34. 'NAC_.5.'\n",
       "35. 'NAC_.6.'\n",
       "36. 'AS.NAC._.0.'\n",
       "37. 'AS.NAC._.1.'\n",
       "38. 'AS.NAC._.2.'\n",
       "39. 'AS.NAC._.3.'\n",
       "40. 'AS.NAC._.4.'\n",
       "41. 'AS.NAC._.5.'\n",
       "42. 'AS.NAC._.6.'\n",
       "43. 'CS_.0.'\n",
       "44. 'CS_.1.'\n",
       "45. 'CS_.2.'\n",
       "46. 'CS_.3.'\n",
       "47. 'CS_.4.'\n",
       "48. 'CS_.5.'\n",
       "49. 'CS_.6.'\n",
       "50. 'AT_.0.'\n",
       "51. 'AT_.1.'\n",
       "52. 'AT_.2.'\n",
       "53. 'AT_.3.'\n",
       "54. 'AT_.4.'\n",
       "55. 'AT_.5.'\n",
       "56. 'AT_.6.'\n",
       "57. 'NA_.0.'\n",
       "58. 'NA_.1.'\n",
       "59. 'NA_.2.'\n",
       "60. 'NA_.3.'\n",
       "61. 'NA_.4.'\n",
       "62. 'NA_.5.'\n",
       "63. 'NA_.6.'\n",
       "64. 'ADL_.0.'\n",
       "65. 'ADL_.1.'\n",
       "66. 'ADL_.2.'\n",
       "67. 'ADL_.3.'\n",
       "68. 'ADL_.4.'\n",
       "69. 'ADL_.5.'\n",
       "70. 'ADL_.6.'\n",
       "71. 'NAD_.0.'\n",
       "72. 'NAD_.1.'\n",
       "73. 'NAD_.2.'\n",
       "74. 'NAD_.3.'\n",
       "75. 'NAD_.4.'\n",
       "76. 'NAD_.5.'\n",
       "77. 'NAD_.6.'\n",
       "78. 'Buzz'\n",
       "\n",
       "\n"
      ],
      "text/plain": [
       " [1] \"NCD_.0.\"     \"NCD_.1.\"     \"NCD_.2.\"     \"NCD_.3.\"     \"NCD_.4.\"    \n",
       " [6] \"NCD_.5.\"     \"NCD_.6.\"     \"AI_.0.\"      \"AI_.1.\"      \"AI_.2.\"     \n",
       "[11] \"AI_.3.\"      \"AI_.4.\"      \"AI_.5.\"      \"AI_.6.\"      \"AS.NA._.0.\" \n",
       "[16] \"AS.NA._.1.\"  \"AS.NA._.2.\"  \"AS.NA._.3.\"  \"AS.NA._.4.\"  \"AS.NA._.5.\" \n",
       "[21] \"AS.NA._.6.\"  \"BL_.0.\"      \"BL_.1.\"      \"BL_.2.\"      \"BL_.3.\"     \n",
       "[26] \"BL_.4.\"      \"BL_.5.\"      \"BL_.6.\"      \"NAC_.0.\"     \"NAC_.1.\"    \n",
       "[31] \"NAC_.2.\"     \"NAC_.3.\"     \"NAC_.4.\"     \"NAC_.5.\"     \"NAC_.6.\"    \n",
       "[36] \"AS.NAC._.0.\" \"AS.NAC._.1.\" \"AS.NAC._.2.\" \"AS.NAC._.3.\" \"AS.NAC._.4.\"\n",
       "[41] \"AS.NAC._.5.\" \"AS.NAC._.6.\" \"CS_.0.\"      \"CS_.1.\"      \"CS_.2.\"     \n",
       "[46] \"CS_.3.\"      \"CS_.4.\"      \"CS_.5.\"      \"CS_.6.\"      \"AT_.0.\"     \n",
       "[51] \"AT_.1.\"      \"AT_.2.\"      \"AT_.3.\"      \"AT_.4.\"      \"AT_.5.\"     \n",
       "[56] \"AT_.6.\"      \"NA_.0.\"      \"NA_.1.\"      \"NA_.2.\"      \"NA_.3.\"     \n",
       "[61] \"NA_.4.\"      \"NA_.5.\"      \"NA_.6.\"      \"ADL_.0.\"     \"ADL_.1.\"    \n",
       "[66] \"ADL_.2.\"     \"ADL_.3.\"     \"ADL_.4.\"     \"ADL_.5.\"     \"ADL_.6.\"    \n",
       "[71] \"NAD_.0.\"     \"NAD_.1.\"     \"NAD_.2.\"     \"NAD_.3.\"     \"NAD_.4.\"    \n",
       "[76] \"NAD_.5.\"     \"NAD_.6.\"     \"Buzz\"       "
      ]
     },
     "metadata": {},
     "output_type": "display_data"
    }
   ],
   "source": [
    "colnames(table)"
   ]
  },
  {
   "cell_type": "code",
   "execution_count": 11,
   "metadata": {
    "collapsed": true
   },
   "outputs": [],
   "source": [
    "df <- data.frame(table)"
   ]
  },
  {
   "cell_type": "code",
   "execution_count": 26,
   "metadata": {
    "collapsed": false
   },
   "outputs": [],
   "source": [
    "percent_of_buzz = nrow(df[df$Buzz == 1,])/nrow(df)*100"
   ]
  },
  {
   "cell_type": "code",
   "execution_count": 27,
   "metadata": {
    "collapsed": false
   },
   "outputs": [
    {
     "data": {
      "text/html": [
       "19.7396007305962"
      ],
      "text/latex": [
       "19.7396007305962"
      ],
      "text/markdown": [
       "19.7396007305962"
      ],
      "text/plain": [
       "[1] 19.7396"
      ]
     },
     "metadata": {},
     "output_type": "display_data"
    }
   ],
   "source": [
    "percent_of_buzz"
   ]
  },
  {
   "cell_type": "code",
   "execution_count": 28,
   "metadata": {
    "collapsed": true
   },
   "outputs": [],
   "source": [
    "percent_of_noBuzz = nrow(df[df$Buzz == 0,])/nrow(df)*100"
   ]
  },
  {
   "cell_type": "code",
   "execution_count": 29,
   "metadata": {
    "collapsed": false
   },
   "outputs": [
    {
     "data": {
      "text/html": [
       "80.2603992694038"
      ],
      "text/latex": [
       "80.2603992694038"
      ],
      "text/markdown": [
       "80.2603992694038"
      ],
      "text/plain": [
       "[1] 80.2604"
      ]
     },
     "metadata": {},
     "output_type": "display_data"
    }
   ],
   "source": [
    "percent_of_noBuzz"
   ]
  },
  {
   "cell_type": "code",
   "execution_count": 33,
   "metadata": {
    "collapsed": false
   },
   "outputs": [
    {
     "ename": "ERROR",
     "evalue": "Error in hist.default(x = c(\"Buzz\", \"No Buzz\")): 'x' must be numeric\n",
     "output_type": "error",
     "traceback": [
      "Error in hist.default(x = c(\"Buzz\", \"No Buzz\")): 'x' must be numeric\nTraceback:\n",
      "1. hist(x = c(\"Buzz\", \"No Buzz\"))",
      "2. hist.default(x = c(\"Buzz\", \"No Buzz\"))",
      "3. stop(\"'x' must be numeric\")"
     ]
    }
   ],
   "source": [
    "hist(x=c(\"Buzz\",\"No Buzz\"))"
   ]
  },
  {
   "cell_type": "code",
   "execution_count": 45,
   "metadata": {
    "collapsed": false
   },
   "outputs": [
    {
     "data": {
      "text/html": [
       "<table>\n",
       "<thead><tr><th scope=col>NCD_.0.</th><th scope=col>NCD_.1.</th><th scope=col>NCD_.2.</th><th scope=col>NCD_.3.</th><th scope=col>NCD_.4.</th><th scope=col>NCD_.5.</th><th scope=col>NCD_.6.</th><th scope=col>AI_.0.</th><th scope=col>AI_.1.</th><th scope=col>AI_.2.</th><th scope=col>⋯</th><th scope=col>ADL_.5.</th><th scope=col>ADL_.6.</th><th scope=col>NAD_.0.</th><th scope=col>NAD_.1.</th><th scope=col>NAD_.2.</th><th scope=col>NAD_.3.</th><th scope=col>NAD_.4.</th><th scope=col>NAD_.5.</th><th scope=col>NAD_.6.</th><th scope=col>Buzz</th></tr></thead>\n",
       "<tbody>\n",
       "\t<tr><td>889 </td><td>939 </td><td>960 </td><td>805 </td><td>805 </td><td>1143</td><td>1121</td><td>549 </td><td>613 </td><td>587 </td><td>⋯   </td><td>1   </td><td>1   </td><td>889 </td><td>939 </td><td>960 </td><td>805 </td><td>805 </td><td>1143</td><td>1121</td><td>1   </td></tr>\n",
       "\t<tr><td>542 </td><td>473 </td><td>504 </td><td>626 </td><td>647 </td><td> 795</td><td> 832</td><td>366 </td><td>288 </td><td>318 </td><td>⋯   </td><td>1   </td><td>1   </td><td>542 </td><td>473 </td><td>504 </td><td>626 </td><td>647 </td><td> 795</td><td> 832</td><td>1   </td></tr>\n",
       "\t<tr><td> 92 </td><td> 99 </td><td>196 </td><td>100 </td><td>184 </td><td>  79</td><td> 162</td><td> 66 </td><td> 59 </td><td>118 </td><td>⋯   </td><td>1   </td><td>1   </td><td> 92 </td><td> 99 </td><td>196 </td><td>100 </td><td>184 </td><td>  79</td><td> 162</td><td>0   </td></tr>\n",
       "\t<tr><td> 90 </td><td> 87 </td><td> 92 </td><td>344 </td><td>184 </td><td> 848</td><td> 184</td><td> 83 </td><td> 78 </td><td> 76 </td><td>⋯   </td><td>1   </td><td>1   </td><td> 90 </td><td> 87 </td><td> 92 </td><td>344 </td><td>184 </td><td> 848</td><td> 184</td><td>1   </td></tr>\n",
       "\t<tr><td>169 </td><td> 98 </td><td>101 </td><td> 90 </td><td> 96 </td><td>  95</td><td> 185</td><td>141 </td><td> 68 </td><td> 85 </td><td>⋯   </td><td>1   </td><td>1   </td><td>169 </td><td> 98 </td><td>101 </td><td> 90 </td><td> 96 </td><td>  95</td><td> 185</td><td>1   </td></tr>\n",
       "\t<tr><td>775 </td><td>765 </td><td>935 </td><td>806 </td><td>912 </td><td>1095</td><td>1198</td><td>614 </td><td>588 </td><td>751 </td><td>⋯   </td><td>1   </td><td>1   </td><td>775 </td><td>765 </td><td>935 </td><td>806 </td><td>912 </td><td>1095</td><td>1198</td><td>1   </td></tr>\n",
       "</tbody>\n",
       "</table>\n"
      ],
      "text/latex": [
       "\\begin{tabular}{r|llllllllllllllllllllllllllllllllllllllllllllllllllllllllllllllllllllllllllllll}\n",
       " NCD\\_.0. & NCD\\_.1. & NCD\\_.2. & NCD\\_.3. & NCD\\_.4. & NCD\\_.5. & NCD\\_.6. & AI\\_.0. & AI\\_.1. & AI\\_.2. & ⋯ & ADL\\_.5. & ADL\\_.6. & NAD\\_.0. & NAD\\_.1. & NAD\\_.2. & NAD\\_.3. & NAD\\_.4. & NAD\\_.5. & NAD\\_.6. & Buzz\\\\\n",
       "\\hline\n",
       "\t 889  & 939  & 960  & 805  & 805  & 1143 & 1121 & 549  & 613  & 587  & ⋯    & 1    & 1    & 889  & 939  & 960  & 805  & 805  & 1143 & 1121 & 1   \\\\\n",
       "\t 542  & 473  & 504  & 626  & 647  &  795 &  832 & 366  & 288  & 318  & ⋯    & 1    & 1    & 542  & 473  & 504  & 626  & 647  &  795 &  832 & 1   \\\\\n",
       "\t  92  &  99  & 196  & 100  & 184  &   79 &  162 &  66  &  59  & 118  & ⋯    & 1    & 1    &  92  &  99  & 196  & 100  & 184  &   79 &  162 & 0   \\\\\n",
       "\t  90  &  87  &  92  & 344  & 184  &  848 &  184 &  83  &  78  &  76  & ⋯    & 1    & 1    &  90  &  87  &  92  & 344  & 184  &  848 &  184 & 1   \\\\\n",
       "\t 169  &  98  & 101  &  90  &  96  &   95 &  185 & 141  &  68  &  85  & ⋯    & 1    & 1    & 169  &  98  & 101  &  90  &  96  &   95 &  185 & 1   \\\\\n",
       "\t 775  & 765  & 935  & 806  & 912  & 1095 & 1198 & 614  & 588  & 751  & ⋯    & 1    & 1    & 775  & 765  & 935  & 806  & 912  & 1095 & 1198 & 1   \\\\\n",
       "\\end{tabular}\n"
      ],
      "text/markdown": [
       "\n",
       "NCD_.0. | NCD_.1. | NCD_.2. | NCD_.3. | NCD_.4. | NCD_.5. | NCD_.6. | AI_.0. | AI_.1. | AI_.2. | ⋯ | ADL_.5. | ADL_.6. | NAD_.0. | NAD_.1. | NAD_.2. | NAD_.3. | NAD_.4. | NAD_.5. | NAD_.6. | Buzz | \n",
       "|---|---|---|---|---|---|\n",
       "| 889  | 939  | 960  | 805  | 805  | 1143 | 1121 | 549  | 613  | 587  | ⋯    | 1    | 1    | 889  | 939  | 960  | 805  | 805  | 1143 | 1121 | 1    | \n",
       "| 542  | 473  | 504  | 626  | 647  |  795 |  832 | 366  | 288  | 318  | ⋯    | 1    | 1    | 542  | 473  | 504  | 626  | 647  |  795 |  832 | 1    | \n",
       "|  92  |  99  | 196  | 100  | 184  |   79 |  162 |  66  |  59  | 118  | ⋯    | 1    | 1    |  92  |  99  | 196  | 100  | 184  |   79 |  162 | 0    | \n",
       "|  90  |  87  |  92  | 344  | 184  |  848 |  184 |  83  |  78  |  76  | ⋯    | 1    | 1    |  90  |  87  |  92  | 344  | 184  |  848 |  184 | 1    | \n",
       "| 169  |  98  | 101  |  90  |  96  |   95 |  185 | 141  |  68  |  85  | ⋯    | 1    | 1    | 169  |  98  | 101  |  90  |  96  |   95 |  185 | 1    | \n",
       "| 775  | 765  | 935  | 806  | 912  | 1095 | 1198 | 614  | 588  | 751  | ⋯    | 1    | 1    | 775  | 765  | 935  | 806  | 912  | 1095 | 1198 | 1    | \n",
       "\n",
       "\n"
      ],
      "text/plain": [
       "  NCD_.0. NCD_.1. NCD_.2. NCD_.3. NCD_.4. NCD_.5. NCD_.6. AI_.0. AI_.1. AI_.2.\n",
       "1 889     939     960     805     805     1143    1121    549    613    587   \n",
       "2 542     473     504     626     647      795     832    366    288    318   \n",
       "3  92      99     196     100     184       79     162     66     59    118   \n",
       "4  90      87      92     344     184      848     184     83     78     76   \n",
       "5 169      98     101      90      96       95     185    141     68     85   \n",
       "6 775     765     935     806     912     1095    1198    614    588    751   \n",
       "  ⋯ ADL_.5. ADL_.6. NAD_.0. NAD_.1. NAD_.2. NAD_.3. NAD_.4. NAD_.5. NAD_.6.\n",
       "1 ⋯ 1       1       889     939     960     805     805     1143    1121   \n",
       "2 ⋯ 1       1       542     473     504     626     647      795     832   \n",
       "3 ⋯ 1       1        92      99     196     100     184       79     162   \n",
       "4 ⋯ 1       1        90      87      92     344     184      848     184   \n",
       "5 ⋯ 1       1       169      98     101      90      96       95     185   \n",
       "6 ⋯ 1       1       775     765     935     806     912     1095    1198   \n",
       "  Buzz\n",
       "1 1   \n",
       "2 1   \n",
       "3 0   \n",
       "4 1   \n",
       "5 1   \n",
       "6 1   "
      ]
     },
     "metadata": {},
     "output_type": "display_data"
    }
   ],
   "source": [
    "head(table)"
   ]
  },
  {
   "cell_type": "code",
   "execution_count": 71,
   "metadata": {
    "collapsed": false,
    "scrolled": true
   },
   "outputs": [
    {
     "data": {
      "image/png": "[encoded data removed]",
      "text/plain": [
       "Plot with title “Histogram of table$Buzz”"
      ]
     },
     "metadata": {},
     "output_type": "display_data"
    }
   ],
   "source": [
    "hist(table$Buzz,density = 70,axes = FALSE,freq=TRUE,labels = c('Non_buzz','buzz'))"
   ]
  },
  {
   "cell_type": "code",
   "execution_count": 64,
   "metadata": {
    "collapsed": true
   },
   "outputs": [],
   "source": [
    "?hist"
   ]
  },
  {
   "cell_type": "code",
   "execution_count": 82,
   "metadata": {
    "collapsed": false
   },
   "outputs": [
    {
     "ename": "ERROR",
     "evalue": "Error: ggplot2 doesn't know how to deal with data of class uneval\n",
     "output_type": "error",
     "traceback": [
      "Error: ggplot2 doesn't know how to deal with data of class uneval\nTraceback:\n",
      "1. ggplot(aes(x = factor(x = table$Buzz, labels = c(\"No\", \"Yes\"))))",
      "2. ggplot.default(aes(x = factor(x = table$Buzz, labels = c(\"No\", \n .     \"Yes\"))))",
      "3. ggplot.data.frame(fortify(data, ...), mapping, environment = environment)",
      "4. structure(list(data = data, layers = list(), scales = scales_list(), \n .     mapping = mapping, theme = list(), coordinates = coord_cartesian(), \n .     facet = facet_null(), plot_env = environment), class = c(\"gg\", \n .     \"ggplot\"))",
      "5. fortify(data, ...)",
      "6. fortify.default(data, ...)",
      "7. stop(\"ggplot2 doesn't know how to deal with data of class \", \n .     paste(class(model), collapse = \"/\"), call. = FALSE)"
     ]
    }
   ],
   "source": [
    "ggplot(aes(x= factor(x = table$Buzz, labels = c( 'No','Yes'))))# + geom_bar() + xlab('Remodeled') + theme_light() "
   ]
  },
  {
   "cell_type": "code",
   "execution_count": 75,
   "metadata": {
    "collapsed": false
   },
   "outputs": [
    {
     "ename": "ERROR",
     "evalue": "Error in load.library(ggplot2): could not find function \"load.library\"\n",
     "output_type": "error",
     "traceback": [
      "Error in load.library(ggplot2): could not find function \"load.library\"\nTraceback:\n"
     ]
    }
   ],
   "source": [
    "load.libraries(ggplot2)"
   ]
  },
  {
   "cell_type": "code",
   "execution_count": 76,
   "metadata": {
    "collapsed": true
   },
   "outputs": [],
   "source": [
    ".First <- function() {\n",
    "  options(width=70)\n",
    "  options(useFancyQuotes=FALSE)\n",
    "  require(ascii)\n",
    "  require(xtable)\n",
    "  require(ggplot2)\n",
    "  require(scales)\n",
    "  require(reshape2)\n",
    "  require(plyr)\n",
    "  theme_set(theme_bw())\n",
    "  png <<- function(res=96, width=500, height=300, ...) grDevices::png(res=res, width=width, height=height, ...)\n",
    "}\n"
   ]
  },
  {
   "cell_type": "code",
   "execution_count": 77,
   "metadata": {
    "collapsed": false
   },
   "outputs": [
    {
     "name": "stderr",
     "output_type": "stream",
     "text": [
      "Loading required package: ascii\n",
      "Warning message in library(package, lib.loc = lib.loc, character.only = TRUE, logical.return = TRUE, :\n",
      "\"there is no package called 'ascii'\"Loading required package: xtable\n",
      "Warning message in library(package, lib.loc = lib.loc, character.only = TRUE, logical.return = TRUE, :\n",
      "\"there is no package called 'xtable'\"Loading required package: ggplot2\n",
      "Loading required package: scales\n",
      "Loading required package: reshape2\n",
      "Loading required package: plyr\n"
     ]
    },
    {
     "ename": "ERROR",
     "evalue": "Error in .First(): cannot change value of locked binding for 'png'\n",
     "output_type": "error",
     "traceback": [
      "Error in .First(): cannot change value of locked binding for 'png'\nTraceback:\n",
      "1. .First()"
     ]
    }
   ],
   "source": [
    ".First()"
   ]
  },
  {
   "cell_type": "code",
   "execution_count": 81,
   "metadata": {
    "collapsed": false
   },
   "outputs": [
    {
     "name": "stderr",
     "output_type": "stream",
     "text": [
      "Installing package into '/home/livingstonegcs/R/x86_64-pc-linux-gnu-library/3.4'\n",
      "(as 'lib' is unspecified)\n"
     ]
    }
   ],
   "source": [
    "install.packages(\"ggplot2\")"
   ]
  },
  {
   "cell_type": "code",
   "execution_count": null,
   "metadata": {
    "collapsed": true
   },
   "outputs": [],
   "source": [
    "?ggplot"
   ]
  },
  {
   "cell_type": "code",
   "execution_count": 104,
   "metadata": {
    "collapsed": false
   },
   "outputs": [],
   "source": [
    "# Generate some sample data, then compute mean and standard deviation\n",
    "# in each group\n",
    "df <- data.frame( gp = factor(rep(letters[1:3], each = 10)), y = rnorm(30))"
   ]
  },
  {
   "cell_type": "code",
   "execution_count": 95,
   "metadata": {
    "collapsed": false
   },
   "outputs": [],
   "source": [
    "ds <- plyr::ddply(df, \"gp\", plyr::summarise, mean = mean(y), sd = sd(y))"
   ]
  },
  {
   "cell_type": "code",
   "execution_count": 116,
   "metadata": {
    "collapsed": false
   },
   "outputs": [
    {
     "data": {},
     "metadata": {},
     "output_type": "display_data"
    },
    {
     "data": {
      "text/plain": [
       "mapping: x = Buzz, y = NAD_.4. \n",
       "geom_point: na.rm = FALSE\n",
       "stat_identity: na.rm = FALSE\n",
       "position_identity "
      ]
     },
     "metadata": {},
     "output_type": "display_data"
    },
    {
     "data": {
      "image/png": "[encoded data removed]",
      "text/plain": [
       "plot without title"
      ]
     },
     "metadata": {},
     "output_type": "display_data"
    }
   ],
   "source": [
    "ggplot(table,aes(Buzz,NAD_.4.))\n",
    "    geom_point(aes(Buzz,NAD_.4.))\n",
    "    #    geom_point(data = table, aes(table$Buzz, mean), colour = 'red', size = 3)\n"
   ]
  },
  {
   "cell_type": "code",
   "execution_count": 96,
   "metadata": {
    "collapsed": false
   },
   "outputs": [
    {
     "data": {},
     "metadata": {},
     "output_type": "display_data"
    },
    {
     "data": {},
     "metadata": {},
     "output_type": "display_data"
    },
    {
     "data": {
      "image/png": "[encoded data removed]",
      "text/plain": [
       "plot without title"
      ]
     },
     "metadata": {},
     "output_type": "display_data"
    },
    {
     "name": "stderr",
     "output_type": "stream",
     "text": [
      "Warning message:\n",
      "\"Ignoring unknown aesthetics: y\""
     ]
    },
    {
     "data": {},
     "metadata": {},
     "output_type": "display_data"
    },
    {
     "data": {
      "image/png": "[encoded data removed]",
      "text/plain": [
       "plot without title"
      ]
     },
     "metadata": {},
     "output_type": "display_data"
    },
    {
     "data": {
      "image/png": "[encoded data removed]",
      "text/plain": [
       "plot without title"
      ]
     },
     "metadata": {},
     "output_type": "display_data"
    }
   ],
   "source": [
    "\n",
    "\n",
    "# The summary data frame ds is used to plot larger red points on top\n",
    "# of the raw data. Note that we don't need to supply `data` or `mapping`\n",
    "# in each layer because the defaults from ggplot() are used.\n",
    "ggplot(df, aes(gp, y)) +\n",
    "  geom_point() +\n",
    "  geom_point(data = ds, aes(y = mean), colour = 'red', size = 3)\n",
    "\n",
    "# Same plot as above, declaring only the data frame in ggplot().\n",
    "# Note how the x and y aesthetics must now be declared in\n",
    "# each geom_point() layer.\n",
    "ggplot(df) +\n",
    "  geom_point(aes(gp, y)) +\n",
    "  geom_point(data = ds, aes(gp, mean), colour = 'red', size = 3)\n",
    "\n",
    "# Alternatively we can fully specify the plot in each layer. This\n",
    "# is not useful here, but can be more clear when working with complex\n",
    "# mult-dataset graphics\n",
    "ggplot() +\n",
    "  geom_point(data = df, aes(gp, y)) +\n",
    "  geom_point(data = ds, aes(gp, mean), colour = 'red', size = 3) +\n",
    "  geom_errorbar(\n",
    "    data = ds,\n",
    "    aes(gp, mean, ymin = mean - sd, ymax = mean + sd),\n",
    "    colour = 'red',\n",
    "    width = 0.4\n",
    "  )\n"
   ]
  },
  {
   "cell_type": "code",
   "execution_count": 117,
   "metadata": {
    "collapsed": false
   },
   "outputs": [
    {
     "name": "stderr",
     "output_type": "stream",
     "text": [
      "Installing package into '/home/livingstonegcs/R/x86_64-pc-linux-gnu-library/3.4'\n",
      "(as 'lib' is unspecified)\n",
      "also installing the dependencies 'highr', 'markdown', 'bitops', 'backports', 'knitr', 'yaml', 'htmltools', 'caTools', 'base64enc', 'rprojroot'\n",
      "\n"
     ]
    }
   ],
   "source": [
    "install.packages(\"rmarkdown\")"
   ]
  },
  {
   "cell_type": "code",
   "execution_count": null,
   "metadata": {
    "collapsed": false
   },
   "outputs": [
    {
     "name": "stderr",
     "output_type": "stream",
     "text": [
      "Installing package into ‘/home/livingstonegcs/R/x86_64-pc-linux-gnu-library/3.4’\n",
      "(as ‘lib’ is unspecified)\n",
      "also installing the dependencies ‘nloptr’, ‘RcppEigen’, ‘lme4’, ‘SparseM’, ‘MatrixModels’, ‘zoo’, ‘pbkrtest’, ‘quantreg’, ‘DEoptimR’, ‘lmtest’, ‘car’, ‘robustbase’, ‘sp’, ‘vcd’, ‘e1071’, ‘laeken’\n",
      "\n"
     ]
    }
   ],
   "source": [
    "install.packages(\"VIM\")"
   ]
  },
  {
   "cell_type": "code",
   "execution_count": 1,
   "metadata": {
    "collapsed": false
   },
   "outputs": [
    {
     "name": "stderr",
     "output_type": "stream",
     "text": [
      "Installing package into ‘/home/livingstonegcs/R/x86_64-pc-linux-gnu-library/3.4’\n",
      "(as ‘lib’ is unspecified)\n",
      "Warning message in install.packages(\"nloptr\"):\n",
      "“installation of package ‘nloptr’ had non-zero exit status”"
     ]
    }
   ],
   "source": [
    "install.packages('nloptr')"
   ]
  },
  {
   "cell_type": "code",
   "execution_count": 2,
   "metadata": {
    "collapsed": false
   },
   "outputs": [
    {
     "name": "stderr",
     "output_type": "stream",
     "text": [
      "Installing package into ‘/home/livingstonegcs/R/x86_64-pc-linux-gnu-library/3.4’\n",
      "(as ‘lib’ is unspecified)\n"
     ]
    }
   ],
   "source": [
    "install.packages('RcppEigen')"
   ]
  },
  {
   "cell_type": "code",
   "execution_count": null,
   "metadata": {
    "collapsed": true
   },
   "outputs": [],
   "source": [
    "install.packages"
   ]
  }
 ],
 "metadata": {
  "kernelspec": {
   "display_name": "R",
   "language": "R",
   "name": "ir"
  },
  "language_info": {
   "codemirror_mode": "r",
   "file_extension": ".r",
   "mimetype": "text/x-r-source",
   "name": "R",
   "pygments_lexer": "r",
   "version": "3.4.1"
  }
 },
 "nbformat": 4,
 "nbformat_minor": 2
}
