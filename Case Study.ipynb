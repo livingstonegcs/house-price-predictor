{
 "cells": [
  {
   "cell_type": "markdown",
   "metadata": {},
   "source": [
    "\n",
    "\n",
    "<center><u><h1> A Data Analytic Case study using R</h1></u></center>\n",
    "<br>\n",
    "<br>\n",
    "<center><h2> Data-set : <font color=\"BLACK\"> AMES HOUSE PRICES</font> </h2></center>\n",
    "<center><h3> Data-set Info :: The Dataset contains information from the Ames Assessor’s Office used in computing assessed values for residential(housing) properties sold in Ames(2006 to 2010). </h3></center>\n",
    "<br>\n",
    "<br>\n",
    "<br>\n",
    "<center>\n",
    "<h2> <font color='darkblue'>Contributers of the Project</font> </h2>\n",
    "<h3> B. Kiran - (201511726)<br><br>\n",
    "Rukmani Sahu - (201511710)<br><br>\n",
    "B. Hemant Reddy - (201512700)<br><br>\n",
    "GCS Living Stone - (201518579) <br><br></h3> </center>\n",
    "<center><h3> <font color='darkblue'>Under the Guidance of :</font>Dr. Shom Prasad Das, Prof. N. Sangita Acharya</h3></center>\n",
    "<br>\n",
    "<br>\n",
    "<br>\n",
    "<br>\n",
    "<br>\n",
    "<br>\n",
    "<br>\n",
    "<br>"
   ]
  },
  {
   "cell_type": "markdown",
   "metadata": {},
   "source": [
    "# Contents:\n",
    "## 1. Problem Statement and View of Dataset \n",
    "* ** 1.1 Problem statement **\n",
    "* ** 1.2 Glimpse of data-set **\n",
    "* ** 1.3 Some basic plots **\n",
    "* ** 1.4 Real world application of the problem **\n",
    "\n",
    "## 2. Data Exploration\n",
    "* ** 2.1 Variable Identification **\n",
    "* ** 2.2 Univariate Analysis **\n",
    "\n",
    "## 3. Missing value Treatment\n",
    "* ** 3.1 Checking missing values**\n",
    "* ** 3.2 Imputing values **\n",
    "\n",
    "## 4. Data Exploration (Part-2)\n",
    "* ** 4.1 Bi-Variate Analysis **\n",
    "* ** 4.2 Multivariate Analysis and outliers**\n",
    "* ** 4.3 Conclusion of analysis**\n",
    "\n",
    "## 5. Modeling \n",
    "* ** 5.1 Evaluation Metric **\n",
    "* ** 5.2 Fitting Un-modeled data **\n",
    "* ** 5.3 Fitting modeled data **\n",
    "* ** 5.4 Comparing Results **\n",
    "\n",
    "## 6. Extra work and Extensions\n",
    "* ** 6.1 Transforming dataset **\n",
    "* ** 6.2 10-fold Cross Validation **\n",
    "* ** 6.3 Further work scope **\n"
   ]
  },
  {
   "cell_type": "markdown",
   "metadata": {},
   "source": [
    "## <font color=\"darkblue\"> 1. Problem Statement</font> :  Prediction of house prices of Ames based on the details of a residential properties of Ames\n",
    "<big><big> <u>Explaination</u> : The data set contains the details of residential attributes/properties of the house price of ames collected through the Ames Assessor's Office containing the information about the houses sold in from year 2006 to year 2010. Given the mentioned dataset we have to predict the prices of the houses.</big></big>\n",
    "<br>\n",
    "<br>\n",
    "##  <font color=\"darkblue\"> Glimpse of Data-set : </font> \n",
    "### 1. Problem Type :: Regression Problem(Multiple Regression)\n",
    "### 2. Number of Instances :: 1460 \n",
    "### 3. Number of attributes :: \n",
    " * ** Input Variables = 80 **\n",
    " * ** Output Variable = 1 **\n",
    " \n",
    "### 4. Attributes type :: Multivariate type of variables\n",
    " * ** Number of Nominal Categorical variable = 23 **\n",
    " * ** Number of Ordinal Categorical variable = 23 **\n",
    " * ** Number of Discrete value variable = 14 **\n",
    " * ** Number of Continuous value variable = 20 **\n",
    "\n",
    "### 5. Missing value :: There are presence of missing value  \n",
    "<br>\n",
    "<br>\n",
    "<br>\n",
    "<br>\n",
    "<br>\n",
    "<br>\n",
    "<br>\n",
    "<br>"
   ]
  },
  {
   "cell_type": "markdown",
   "metadata": {
    "collapsed": true
   },
   "source": [
    "## Data sets various attributes\n",
    " ** A brief descriptive sight of what we would find in the data set. **\n",
    "\n",
    " *  ** SalePrice - the property's sale price in dollars. This is the target variable that you're trying to predict.**\n",
    " *  ** MSSubClass: The building class **\n",
    " *  **  MSZoning: The general zoning classification **\n",
    " *  ** LotFrontage: Linear feet of street connected to property **\n",
    " *  **    LotArea: Lot size in square feet **\n",
    " *  **   Street: Type of road access**\n",
    " *  **   Alley: Type of alley access**\n",
    " *  **     LotShape: General shape of property**\n",
    " *  **    LandContour: Flatness of the property**\n",
    " *  **     Utilities: Type of utilities available**\n",
    " *  **     LotConfig: Lot configuration**\n",
    " *  **     LandSlope: Slope of property**\n",
    " *  **    Neighborhood: Physical locations within Ames city limits**\n",
    " *  **   Condition1: Proximity to main road or railroad**\n",
    " *  **     Condition2: Proximity to main road or railroad (if a second is present)**\n",
    " *  **     BldgType: Type of dwelling**\n",
    " *  **     HouseStyle: Style of dwelling**\n",
    " *  **     OverallQual: Overall material and finish quality**\n",
    " *  **     OverallCond: Overall condition rating**\n",
    " *  **     YearBuilt: Original construction date**\n",
    " *  **     YearRemodAdd: Remodel date**\n",
    " *  **     RoofStyle: Type of roof**\n",
    " *  **     RoofMatl: Roof material**\n",
    " *  **     Exterior1st: Exterior covering on house**\n",
    " *  **     Exterior2nd: Exterior covering on house (if more than one material)**\n",
    " *  **     MasVnrType: Masonry veneer type**\n",
    " *  **     MasVnrArea: Masonry veneer area in square feet**\n",
    " *  **     ExterQual: Exterior material quality**\n",
    " *  **     ExterCond: Present condition of the material on the exterior**\n",
    " *  **     Foundation: Type of foundation**\n",
    " *  **     BsmtQual: Height of the basement**\n",
    " *  **     BsmtCond: General condition of the basement**\n",
    " *  **     BsmtExposure: Walkout or garden level basement walls**\n",
    " *  **     BsmtFinType1: Quality of basement finished area**\n",
    " *  **     BsmtFinSF1: Type 1 finished square feet**\n",
    " *  **     BsmtFinType2: Quality of second finished area (if present)**\n",
    " *  **     BsmtFinSF2: Type 2 finished square feet**\n",
    " *  **     BsmtUnfSF: Unfinished square feet of basement area**\n",
    " *  **     TotalBsmtSF: Total square feet of basement area**\n",
    " *  **     Heating: Type of heating**\n",
    " *  **     HeatingQC: Heating quality and condition**\n",
    " *  **     CentralAir: Central air conditioning**\n",
    " *  **     Electrical: Electrical system**\n",
    " *  **     1stFlrSF: First Floor square feet**\n",
    " *  **     2ndFlrSF: Second floor square feet**\n",
    " *  **     LowQualFinSF: Low quality finished square feet (all floors)**\n",
    " *  **    GrLivArea: Above grade (ground) living area square feet**\n",
    " *  **     BsmtFullBath: Basement full bathrooms**\n",
    " *  **     BsmtHalfBath: Basement half bathrooms**\n",
    " *  **     FullBath: Full bathrooms above grade**\n",
    " *  **    HalfBath: Half baths above grade**\n",
    " *  **    Bedroom: Number of bedrooms above basement level**\n",
    " *  **     Kitchen: Number of kitchens**\n",
    " *  **     KitchenQual: Kitchen quality**\n",
    " *  **     TotRmsAbvGrd: Total rooms above grade (does not include bathrooms)**\n",
    " *  **     Functional: Home functionality rating**\n",
    " *  **     Fireplaces: Number of fireplaces**\n",
    " *  **     FireplaceQu: Fireplace quality**\n",
    " *  **     GarageType: Garage location**\n",
    " *  **     GarageYrBlt: Year garage was built**\n",
    " *  **     GarageFinish: Interior finish of the garage**\n",
    " *  **     GarageCars: Size of garage in car capacity**\n",
    " *  **     GarageArea: Size of garage in square feet**\n",
    " *  **     GarageQual: Garage quality**\n",
    " *  **     GarageCond: Garage condition**\n",
    " *  **     PavedDrive: Paved driveway**\n",
    " *  **     WoodDeckSF: Wood deck area in square feet**\n",
    " *  **     OpenPorchSF: Open porch area in square feet**\n",
    " *  **     EnclosedPorch: Enclosed porch area in square feet**\n",
    " *  **     3SsnPorch: Three season porch area in square feet**\n",
    " *  **     ScreenPorch: Screen porch area in square feet**\n",
    " *  **     PoolArea: Pool area in square feet**\n",
    " *  **     PoolQC: Pool quality**\n",
    " *  **     Fence: Fence quality**\n",
    " *  **     MiscFeature: Miscellaneous feature not covered in other categories**\n",
    " *  **     MiscVal: Value of miscellaneous feature**\n",
    " *  **    MoSold: Month Sold**\n",
    " *  **    YrSold: Year Sold**\n",
    " *  **    SaleType: Type of sale**\n",
    " *  **    SaleCondition: Condition of sale**\n"
   ]
  },
  {
   "cell_type": "code",
   "execution_count": 1,
   "metadata": {
    "collapsed": true
   },
   "outputs": [],
   "source": [
    "train_df = read.csv('train.csv',sep=\",\")"
   ]
  },
  {
   "cell_type": "code",
   "execution_count": 6,
   "metadata": {
    "collapsed": false
   },
   "outputs": [
    {
     "data": {
      "text/html": [
       "<table>\n",
       "<thead><tr><th scope=col>Id</th><th scope=col>MSSubClass</th><th scope=col>MSZoning</th><th scope=col>LotFrontage</th><th scope=col>LotArea</th><th scope=col>Street</th><th scope=col>Alley</th><th scope=col>LotShape</th><th scope=col>LandContour</th><th scope=col>Utilities</th><th scope=col>⋯</th><th scope=col>PoolArea</th><th scope=col>PoolQC</th><th scope=col>Fence</th><th scope=col>MiscFeature</th><th scope=col>MiscVal</th><th scope=col>MoSold</th><th scope=col>YrSold</th><th scope=col>SaleType</th><th scope=col>SaleCondition</th><th scope=col>SalePrice</th></tr></thead>\n",
       "<tbody>\n",
       "\t<tr><td>1      </td><td>60     </td><td>RL     </td><td>65     </td><td> 8450  </td><td>Pave   </td><td>NA     </td><td>Reg    </td><td>Lvl    </td><td>AllPub </td><td>⋯      </td><td>0      </td><td>NA     </td><td>NA     </td><td>NA     </td><td>  0    </td><td> 2     </td><td>2008   </td><td>WD     </td><td>Normal </td><td>208500 </td></tr>\n",
       "\t<tr><td>2      </td><td>20     </td><td>RL     </td><td>80     </td><td> 9600  </td><td>Pave   </td><td>NA     </td><td>Reg    </td><td>Lvl    </td><td>AllPub </td><td>⋯      </td><td>0      </td><td>NA     </td><td>NA     </td><td>NA     </td><td>  0    </td><td> 5     </td><td>2007   </td><td>WD     </td><td>Normal </td><td>181500 </td></tr>\n",
       "\t<tr><td>3      </td><td>60     </td><td>RL     </td><td>68     </td><td>11250  </td><td>Pave   </td><td>NA     </td><td>IR1    </td><td>Lvl    </td><td>AllPub </td><td>⋯      </td><td>0      </td><td>NA     </td><td>NA     </td><td>NA     </td><td>  0    </td><td> 9     </td><td>2008   </td><td>WD     </td><td>Normal </td><td>223500 </td></tr>\n",
       "\t<tr><td>4      </td><td>70     </td><td>RL     </td><td>60     </td><td> 9550  </td><td>Pave   </td><td>NA     </td><td>IR1    </td><td>Lvl    </td><td>AllPub </td><td>⋯      </td><td>0      </td><td>NA     </td><td>NA     </td><td>NA     </td><td>  0    </td><td> 2     </td><td>2006   </td><td>WD     </td><td>Abnorml</td><td>140000 </td></tr>\n",
       "\t<tr><td>5      </td><td>60     </td><td>RL     </td><td>84     </td><td>14260  </td><td>Pave   </td><td>NA     </td><td>IR1    </td><td>Lvl    </td><td>AllPub </td><td>⋯      </td><td>0      </td><td>NA     </td><td>NA     </td><td>NA     </td><td>  0    </td><td>12     </td><td>2008   </td><td>WD     </td><td>Normal </td><td>250000 </td></tr>\n",
       "\t<tr><td>6      </td><td>50     </td><td>RL     </td><td>85     </td><td>14115  </td><td>Pave   </td><td>NA     </td><td>IR1    </td><td>Lvl    </td><td>AllPub </td><td>⋯      </td><td>0      </td><td>NA     </td><td>MnPrv  </td><td>Shed   </td><td>700    </td><td>10     </td><td>2009   </td><td>WD     </td><td>Normal </td><td>143000 </td></tr>\n",
       "</tbody>\n",
       "</table>\n"
      ],
      "text/latex": [
       "\\begin{tabular}{r|lllllllllllllllllllllllllllllllllllllllllllllllllllllllllllllllllllllllllllllllll}\n",
       " Id & MSSubClass & MSZoning & LotFrontage & LotArea & Street & Alley & LotShape & LandContour & Utilities & ⋯ & PoolArea & PoolQC & Fence & MiscFeature & MiscVal & MoSold & YrSold & SaleType & SaleCondition & SalePrice\\\\\n",
       "\\hline\n",
       "\t 1       & 60      & RL      & 65      &  8450   & Pave    & NA      & Reg     & Lvl     & AllPub  & ⋯       & 0       & NA      & NA      & NA      &   0     &  2      & 2008    & WD      & Normal  & 208500 \\\\\n",
       "\t 2       & 20      & RL      & 80      &  9600   & Pave    & NA      & Reg     & Lvl     & AllPub  & ⋯       & 0       & NA      & NA      & NA      &   0     &  5      & 2007    & WD      & Normal  & 181500 \\\\\n",
       "\t 3       & 60      & RL      & 68      & 11250   & Pave    & NA      & IR1     & Lvl     & AllPub  & ⋯       & 0       & NA      & NA      & NA      &   0     &  9      & 2008    & WD      & Normal  & 223500 \\\\\n",
       "\t 4       & 70      & RL      & 60      &  9550   & Pave    & NA      & IR1     & Lvl     & AllPub  & ⋯       & 0       & NA      & NA      & NA      &   0     &  2      & 2006    & WD      & Abnorml & 140000 \\\\\n",
       "\t 5       & 60      & RL      & 84      & 14260   & Pave    & NA      & IR1     & Lvl     & AllPub  & ⋯       & 0       & NA      & NA      & NA      &   0     & 12      & 2008    & WD      & Normal  & 250000 \\\\\n",
       "\t 6       & 50      & RL      & 85      & 14115   & Pave    & NA      & IR1     & Lvl     & AllPub  & ⋯       & 0       & NA      & MnPrv   & Shed    & 700     & 10      & 2009    & WD      & Normal  & 143000 \\\\\n",
       "\\end{tabular}\n"
      ],
      "text/markdown": [
       "\n",
       "Id | MSSubClass | MSZoning | LotFrontage | LotArea | Street | Alley | LotShape | LandContour | Utilities | ⋯ | PoolArea | PoolQC | Fence | MiscFeature | MiscVal | MoSold | YrSold | SaleType | SaleCondition | SalePrice | \n",
       "|---|---|---|---|---|---|\n",
       "| 1       | 60      | RL      | 65      |  8450   | Pave    | NA      | Reg     | Lvl     | AllPub  | ⋯       | 0       | NA      | NA      | NA      |   0     |  2      | 2008    | WD      | Normal  | 208500  | \n",
       "| 2       | 20      | RL      | 80      |  9600   | Pave    | NA      | Reg     | Lvl     | AllPub  | ⋯       | 0       | NA      | NA      | NA      |   0     |  5      | 2007    | WD      | Normal  | 181500  | \n",
       "| 3       | 60      | RL      | 68      | 11250   | Pave    | NA      | IR1     | Lvl     | AllPub  | ⋯       | 0       | NA      | NA      | NA      |   0     |  9      | 2008    | WD      | Normal  | 223500  | \n",
       "| 4       | 70      | RL      | 60      |  9550   | Pave    | NA      | IR1     | Lvl     | AllPub  | ⋯       | 0       | NA      | NA      | NA      |   0     |  2      | 2006    | WD      | Abnorml | 140000  | \n",
       "| 5       | 60      | RL      | 84      | 14260   | Pave    | NA      | IR1     | Lvl     | AllPub  | ⋯       | 0       | NA      | NA      | NA      |   0     | 12      | 2008    | WD      | Normal  | 250000  | \n",
       "| 6       | 50      | RL      | 85      | 14115   | Pave    | NA      | IR1     | Lvl     | AllPub  | ⋯       | 0       | NA      | MnPrv   | Shed    | 700     | 10      | 2009    | WD      | Normal  | 143000  | \n",
       "\n",
       "\n"
      ],
      "text/plain": [
       "  Id MSSubClass MSZoning LotFrontage LotArea Street Alley LotShape LandContour\n",
       "1 1  60         RL       65           8450   Pave   NA    Reg      Lvl        \n",
       "2 2  20         RL       80           9600   Pave   NA    Reg      Lvl        \n",
       "3 3  60         RL       68          11250   Pave   NA    IR1      Lvl        \n",
       "4 4  70         RL       60           9550   Pave   NA    IR1      Lvl        \n",
       "5 5  60         RL       84          14260   Pave   NA    IR1      Lvl        \n",
       "6 6  50         RL       85          14115   Pave   NA    IR1      Lvl        \n",
       "  Utilities ⋯ PoolArea PoolQC Fence MiscFeature MiscVal MoSold YrSold SaleType\n",
       "1 AllPub    ⋯ 0        NA     NA    NA            0      2     2008   WD      \n",
       "2 AllPub    ⋯ 0        NA     NA    NA            0      5     2007   WD      \n",
       "3 AllPub    ⋯ 0        NA     NA    NA            0      9     2008   WD      \n",
       "4 AllPub    ⋯ 0        NA     NA    NA            0      2     2006   WD      \n",
       "5 AllPub    ⋯ 0        NA     NA    NA            0     12     2008   WD      \n",
       "6 AllPub    ⋯ 0        NA     MnPrv Shed        700     10     2009   WD      \n",
       "  SaleCondition SalePrice\n",
       "1 Normal        208500   \n",
       "2 Normal        181500   \n",
       "3 Normal        223500   \n",
       "4 Abnorml       140000   \n",
       "5 Normal        250000   \n",
       "6 Normal        143000   "
      ]
     },
     "metadata": {},
     "output_type": "display_data"
    }
   ],
   "source": [
    "head(train_df)"
   ]
  },
  {
   "cell_type": "markdown",
   "metadata": {},
   "source": [
    "## Frequency vs Sales range Plot"
   ]
  },
  {
   "cell_type": "markdown",
   "metadata": {
    "collapsed": true
   },
   "source": [
    "## A few basic plots"
   ]
  },
  {
   "cell_type": "markdown",
   "metadata": {},
   "source": [
    "<img src=\"categorical-3.png\">"
   ]
  },
  {
   "cell_type": "code",
   "execution_count": 2,
   "metadata": {
    "collapsed": false
   },
   "outputs": [
    {
     "data": {
      "image/png": "[encoded data removed]",
      "text/plain": [
       "Plot with title “Histogram of train_df$SalePrice”"
      ]
     },
     "metadata": {},
     "output_type": "display_data"
    }
   ],
   "source": [
    "hist(train_df$SalePrice,col = \"navyblue\",xlim=c(0,800000))"
   ]
  },
  {
   "cell_type": "markdown",
   "metadata": {},
   "source": [
    "## Applications in the real world:: \n",
    "\n",
    "### 1. Property value prediction \n",
    "### 2. Real Estate market\n",
    "* Predicting/Forecasting in buisness domains(Eg:Real Estate)\n",
    "\n",
    "### 3. Corelational analysis(Eg: b)\n",
    "\n",
    "### 4. Economical Status of a country’s property\n",
    "\n",
    "### 5. Optimization of resources\n",
    "\n",
    "\n",
    "### And so on"
   ]
  },
  {
   "cell_type": "markdown",
   "metadata": {},
   "source": [
    "# ---------------------------------------------------------------------"
   ]
  },
  {
   "cell_type": "markdown",
   "metadata": {},
   "source": [
    "# 2. Data Exploration\n",
    "<br>\n",
    "<big><big>Here we load data into the the data frame and then explore the aspects of dataset </big></big>"
   ]
  },
  {
   "cell_type": "code",
   "execution_count": 1,
   "metadata": {
    "collapsed": true
   },
   "outputs": [],
   "source": [
    "#Reading the training data into data_\n",
    "\n",
    "data_ = read.csv('train.csv',sep=',')"
   ]
  },
  {
   "cell_type": "code",
   "execution_count": 2,
   "metadata": {
    "collapsed": false
   },
   "outputs": [
    {
     "data": {
      "text/html": [
       "<ol class=list-inline>\n",
       "\t<li>1460</li>\n",
       "\t<li>81</li>\n",
       "</ol>\n"
      ],
      "text/latex": [
       "\\begin{enumerate*}\n",
       "\\item 1460\n",
       "\\item 81\n",
       "\\end{enumerate*}\n"
      ],
      "text/markdown": [
       "1. 1460\n",
       "2. 81\n",
       "\n",
       "\n"
      ],
      "text/plain": [
       "[1] 1460   81"
      ]
     },
     "metadata": {},
     "output_type": "display_data"
    }
   ],
   "source": [
    "#data_ dimensions i.e No. of instances and no. of attributes\n",
    "\n",
    "dim(data_)"
   ]
  },
  {
   "cell_type": "code",
   "execution_count": 3,
   "metadata": {
    "collapsed": false
   },
   "outputs": [
    {
     "data": {
      "text/html": [
       "<table>\n",
       "<thead><tr><th scope=col>Id</th><th scope=col>MSSubClass</th><th scope=col>MSZoning</th><th scope=col>LotFrontage</th><th scope=col>LotArea</th><th scope=col>Street</th><th scope=col>Alley</th><th scope=col>LotShape</th><th scope=col>LandContour</th><th scope=col>Utilities</th><th scope=col>⋯</th><th scope=col>PoolArea</th><th scope=col>PoolQC</th><th scope=col>Fence</th><th scope=col>MiscFeature</th><th scope=col>MiscVal</th><th scope=col>MoSold</th><th scope=col>YrSold</th><th scope=col>SaleType</th><th scope=col>SaleCondition</th><th scope=col>SalePrice</th></tr></thead>\n",
       "<tbody>\n",
       "\t<tr><td>1      </td><td>60     </td><td>RL     </td><td>65     </td><td> 8450  </td><td>Pave   </td><td>NA     </td><td>Reg    </td><td>Lvl    </td><td>AllPub </td><td>⋯      </td><td>0      </td><td>NA     </td><td>NA     </td><td>NA     </td><td>0      </td><td>2      </td><td>2008   </td><td>WD     </td><td>Normal </td><td>208500 </td></tr>\n",
       "\t<tr><td>2      </td><td>20     </td><td>RL     </td><td>80     </td><td> 9600  </td><td>Pave   </td><td>NA     </td><td>Reg    </td><td>Lvl    </td><td>AllPub </td><td>⋯      </td><td>0      </td><td>NA     </td><td>NA     </td><td>NA     </td><td>0      </td><td>5      </td><td>2007   </td><td>WD     </td><td>Normal </td><td>181500 </td></tr>\n",
       "\t<tr><td>3      </td><td>60     </td><td>RL     </td><td>68     </td><td>11250  </td><td>Pave   </td><td>NA     </td><td>IR1    </td><td>Lvl    </td><td>AllPub </td><td>⋯      </td><td>0      </td><td>NA     </td><td>NA     </td><td>NA     </td><td>0      </td><td>9      </td><td>2008   </td><td>WD     </td><td>Normal </td><td>223500 </td></tr>\n",
       "\t<tr><td>4      </td><td>70     </td><td>RL     </td><td>60     </td><td> 9550  </td><td>Pave   </td><td>NA     </td><td>IR1    </td><td>Lvl    </td><td>AllPub </td><td>⋯      </td><td>0      </td><td>NA     </td><td>NA     </td><td>NA     </td><td>0      </td><td>2      </td><td>2006   </td><td>WD     </td><td>Abnorml</td><td>140000 </td></tr>\n",
       "</tbody>\n",
       "</table>\n"
      ],
      "text/latex": [
       "\\begin{tabular}{r|lllllllllllllllllllllllllllllllllllllllllllllllllllllllllllllllllllllllllllllllll}\n",
       " Id & MSSubClass & MSZoning & LotFrontage & LotArea & Street & Alley & LotShape & LandContour & Utilities & ⋯ & PoolArea & PoolQC & Fence & MiscFeature & MiscVal & MoSold & YrSold & SaleType & SaleCondition & SalePrice\\\\\n",
       "\\hline\n",
       "\t 1       & 60      & RL      & 65      &  8450   & Pave    & NA      & Reg     & Lvl     & AllPub  & ⋯       & 0       & NA      & NA      & NA      & 0       & 2       & 2008    & WD      & Normal  & 208500 \\\\\n",
       "\t 2       & 20      & RL      & 80      &  9600   & Pave    & NA      & Reg     & Lvl     & AllPub  & ⋯       & 0       & NA      & NA      & NA      & 0       & 5       & 2007    & WD      & Normal  & 181500 \\\\\n",
       "\t 3       & 60      & RL      & 68      & 11250   & Pave    & NA      & IR1     & Lvl     & AllPub  & ⋯       & 0       & NA      & NA      & NA      & 0       & 9       & 2008    & WD      & Normal  & 223500 \\\\\n",
       "\t 4       & 70      & RL      & 60      &  9550   & Pave    & NA      & IR1     & Lvl     & AllPub  & ⋯       & 0       & NA      & NA      & NA      & 0       & 2       & 2006    & WD      & Abnorml & 140000 \\\\\n",
       "\\end{tabular}\n"
      ],
      "text/markdown": [
       "\n",
       "Id | MSSubClass | MSZoning | LotFrontage | LotArea | Street | Alley | LotShape | LandContour | Utilities | ⋯ | PoolArea | PoolQC | Fence | MiscFeature | MiscVal | MoSold | YrSold | SaleType | SaleCondition | SalePrice | \n",
       "|---|---|---|---|\n",
       "| 1       | 60      | RL      | 65      |  8450   | Pave    | NA      | Reg     | Lvl     | AllPub  | ⋯       | 0       | NA      | NA      | NA      | 0       | 2       | 2008    | WD      | Normal  | 208500  | \n",
       "| 2       | 20      | RL      | 80      |  9600   | Pave    | NA      | Reg     | Lvl     | AllPub  | ⋯       | 0       | NA      | NA      | NA      | 0       | 5       | 2007    | WD      | Normal  | 181500  | \n",
       "| 3       | 60      | RL      | 68      | 11250   | Pave    | NA      | IR1     | Lvl     | AllPub  | ⋯       | 0       | NA      | NA      | NA      | 0       | 9       | 2008    | WD      | Normal  | 223500  | \n",
       "| 4       | 70      | RL      | 60      |  9550   | Pave    | NA      | IR1     | Lvl     | AllPub  | ⋯       | 0       | NA      | NA      | NA      | 0       | 2       | 2006    | WD      | Abnorml | 140000  | \n",
       "\n",
       "\n"
      ],
      "text/plain": [
       "  Id MSSubClass MSZoning LotFrontage LotArea Street Alley LotShape LandContour\n",
       "1 1  60         RL       65           8450   Pave   NA    Reg      Lvl        \n",
       "2 2  20         RL       80           9600   Pave   NA    Reg      Lvl        \n",
       "3 3  60         RL       68          11250   Pave   NA    IR1      Lvl        \n",
       "4 4  70         RL       60           9550   Pave   NA    IR1      Lvl        \n",
       "  Utilities ⋯ PoolArea PoolQC Fence MiscFeature MiscVal MoSold YrSold SaleType\n",
       "1 AllPub    ⋯ 0        NA     NA    NA          0       2      2008   WD      \n",
       "2 AllPub    ⋯ 0        NA     NA    NA          0       5      2007   WD      \n",
       "3 AllPub    ⋯ 0        NA     NA    NA          0       9      2008   WD      \n",
       "4 AllPub    ⋯ 0        NA     NA    NA          0       2      2006   WD      \n",
       "  SaleCondition SalePrice\n",
       "1 Normal        208500   \n",
       "2 Normal        181500   \n",
       "3 Normal        223500   \n",
       "4 Abnorml       140000   "
      ]
     },
     "metadata": {},
     "output_type": "display_data"
    }
   ],
   "source": [
    "#viewing some data from the starting rows\n",
    "\n",
    "head(data_,4)"
   ]
  },
  {
   "cell_type": "markdown",
   "metadata": {},
   "source": [
    "## 2.1. Variable Identification"
   ]
  },
  {
   "cell_type": "code",
   "execution_count": 4,
   "metadata": {
    "collapsed": false,
    "scrolled": true
   },
   "outputs": [
    {
     "name": "stdout",
     "output_type": "stream",
     "text": [
      "The column Names are:\n",
      "Id,  MSSubClass,  MSZoning,  LotFrontage,  LotArea,  Street,  Alley,  LotShape,  LandContour,  Utilities,  LotConfig,  LandSlope,  Neighborhood,  Condition1,  Condition2,  BldgType,  HouseStyle,  OverallQual,  OverallCond,  YearBuilt,  YearRemodAdd,  RoofStyle,  RoofMatl,  Exterior1st,  Exterior2nd,  MasVnrType,  MasVnrArea,  ExterQual,  ExterCond,  Foundation,  BsmtQual,  BsmtCond,  BsmtExposure,  BsmtFinType1,  BsmtFinSF1,  BsmtFinType2,  BsmtFinSF2,  BsmtUnfSF,  TotalBsmtSF,  Heating,  HeatingQC,  CentralAir,  Electrical,  X1stFlrSF,  X2ndFlrSF,  LowQualFinSF,  GrLivArea,  BsmtFullBath,  BsmtHalfBath,  FullBath,  HalfBath,  BedroomAbvGr,  KitchenAbvGr,  KitchenQual,  TotRmsAbvGrd,  Functional,  Fireplaces,  FireplaceQu,  GarageType,  GarageYrBlt,  GarageFinish,  GarageCars,  GarageArea,  GarageQual,  GarageCond,  PavedDrive,  WoodDeckSF,  OpenPorchSF,  EnclosedPorch,  X3SsnPorch,  ScreenPorch,  PoolArea,  PoolQC,  Fence,  MiscFeature,  MiscVal,  MoSold,  YrSold,  SaleType,  SaleCondition,  SalePrice"
     ]
    }
   ],
   "source": [
    "#Print column Names\n",
    "cat(\"The column Names are:\\n\");\n",
    "#print(colnames(data_));\n",
    "cat(colnames(data_),sep=\",  \");"
   ]
  },
  {
   "cell_type": "code",
   "execution_count": 5,
   "metadata": {
    "collapsed": false
   },
   "outputs": [
    {
     "data": {
      "text/html": [
       "'integer'"
      ],
      "text/latex": [
       "'integer'"
      ],
      "text/markdown": [
       "'integer'"
      ],
      "text/plain": [
       "[1] \"integer\""
      ]
     },
     "metadata": {},
     "output_type": "display_data"
    }
   ],
   "source": [
    "#Using this function we find the type of the variable\n",
    "\n",
    "class(data_$Id)"
   ]
  },
  {
   "cell_type": "code",
   "execution_count": 6,
   "metadata": {
    "collapsed": false
   },
   "outputs": [
    {
     "data": {
      "text/html": [
       "<dl class=dl-horizontal>\n",
       "\t<dt>Id</dt>\n",
       "\t\t<dd>'integer'</dd>\n",
       "\t<dt>MSSubClass</dt>\n",
       "\t\t<dd>'integer'</dd>\n",
       "\t<dt>MSZoning</dt>\n",
       "\t\t<dd>'factor'</dd>\n",
       "\t<dt>LotFrontage</dt>\n",
       "\t\t<dd>'integer'</dd>\n",
       "\t<dt>LotArea</dt>\n",
       "\t\t<dd>'integer'</dd>\n",
       "\t<dt>Street</dt>\n",
       "\t\t<dd>'factor'</dd>\n",
       "\t<dt>Alley</dt>\n",
       "\t\t<dd>'factor'</dd>\n",
       "\t<dt>LotShape</dt>\n",
       "\t\t<dd>'factor'</dd>\n",
       "\t<dt>LandContour</dt>\n",
       "\t\t<dd>'factor'</dd>\n",
       "\t<dt>Utilities</dt>\n",
       "\t\t<dd>'factor'</dd>\n",
       "\t<dt>LotConfig</dt>\n",
       "\t\t<dd>'factor'</dd>\n",
       "\t<dt>LandSlope</dt>\n",
       "\t\t<dd>'factor'</dd>\n",
       "\t<dt>Neighborhood</dt>\n",
       "\t\t<dd>'factor'</dd>\n",
       "\t<dt>Condition1</dt>\n",
       "\t\t<dd>'factor'</dd>\n",
       "\t<dt>Condition2</dt>\n",
       "\t\t<dd>'factor'</dd>\n",
       "\t<dt>BldgType</dt>\n",
       "\t\t<dd>'factor'</dd>\n",
       "\t<dt>HouseStyle</dt>\n",
       "\t\t<dd>'factor'</dd>\n",
       "\t<dt>OverallQual</dt>\n",
       "\t\t<dd>'integer'</dd>\n",
       "\t<dt>OverallCond</dt>\n",
       "\t\t<dd>'integer'</dd>\n",
       "\t<dt>YearBuilt</dt>\n",
       "\t\t<dd>'integer'</dd>\n",
       "\t<dt>YearRemodAdd</dt>\n",
       "\t\t<dd>'integer'</dd>\n",
       "\t<dt>RoofStyle</dt>\n",
       "\t\t<dd>'factor'</dd>\n",
       "\t<dt>RoofMatl</dt>\n",
       "\t\t<dd>'factor'</dd>\n",
       "\t<dt>Exterior1st</dt>\n",
       "\t\t<dd>'factor'</dd>\n",
       "\t<dt>Exterior2nd</dt>\n",
       "\t\t<dd>'factor'</dd>\n",
       "\t<dt>MasVnrType</dt>\n",
       "\t\t<dd>'factor'</dd>\n",
       "\t<dt>MasVnrArea</dt>\n",
       "\t\t<dd>'integer'</dd>\n",
       "\t<dt>ExterQual</dt>\n",
       "\t\t<dd>'factor'</dd>\n",
       "\t<dt>ExterCond</dt>\n",
       "\t\t<dd>'factor'</dd>\n",
       "\t<dt>Foundation</dt>\n",
       "\t\t<dd>'factor'</dd>\n",
       "\t<dt>BsmtQual</dt>\n",
       "\t\t<dd>'factor'</dd>\n",
       "\t<dt>BsmtCond</dt>\n",
       "\t\t<dd>'factor'</dd>\n",
       "\t<dt>BsmtExposure</dt>\n",
       "\t\t<dd>'factor'</dd>\n",
       "\t<dt>BsmtFinType1</dt>\n",
       "\t\t<dd>'factor'</dd>\n",
       "\t<dt>BsmtFinSF1</dt>\n",
       "\t\t<dd>'integer'</dd>\n",
       "\t<dt>BsmtFinType2</dt>\n",
       "\t\t<dd>'factor'</dd>\n",
       "\t<dt>BsmtFinSF2</dt>\n",
       "\t\t<dd>'integer'</dd>\n",
       "\t<dt>BsmtUnfSF</dt>\n",
       "\t\t<dd>'integer'</dd>\n",
       "\t<dt>TotalBsmtSF</dt>\n",
       "\t\t<dd>'integer'</dd>\n",
       "\t<dt>Heating</dt>\n",
       "\t\t<dd>'factor'</dd>\n",
       "\t<dt>HeatingQC</dt>\n",
       "\t\t<dd>'factor'</dd>\n",
       "\t<dt>CentralAir</dt>\n",
       "\t\t<dd>'factor'</dd>\n",
       "\t<dt>Electrical</dt>\n",
       "\t\t<dd>'factor'</dd>\n",
       "\t<dt>X1stFlrSF</dt>\n",
       "\t\t<dd>'integer'</dd>\n",
       "\t<dt>X2ndFlrSF</dt>\n",
       "\t\t<dd>'integer'</dd>\n",
       "\t<dt>LowQualFinSF</dt>\n",
       "\t\t<dd>'integer'</dd>\n",
       "\t<dt>GrLivArea</dt>\n",
       "\t\t<dd>'integer'</dd>\n",
       "\t<dt>BsmtFullBath</dt>\n",
       "\t\t<dd>'integer'</dd>\n",
       "\t<dt>BsmtHalfBath</dt>\n",
       "\t\t<dd>'integer'</dd>\n",
       "\t<dt>FullBath</dt>\n",
       "\t\t<dd>'integer'</dd>\n",
       "\t<dt>HalfBath</dt>\n",
       "\t\t<dd>'integer'</dd>\n",
       "\t<dt>BedroomAbvGr</dt>\n",
       "\t\t<dd>'integer'</dd>\n",
       "\t<dt>KitchenAbvGr</dt>\n",
       "\t\t<dd>'integer'</dd>\n",
       "\t<dt>KitchenQual</dt>\n",
       "\t\t<dd>'factor'</dd>\n",
       "\t<dt>TotRmsAbvGrd</dt>\n",
       "\t\t<dd>'integer'</dd>\n",
       "\t<dt>Functional</dt>\n",
       "\t\t<dd>'factor'</dd>\n",
       "\t<dt>Fireplaces</dt>\n",
       "\t\t<dd>'integer'</dd>\n",
       "\t<dt>FireplaceQu</dt>\n",
       "\t\t<dd>'factor'</dd>\n",
       "\t<dt>GarageType</dt>\n",
       "\t\t<dd>'factor'</dd>\n",
       "\t<dt>GarageYrBlt</dt>\n",
       "\t\t<dd>'integer'</dd>\n",
       "\t<dt>GarageFinish</dt>\n",
       "\t\t<dd>'factor'</dd>\n",
       "\t<dt>GarageCars</dt>\n",
       "\t\t<dd>'integer'</dd>\n",
       "\t<dt>GarageArea</dt>\n",
       "\t\t<dd>'integer'</dd>\n",
       "\t<dt>GarageQual</dt>\n",
       "\t\t<dd>'factor'</dd>\n",
       "\t<dt>GarageCond</dt>\n",
       "\t\t<dd>'factor'</dd>\n",
       "\t<dt>PavedDrive</dt>\n",
       "\t\t<dd>'factor'</dd>\n",
       "\t<dt>WoodDeckSF</dt>\n",
       "\t\t<dd>'integer'</dd>\n",
       "\t<dt>OpenPorchSF</dt>\n",
       "\t\t<dd>'integer'</dd>\n",
       "\t<dt>EnclosedPorch</dt>\n",
       "\t\t<dd>'integer'</dd>\n",
       "\t<dt>X3SsnPorch</dt>\n",
       "\t\t<dd>'integer'</dd>\n",
       "\t<dt>ScreenPorch</dt>\n",
       "\t\t<dd>'integer'</dd>\n",
       "\t<dt>PoolArea</dt>\n",
       "\t\t<dd>'integer'</dd>\n",
       "\t<dt>PoolQC</dt>\n",
       "\t\t<dd>'factor'</dd>\n",
       "\t<dt>Fence</dt>\n",
       "\t\t<dd>'factor'</dd>\n",
       "\t<dt>MiscFeature</dt>\n",
       "\t\t<dd>'factor'</dd>\n",
       "\t<dt>MiscVal</dt>\n",
       "\t\t<dd>'integer'</dd>\n",
       "\t<dt>MoSold</dt>\n",
       "\t\t<dd>'integer'</dd>\n",
       "\t<dt>YrSold</dt>\n",
       "\t\t<dd>'integer'</dd>\n",
       "\t<dt>SaleType</dt>\n",
       "\t\t<dd>'factor'</dd>\n",
       "\t<dt>SaleCondition</dt>\n",
       "\t\t<dd>'factor'</dd>\n",
       "\t<dt>SalePrice</dt>\n",
       "\t\t<dd>'integer'</dd>\n",
       "</dl>\n"
      ],
      "text/latex": [
       "\\begin{description*}\n",
       "\\item[Id] 'integer'\n",
       "\\item[MSSubClass] 'integer'\n",
       "\\item[MSZoning] 'factor'\n",
       "\\item[LotFrontage] 'integer'\n",
       "\\item[LotArea] 'integer'\n",
       "\\item[Street] 'factor'\n",
       "\\item[Alley] 'factor'\n",
       "\\item[LotShape] 'factor'\n",
       "\\item[LandContour] 'factor'\n",
       "\\item[Utilities] 'factor'\n",
       "\\item[LotConfig] 'factor'\n",
       "\\item[LandSlope] 'factor'\n",
       "\\item[Neighborhood] 'factor'\n",
       "\\item[Condition1] 'factor'\n",
       "\\item[Condition2] 'factor'\n",
       "\\item[BldgType] 'factor'\n",
       "\\item[HouseStyle] 'factor'\n",
       "\\item[OverallQual] 'integer'\n",
       "\\item[OverallCond] 'integer'\n",
       "\\item[YearBuilt] 'integer'\n",
       "\\item[YearRemodAdd] 'integer'\n",
       "\\item[RoofStyle] 'factor'\n",
       "\\item[RoofMatl] 'factor'\n",
       "\\item[Exterior1st] 'factor'\n",
       "\\item[Exterior2nd] 'factor'\n",
       "\\item[MasVnrType] 'factor'\n",
       "\\item[MasVnrArea] 'integer'\n",
       "\\item[ExterQual] 'factor'\n",
       "\\item[ExterCond] 'factor'\n",
       "\\item[Foundation] 'factor'\n",
       "\\item[BsmtQual] 'factor'\n",
       "\\item[BsmtCond] 'factor'\n",
       "\\item[BsmtExposure] 'factor'\n",
       "\\item[BsmtFinType1] 'factor'\n",
       "\\item[BsmtFinSF1] 'integer'\n",
       "\\item[BsmtFinType2] 'factor'\n",
       "\\item[BsmtFinSF2] 'integer'\n",
       "\\item[BsmtUnfSF] 'integer'\n",
       "\\item[TotalBsmtSF] 'integer'\n",
       "\\item[Heating] 'factor'\n",
       "\\item[HeatingQC] 'factor'\n",
       "\\item[CentralAir] 'factor'\n",
       "\\item[Electrical] 'factor'\n",
       "\\item[X1stFlrSF] 'integer'\n",
       "\\item[X2ndFlrSF] 'integer'\n",
       "\\item[LowQualFinSF] 'integer'\n",
       "\\item[GrLivArea] 'integer'\n",
       "\\item[BsmtFullBath] 'integer'\n",
       "\\item[BsmtHalfBath] 'integer'\n",
       "\\item[FullBath] 'integer'\n",
       "\\item[HalfBath] 'integer'\n",
       "\\item[BedroomAbvGr] 'integer'\n",
       "\\item[KitchenAbvGr] 'integer'\n",
       "\\item[KitchenQual] 'factor'\n",
       "\\item[TotRmsAbvGrd] 'integer'\n",
       "\\item[Functional] 'factor'\n",
       "\\item[Fireplaces] 'integer'\n",
       "\\item[FireplaceQu] 'factor'\n",
       "\\item[GarageType] 'factor'\n",
       "\\item[GarageYrBlt] 'integer'\n",
       "\\item[GarageFinish] 'factor'\n",
       "\\item[GarageCars] 'integer'\n",
       "\\item[GarageArea] 'integer'\n",
       "\\item[GarageQual] 'factor'\n",
       "\\item[GarageCond] 'factor'\n",
       "\\item[PavedDrive] 'factor'\n",
       "\\item[WoodDeckSF] 'integer'\n",
       "\\item[OpenPorchSF] 'integer'\n",
       "\\item[EnclosedPorch] 'integer'\n",
       "\\item[X3SsnPorch] 'integer'\n",
       "\\item[ScreenPorch] 'integer'\n",
       "\\item[PoolArea] 'integer'\n",
       "\\item[PoolQC] 'factor'\n",
       "\\item[Fence] 'factor'\n",
       "\\item[MiscFeature] 'factor'\n",
       "\\item[MiscVal] 'integer'\n",
       "\\item[MoSold] 'integer'\n",
       "\\item[YrSold] 'integer'\n",
       "\\item[SaleType] 'factor'\n",
       "\\item[SaleCondition] 'factor'\n",
       "\\item[SalePrice] 'integer'\n",
       "\\end{description*}\n"
      ],
      "text/markdown": [
       "Id\n",
       ":   'integer'MSSubClass\n",
       ":   'integer'MSZoning\n",
       ":   'factor'LotFrontage\n",
       ":   'integer'LotArea\n",
       ":   'integer'Street\n",
       ":   'factor'Alley\n",
       ":   'factor'LotShape\n",
       ":   'factor'LandContour\n",
       ":   'factor'Utilities\n",
       ":   'factor'LotConfig\n",
       ":   'factor'LandSlope\n",
       ":   'factor'Neighborhood\n",
       ":   'factor'Condition1\n",
       ":   'factor'Condition2\n",
       ":   'factor'BldgType\n",
       ":   'factor'HouseStyle\n",
       ":   'factor'OverallQual\n",
       ":   'integer'OverallCond\n",
       ":   'integer'YearBuilt\n",
       ":   'integer'YearRemodAdd\n",
       ":   'integer'RoofStyle\n",
       ":   'factor'RoofMatl\n",
       ":   'factor'Exterior1st\n",
       ":   'factor'Exterior2nd\n",
       ":   'factor'MasVnrType\n",
       ":   'factor'MasVnrArea\n",
       ":   'integer'ExterQual\n",
       ":   'factor'ExterCond\n",
       ":   'factor'Foundation\n",
       ":   'factor'BsmtQual\n",
       ":   'factor'BsmtCond\n",
       ":   'factor'BsmtExposure\n",
       ":   'factor'BsmtFinType1\n",
       ":   'factor'BsmtFinSF1\n",
       ":   'integer'BsmtFinType2\n",
       ":   'factor'BsmtFinSF2\n",
       ":   'integer'BsmtUnfSF\n",
       ":   'integer'TotalBsmtSF\n",
       ":   'integer'Heating\n",
       ":   'factor'HeatingQC\n",
       ":   'factor'CentralAir\n",
       ":   'factor'Electrical\n",
       ":   'factor'X1stFlrSF\n",
       ":   'integer'X2ndFlrSF\n",
       ":   'integer'LowQualFinSF\n",
       ":   'integer'GrLivArea\n",
       ":   'integer'BsmtFullBath\n",
       ":   'integer'BsmtHalfBath\n",
       ":   'integer'FullBath\n",
       ":   'integer'HalfBath\n",
       ":   'integer'BedroomAbvGr\n",
       ":   'integer'KitchenAbvGr\n",
       ":   'integer'KitchenQual\n",
       ":   'factor'TotRmsAbvGrd\n",
       ":   'integer'Functional\n",
       ":   'factor'Fireplaces\n",
       ":   'integer'FireplaceQu\n",
       ":   'factor'GarageType\n",
       ":   'factor'GarageYrBlt\n",
       ":   'integer'GarageFinish\n",
       ":   'factor'GarageCars\n",
       ":   'integer'GarageArea\n",
       ":   'integer'GarageQual\n",
       ":   'factor'GarageCond\n",
       ":   'factor'PavedDrive\n",
       ":   'factor'WoodDeckSF\n",
       ":   'integer'OpenPorchSF\n",
       ":   'integer'EnclosedPorch\n",
       ":   'integer'X3SsnPorch\n",
       ":   'integer'ScreenPorch\n",
       ":   'integer'PoolArea\n",
       ":   'integer'PoolQC\n",
       ":   'factor'Fence\n",
       ":   'factor'MiscFeature\n",
       ":   'factor'MiscVal\n",
       ":   'integer'MoSold\n",
       ":   'integer'YrSold\n",
       ":   'integer'SaleType\n",
       ":   'factor'SaleCondition\n",
       ":   'factor'SalePrice\n",
       ":   'integer'\n",
       "\n"
      ],
      "text/plain": [
       "           Id    MSSubClass      MSZoning   LotFrontage       LotArea \n",
       "    \"integer\"     \"integer\"      \"factor\"     \"integer\"     \"integer\" \n",
       "       Street         Alley      LotShape   LandContour     Utilities \n",
       "     \"factor\"      \"factor\"      \"factor\"      \"factor\"      \"factor\" \n",
       "    LotConfig     LandSlope  Neighborhood    Condition1    Condition2 \n",
       "     \"factor\"      \"factor\"      \"factor\"      \"factor\"      \"factor\" \n",
       "     BldgType    HouseStyle   OverallQual   OverallCond     YearBuilt \n",
       "     \"factor\"      \"factor\"     \"integer\"     \"integer\"     \"integer\" \n",
       " YearRemodAdd     RoofStyle      RoofMatl   Exterior1st   Exterior2nd \n",
       "    \"integer\"      \"factor\"      \"factor\"      \"factor\"      \"factor\" \n",
       "   MasVnrType    MasVnrArea     ExterQual     ExterCond    Foundation \n",
       "     \"factor\"     \"integer\"      \"factor\"      \"factor\"      \"factor\" \n",
       "     BsmtQual      BsmtCond  BsmtExposure  BsmtFinType1    BsmtFinSF1 \n",
       "     \"factor\"      \"factor\"      \"factor\"      \"factor\"     \"integer\" \n",
       " BsmtFinType2    BsmtFinSF2     BsmtUnfSF   TotalBsmtSF       Heating \n",
       "     \"factor\"     \"integer\"     \"integer\"     \"integer\"      \"factor\" \n",
       "    HeatingQC    CentralAir    Electrical     X1stFlrSF     X2ndFlrSF \n",
       "     \"factor\"      \"factor\"      \"factor\"     \"integer\"     \"integer\" \n",
       " LowQualFinSF     GrLivArea  BsmtFullBath  BsmtHalfBath      FullBath \n",
       "    \"integer\"     \"integer\"     \"integer\"     \"integer\"     \"integer\" \n",
       "     HalfBath  BedroomAbvGr  KitchenAbvGr   KitchenQual  TotRmsAbvGrd \n",
       "    \"integer\"     \"integer\"     \"integer\"      \"factor\"     \"integer\" \n",
       "   Functional    Fireplaces   FireplaceQu    GarageType   GarageYrBlt \n",
       "     \"factor\"     \"integer\"      \"factor\"      \"factor\"     \"integer\" \n",
       " GarageFinish    GarageCars    GarageArea    GarageQual    GarageCond \n",
       "     \"factor\"     \"integer\"     \"integer\"      \"factor\"      \"factor\" \n",
       "   PavedDrive    WoodDeckSF   OpenPorchSF EnclosedPorch    X3SsnPorch \n",
       "     \"factor\"     \"integer\"     \"integer\"     \"integer\"     \"integer\" \n",
       "  ScreenPorch      PoolArea        PoolQC         Fence   MiscFeature \n",
       "    \"integer\"     \"integer\"      \"factor\"      \"factor\"      \"factor\" \n",
       "      MiscVal        MoSold        YrSold      SaleType SaleCondition \n",
       "    \"integer\"     \"integer\"     \"integer\"      \"factor\"      \"factor\" \n",
       "    SalePrice \n",
       "    \"integer\" "
      ]
     },
     "metadata": {},
     "output_type": "display_data"
    }
   ],
   "source": [
    "#Data type of variable\n",
    "\n",
    "sapply(data_,FUN = class)"
   ]
  },
  {
   "cell_type": "code",
   "execution_count": 7,
   "metadata": {
    "collapsed": false,
    "scrolled": false
   },
   "outputs": [
    {
     "name": "stdout",
     "output_type": "stream",
     "text": [
      "[1] \"Continuous Variable\"\n"
     ]
    },
    {
     "data": {
      "text/html": [
       "<dl class=dl-horizontal>\n",
       "\t<dt>Id</dt>\n",
       "\t\t<dd>'integer'</dd>\n",
       "\t<dt>MSSubClass</dt>\n",
       "\t\t<dd>'integer'</dd>\n",
       "\t<dt>LotFrontage</dt>\n",
       "\t\t<dd>'integer'</dd>\n",
       "\t<dt>LotArea</dt>\n",
       "\t\t<dd>'integer'</dd>\n",
       "\t<dt>OverallQual</dt>\n",
       "\t\t<dd>'integer'</dd>\n",
       "\t<dt>OverallCond</dt>\n",
       "\t\t<dd>'integer'</dd>\n",
       "\t<dt>YearBuilt</dt>\n",
       "\t\t<dd>'integer'</dd>\n",
       "\t<dt>YearRemodAdd</dt>\n",
       "\t\t<dd>'integer'</dd>\n",
       "\t<dt>MasVnrArea</dt>\n",
       "\t\t<dd>'integer'</dd>\n",
       "\t<dt>BsmtFinSF1</dt>\n",
       "\t\t<dd>'integer'</dd>\n",
       "\t<dt>BsmtFinSF2</dt>\n",
       "\t\t<dd>'integer'</dd>\n",
       "\t<dt>BsmtUnfSF</dt>\n",
       "\t\t<dd>'integer'</dd>\n",
       "\t<dt>TotalBsmtSF</dt>\n",
       "\t\t<dd>'integer'</dd>\n",
       "\t<dt>X1stFlrSF</dt>\n",
       "\t\t<dd>'integer'</dd>\n",
       "\t<dt>X2ndFlrSF</dt>\n",
       "\t\t<dd>'integer'</dd>\n",
       "\t<dt>LowQualFinSF</dt>\n",
       "\t\t<dd>'integer'</dd>\n",
       "\t<dt>GrLivArea</dt>\n",
       "\t\t<dd>'integer'</dd>\n",
       "\t<dt>BsmtFullBath</dt>\n",
       "\t\t<dd>'integer'</dd>\n",
       "\t<dt>BsmtHalfBath</dt>\n",
       "\t\t<dd>'integer'</dd>\n",
       "\t<dt>FullBath</dt>\n",
       "\t\t<dd>'integer'</dd>\n",
       "\t<dt>HalfBath</dt>\n",
       "\t\t<dd>'integer'</dd>\n",
       "\t<dt>BedroomAbvGr</dt>\n",
       "\t\t<dd>'integer'</dd>\n",
       "\t<dt>KitchenAbvGr</dt>\n",
       "\t\t<dd>'integer'</dd>\n",
       "\t<dt>TotRmsAbvGrd</dt>\n",
       "\t\t<dd>'integer'</dd>\n",
       "\t<dt>Fireplaces</dt>\n",
       "\t\t<dd>'integer'</dd>\n",
       "\t<dt>GarageYrBlt</dt>\n",
       "\t\t<dd>'integer'</dd>\n",
       "\t<dt>GarageCars</dt>\n",
       "\t\t<dd>'integer'</dd>\n",
       "\t<dt>GarageArea</dt>\n",
       "\t\t<dd>'integer'</dd>\n",
       "\t<dt>WoodDeckSF</dt>\n",
       "\t\t<dd>'integer'</dd>\n",
       "\t<dt>OpenPorchSF</dt>\n",
       "\t\t<dd>'integer'</dd>\n",
       "\t<dt>EnclosedPorch</dt>\n",
       "\t\t<dd>'integer'</dd>\n",
       "\t<dt>X3SsnPorch</dt>\n",
       "\t\t<dd>'integer'</dd>\n",
       "\t<dt>ScreenPorch</dt>\n",
       "\t\t<dd>'integer'</dd>\n",
       "\t<dt>PoolArea</dt>\n",
       "\t\t<dd>'integer'</dd>\n",
       "\t<dt>MiscVal</dt>\n",
       "\t\t<dd>'integer'</dd>\n",
       "\t<dt>MoSold</dt>\n",
       "\t\t<dd>'integer'</dd>\n",
       "\t<dt>YrSold</dt>\n",
       "\t\t<dd>'integer'</dd>\n",
       "\t<dt>SalePrice</dt>\n",
       "\t\t<dd>'integer'</dd>\n",
       "</dl>\n"
      ],
      "text/latex": [
       "\\begin{description*}\n",
       "\\item[Id] 'integer'\n",
       "\\item[MSSubClass] 'integer'\n",
       "\\item[LotFrontage] 'integer'\n",
       "\\item[LotArea] 'integer'\n",
       "\\item[OverallQual] 'integer'\n",
       "\\item[OverallCond] 'integer'\n",
       "\\item[YearBuilt] 'integer'\n",
       "\\item[YearRemodAdd] 'integer'\n",
       "\\item[MasVnrArea] 'integer'\n",
       "\\item[BsmtFinSF1] 'integer'\n",
       "\\item[BsmtFinSF2] 'integer'\n",
       "\\item[BsmtUnfSF] 'integer'\n",
       "\\item[TotalBsmtSF] 'integer'\n",
       "\\item[X1stFlrSF] 'integer'\n",
       "\\item[X2ndFlrSF] 'integer'\n",
       "\\item[LowQualFinSF] 'integer'\n",
       "\\item[GrLivArea] 'integer'\n",
       "\\item[BsmtFullBath] 'integer'\n",
       "\\item[BsmtHalfBath] 'integer'\n",
       "\\item[FullBath] 'integer'\n",
       "\\item[HalfBath] 'integer'\n",
       "\\item[BedroomAbvGr] 'integer'\n",
       "\\item[KitchenAbvGr] 'integer'\n",
       "\\item[TotRmsAbvGrd] 'integer'\n",
       "\\item[Fireplaces] 'integer'\n",
       "\\item[GarageYrBlt] 'integer'\n",
       "\\item[GarageCars] 'integer'\n",
       "\\item[GarageArea] 'integer'\n",
       "\\item[WoodDeckSF] 'integer'\n",
       "\\item[OpenPorchSF] 'integer'\n",
       "\\item[EnclosedPorch] 'integer'\n",
       "\\item[X3SsnPorch] 'integer'\n",
       "\\item[ScreenPorch] 'integer'\n",
       "\\item[PoolArea] 'integer'\n",
       "\\item[MiscVal] 'integer'\n",
       "\\item[MoSold] 'integer'\n",
       "\\item[YrSold] 'integer'\n",
       "\\item[SalePrice] 'integer'\n",
       "\\end{description*}\n"
      ],
      "text/markdown": [
       "Id\n",
       ":   'integer'MSSubClass\n",
       ":   'integer'LotFrontage\n",
       ":   'integer'LotArea\n",
       ":   'integer'OverallQual\n",
       ":   'integer'OverallCond\n",
       ":   'integer'YearBuilt\n",
       ":   'integer'YearRemodAdd\n",
       ":   'integer'MasVnrArea\n",
       ":   'integer'BsmtFinSF1\n",
       ":   'integer'BsmtFinSF2\n",
       ":   'integer'BsmtUnfSF\n",
       ":   'integer'TotalBsmtSF\n",
       ":   'integer'X1stFlrSF\n",
       ":   'integer'X2ndFlrSF\n",
       ":   'integer'LowQualFinSF\n",
       ":   'integer'GrLivArea\n",
       ":   'integer'BsmtFullBath\n",
       ":   'integer'BsmtHalfBath\n",
       ":   'integer'FullBath\n",
       ":   'integer'HalfBath\n",
       ":   'integer'BedroomAbvGr\n",
       ":   'integer'KitchenAbvGr\n",
       ":   'integer'TotRmsAbvGrd\n",
       ":   'integer'Fireplaces\n",
       ":   'integer'GarageYrBlt\n",
       ":   'integer'GarageCars\n",
       ":   'integer'GarageArea\n",
       ":   'integer'WoodDeckSF\n",
       ":   'integer'OpenPorchSF\n",
       ":   'integer'EnclosedPorch\n",
       ":   'integer'X3SsnPorch\n",
       ":   'integer'ScreenPorch\n",
       ":   'integer'PoolArea\n",
       ":   'integer'MiscVal\n",
       ":   'integer'MoSold\n",
       ":   'integer'YrSold\n",
       ":   'integer'SalePrice\n",
       ":   'integer'\n",
       "\n"
      ],
      "text/plain": [
       "           Id    MSSubClass   LotFrontage       LotArea   OverallQual \n",
       "    \"integer\"     \"integer\"     \"integer\"     \"integer\"     \"integer\" \n",
       "  OverallCond     YearBuilt  YearRemodAdd    MasVnrArea    BsmtFinSF1 \n",
       "    \"integer\"     \"integer\"     \"integer\"     \"integer\"     \"integer\" \n",
       "   BsmtFinSF2     BsmtUnfSF   TotalBsmtSF     X1stFlrSF     X2ndFlrSF \n",
       "    \"integer\"     \"integer\"     \"integer\"     \"integer\"     \"integer\" \n",
       " LowQualFinSF     GrLivArea  BsmtFullBath  BsmtHalfBath      FullBath \n",
       "    \"integer\"     \"integer\"     \"integer\"     \"integer\"     \"integer\" \n",
       "     HalfBath  BedroomAbvGr  KitchenAbvGr  TotRmsAbvGrd    Fireplaces \n",
       "    \"integer\"     \"integer\"     \"integer\"     \"integer\"     \"integer\" \n",
       "  GarageYrBlt    GarageCars    GarageArea    WoodDeckSF   OpenPorchSF \n",
       "    \"integer\"     \"integer\"     \"integer\"     \"integer\"     \"integer\" \n",
       "EnclosedPorch    X3SsnPorch   ScreenPorch      PoolArea       MiscVal \n",
       "    \"integer\"     \"integer\"     \"integer\"     \"integer\"     \"integer\" \n",
       "       MoSold        YrSold     SalePrice \n",
       "    \"integer\"     \"integer\"     \"integer\" "
      ]
     },
     "metadata": {},
     "output_type": "display_data"
    }
   ],
   "source": [
    "#Knowing Continuous variables:::\n",
    "data_frame_with_continuous_variable <- data_ [ ,!sapply(data_, is.factor)]\n",
    "print(\"Continuous Variable\")\n",
    "sapply(data_frame_with_continuous_variable, class)"
   ]
  },
  {
   "cell_type": "code",
   "execution_count": 8,
   "metadata": {
    "collapsed": false,
    "scrolled": true
   },
   "outputs": [
    {
     "name": "stdout",
     "output_type": "stream",
     "text": [
      "[1] \"Categorical Variable\\n\"\n"
     ]
    },
    {
     "data": {
      "text/html": [
       "<dl class=dl-horizontal>\n",
       "\t<dt>MSZoning</dt>\n",
       "\t\t<dd>'factor'</dd>\n",
       "\t<dt>Street</dt>\n",
       "\t\t<dd>'factor'</dd>\n",
       "\t<dt>Alley</dt>\n",
       "\t\t<dd>'factor'</dd>\n",
       "\t<dt>LotShape</dt>\n",
       "\t\t<dd>'factor'</dd>\n",
       "\t<dt>LandContour</dt>\n",
       "\t\t<dd>'factor'</dd>\n",
       "\t<dt>Utilities</dt>\n",
       "\t\t<dd>'factor'</dd>\n",
       "\t<dt>LotConfig</dt>\n",
       "\t\t<dd>'factor'</dd>\n",
       "\t<dt>LandSlope</dt>\n",
       "\t\t<dd>'factor'</dd>\n",
       "\t<dt>Neighborhood</dt>\n",
       "\t\t<dd>'factor'</dd>\n",
       "\t<dt>Condition1</dt>\n",
       "\t\t<dd>'factor'</dd>\n",
       "\t<dt>Condition2</dt>\n",
       "\t\t<dd>'factor'</dd>\n",
       "\t<dt>BldgType</dt>\n",
       "\t\t<dd>'factor'</dd>\n",
       "\t<dt>HouseStyle</dt>\n",
       "\t\t<dd>'factor'</dd>\n",
       "\t<dt>RoofStyle</dt>\n",
       "\t\t<dd>'factor'</dd>\n",
       "\t<dt>RoofMatl</dt>\n",
       "\t\t<dd>'factor'</dd>\n",
       "\t<dt>Exterior1st</dt>\n",
       "\t\t<dd>'factor'</dd>\n",
       "\t<dt>Exterior2nd</dt>\n",
       "\t\t<dd>'factor'</dd>\n",
       "\t<dt>MasVnrType</dt>\n",
       "\t\t<dd>'factor'</dd>\n",
       "\t<dt>ExterQual</dt>\n",
       "\t\t<dd>'factor'</dd>\n",
       "\t<dt>ExterCond</dt>\n",
       "\t\t<dd>'factor'</dd>\n",
       "\t<dt>Foundation</dt>\n",
       "\t\t<dd>'factor'</dd>\n",
       "\t<dt>BsmtQual</dt>\n",
       "\t\t<dd>'factor'</dd>\n",
       "\t<dt>BsmtCond</dt>\n",
       "\t\t<dd>'factor'</dd>\n",
       "\t<dt>BsmtExposure</dt>\n",
       "\t\t<dd>'factor'</dd>\n",
       "\t<dt>BsmtFinType1</dt>\n",
       "\t\t<dd>'factor'</dd>\n",
       "\t<dt>BsmtFinType2</dt>\n",
       "\t\t<dd>'factor'</dd>\n",
       "\t<dt>Heating</dt>\n",
       "\t\t<dd>'factor'</dd>\n",
       "\t<dt>HeatingQC</dt>\n",
       "\t\t<dd>'factor'</dd>\n",
       "\t<dt>CentralAir</dt>\n",
       "\t\t<dd>'factor'</dd>\n",
       "\t<dt>Electrical</dt>\n",
       "\t\t<dd>'factor'</dd>\n",
       "\t<dt>KitchenQual</dt>\n",
       "\t\t<dd>'factor'</dd>\n",
       "\t<dt>Functional</dt>\n",
       "\t\t<dd>'factor'</dd>\n",
       "\t<dt>FireplaceQu</dt>\n",
       "\t\t<dd>'factor'</dd>\n",
       "\t<dt>GarageType</dt>\n",
       "\t\t<dd>'factor'</dd>\n",
       "\t<dt>GarageFinish</dt>\n",
       "\t\t<dd>'factor'</dd>\n",
       "\t<dt>GarageQual</dt>\n",
       "\t\t<dd>'factor'</dd>\n",
       "\t<dt>GarageCond</dt>\n",
       "\t\t<dd>'factor'</dd>\n",
       "\t<dt>PavedDrive</dt>\n",
       "\t\t<dd>'factor'</dd>\n",
       "\t<dt>PoolQC</dt>\n",
       "\t\t<dd>'factor'</dd>\n",
       "\t<dt>Fence</dt>\n",
       "\t\t<dd>'factor'</dd>\n",
       "\t<dt>MiscFeature</dt>\n",
       "\t\t<dd>'factor'</dd>\n",
       "\t<dt>SaleType</dt>\n",
       "\t\t<dd>'factor'</dd>\n",
       "\t<dt>SaleCondition</dt>\n",
       "\t\t<dd>'factor'</dd>\n",
       "</dl>\n"
      ],
      "text/latex": [
       "\\begin{description*}\n",
       "\\item[MSZoning] 'factor'\n",
       "\\item[Street] 'factor'\n",
       "\\item[Alley] 'factor'\n",
       "\\item[LotShape] 'factor'\n",
       "\\item[LandContour] 'factor'\n",
       "\\item[Utilities] 'factor'\n",
       "\\item[LotConfig] 'factor'\n",
       "\\item[LandSlope] 'factor'\n",
       "\\item[Neighborhood] 'factor'\n",
       "\\item[Condition1] 'factor'\n",
       "\\item[Condition2] 'factor'\n",
       "\\item[BldgType] 'factor'\n",
       "\\item[HouseStyle] 'factor'\n",
       "\\item[RoofStyle] 'factor'\n",
       "\\item[RoofMatl] 'factor'\n",
       "\\item[Exterior1st] 'factor'\n",
       "\\item[Exterior2nd] 'factor'\n",
       "\\item[MasVnrType] 'factor'\n",
       "\\item[ExterQual] 'factor'\n",
       "\\item[ExterCond] 'factor'\n",
       "\\item[Foundation] 'factor'\n",
       "\\item[BsmtQual] 'factor'\n",
       "\\item[BsmtCond] 'factor'\n",
       "\\item[BsmtExposure] 'factor'\n",
       "\\item[BsmtFinType1] 'factor'\n",
       "\\item[BsmtFinType2] 'factor'\n",
       "\\item[Heating] 'factor'\n",
       "\\item[HeatingQC] 'factor'\n",
       "\\item[CentralAir] 'factor'\n",
       "\\item[Electrical] 'factor'\n",
       "\\item[KitchenQual] 'factor'\n",
       "\\item[Functional] 'factor'\n",
       "\\item[FireplaceQu] 'factor'\n",
       "\\item[GarageType] 'factor'\n",
       "\\item[GarageFinish] 'factor'\n",
       "\\item[GarageQual] 'factor'\n",
       "\\item[GarageCond] 'factor'\n",
       "\\item[PavedDrive] 'factor'\n",
       "\\item[PoolQC] 'factor'\n",
       "\\item[Fence] 'factor'\n",
       "\\item[MiscFeature] 'factor'\n",
       "\\item[SaleType] 'factor'\n",
       "\\item[SaleCondition] 'factor'\n",
       "\\end{description*}\n"
      ],
      "text/markdown": [
       "MSZoning\n",
       ":   'factor'Street\n",
       ":   'factor'Alley\n",
       ":   'factor'LotShape\n",
       ":   'factor'LandContour\n",
       ":   'factor'Utilities\n",
       ":   'factor'LotConfig\n",
       ":   'factor'LandSlope\n",
       ":   'factor'Neighborhood\n",
       ":   'factor'Condition1\n",
       ":   'factor'Condition2\n",
       ":   'factor'BldgType\n",
       ":   'factor'HouseStyle\n",
       ":   'factor'RoofStyle\n",
       ":   'factor'RoofMatl\n",
       ":   'factor'Exterior1st\n",
       ":   'factor'Exterior2nd\n",
       ":   'factor'MasVnrType\n",
       ":   'factor'ExterQual\n",
       ":   'factor'ExterCond\n",
       ":   'factor'Foundation\n",
       ":   'factor'BsmtQual\n",
       ":   'factor'BsmtCond\n",
       ":   'factor'BsmtExposure\n",
       ":   'factor'BsmtFinType1\n",
       ":   'factor'BsmtFinType2\n",
       ":   'factor'Heating\n",
       ":   'factor'HeatingQC\n",
       ":   'factor'CentralAir\n",
       ":   'factor'Electrical\n",
       ":   'factor'KitchenQual\n",
       ":   'factor'Functional\n",
       ":   'factor'FireplaceQu\n",
       ":   'factor'GarageType\n",
       ":   'factor'GarageFinish\n",
       ":   'factor'GarageQual\n",
       ":   'factor'GarageCond\n",
       ":   'factor'PavedDrive\n",
       ":   'factor'PoolQC\n",
       ":   'factor'Fence\n",
       ":   'factor'MiscFeature\n",
       ":   'factor'SaleType\n",
       ":   'factor'SaleCondition\n",
       ":   'factor'\n",
       "\n"
      ],
      "text/plain": [
       "     MSZoning        Street         Alley      LotShape   LandContour \n",
       "     \"factor\"      \"factor\"      \"factor\"      \"factor\"      \"factor\" \n",
       "    Utilities     LotConfig     LandSlope  Neighborhood    Condition1 \n",
       "     \"factor\"      \"factor\"      \"factor\"      \"factor\"      \"factor\" \n",
       "   Condition2      BldgType    HouseStyle     RoofStyle      RoofMatl \n",
       "     \"factor\"      \"factor\"      \"factor\"      \"factor\"      \"factor\" \n",
       "  Exterior1st   Exterior2nd    MasVnrType     ExterQual     ExterCond \n",
       "     \"factor\"      \"factor\"      \"factor\"      \"factor\"      \"factor\" \n",
       "   Foundation      BsmtQual      BsmtCond  BsmtExposure  BsmtFinType1 \n",
       "     \"factor\"      \"factor\"      \"factor\"      \"factor\"      \"factor\" \n",
       " BsmtFinType2       Heating     HeatingQC    CentralAir    Electrical \n",
       "     \"factor\"      \"factor\"      \"factor\"      \"factor\"      \"factor\" \n",
       "  KitchenQual    Functional   FireplaceQu    GarageType  GarageFinish \n",
       "     \"factor\"      \"factor\"      \"factor\"      \"factor\"      \"factor\" \n",
       "   GarageQual    GarageCond    PavedDrive        PoolQC         Fence \n",
       "     \"factor\"      \"factor\"      \"factor\"      \"factor\"      \"factor\" \n",
       "  MiscFeature      SaleType SaleCondition \n",
       "     \"factor\"      \"factor\"      \"factor\" "
      ]
     },
     "metadata": {},
     "output_type": "display_data"
    }
   ],
   "source": [
    "#Viewing Categorical variables:::\n",
    "data_frame_with_categorical_variable <- data_ [ ,sapply(data_, is.factor)]\n",
    "print(\"Categorical Variable\\n\")\n",
    "sapply(data_frame_with_categorical_variable, class)"
   ]
  },
  {
   "cell_type": "markdown",
   "metadata": {},
   "source": [
    "<br>\n",
    "<br>\n",
    "<br>\n",
    "<br>\n",
    "<br>\n",
    "<br>\n",
    "<br>\n",
    "<br>\n",
    "<br>\n",
    "<br>\n",
    "<br>\n",
    "<br>\n",
    "<br>\n",
    "<br>\n",
    "<br>\n",
    "<br>\n",
    "<br>\n",
    "<br>\n",
    "<br>\n",
    "<br>\n",
    "<br>\n",
    "<br>\n",
    "<br>\n",
    "<br>\n",
    "<br>\n",
    "<br>\n",
    "<br>\n",
    "<br>\n",
    "<br>\n",
    "<br>\n",
    "<br>\n",
    "<br>\n",
    "<br>\n",
    "<br>"
   ]
  },
  {
   "cell_type": "markdown",
   "metadata": {},
   "source": [
    "\n",
    "## 2.2. Univariate Analysis\n",
    "\n",
    "** WITH THE HELP OF PACKAGE - ggplot2 **"
   ]
  },
  {
   "cell_type": "code",
   "execution_count": 9,
   "metadata": {
    "collapsed": true
   },
   "outputs": [],
   "source": [
    "#Loading library ggplot2'\n",
    "\n",
    "library(ggplot2)"
   ]
  },
  {
   "cell_type": "markdown",
   "metadata": {},
   "source": [
    "#### 2.1. Plotting SalePrice Frequency so as to know how the data is distributed \n",
    " ** It is observed from the plot that the data set contains more information in the SalePrice range 1e+5 to 2e+5.**"
   ]
  },
  {
   "cell_type": "code",
   "execution_count": 10,
   "metadata": {
    "collapsed": false
   },
   "outputs": [
    {
     "name": "stderr",
     "output_type": "stream",
     "text": [
      "`stat_bin()` using `bins = 30`. Pick better value with `binwidth`.\n"
     ]
    },
    {
     "data": {},
     "metadata": {},
     "output_type": "display_data"
    },
    {
     "data": {
      "image/png": "[encoded data removed]",
      "text/plain": [
       "plot without title"
      ]
     },
     "metadata": {},
     "output_type": "display_data"
    }
   ],
   "source": [
    "ggplot(data = data_)+ geom_histogram(mapping = aes(data_$SalePrice), color = \"black\", fill = \"white\")"
   ]
  },
  {
   "cell_type": "markdown",
   "metadata": {},
   "source": [
    "<br>\n",
    "<br>\n",
    "<br>\n",
    "<br>\n",
    "\n",
    "#### 2.2. Plotting LotFrontage Frequency so as to know how the data is distributed "
   ]
  },
  {
   "cell_type": "code",
   "execution_count": 10,
   "metadata": {
    "collapsed": false,
    "scrolled": false
   },
   "outputs": [
    {
     "name": "stderr",
     "output_type": "stream",
     "text": [
      "`stat_bin()` using `bins = 30`. Pick better value with `binwidth`.\n",
      "Warning message:\n",
      "“Removed 259 rows containing non-finite values (stat_bin).”"
     ]
    },
    {
     "data": {},
     "metadata": {},
     "output_type": "display_data"
    },
    {
     "data": {
      "image/png": "[encoded data removed]",
      "text/plain": [
       "plot without title"
      ]
     },
     "metadata": {},
     "output_type": "display_data"
    }
   ],
   "source": [
    "ggplot(data = data_ ) +  geom_histogram(mapping = aes(data_$LotFrontage),fill=\"black\",color=\"grey\")"
   ]
  },
  {
   "cell_type": "markdown",
   "metadata": {},
   "source": [
    "<br>\n",
    "<br>\n",
    "<br>\n",
    "<br>\n",
    "<br>\n",
    "<br>\n",
    "<br>\n",
    "<br>\n",
    "<br>\n",
    "#### 2.3. Plotting LotArea Frequency so as to know how the data is distributed "
   ]
  },
  {
   "cell_type": "code",
   "execution_count": 11,
   "metadata": {
    "collapsed": false
   },
   "outputs": [
    {
     "name": "stderr",
     "output_type": "stream",
     "text": [
      "`stat_bin()` using `bins = 30`. Pick better value with `binwidth`.\n"
     ]
    },
    {
     "data": {},
     "metadata": {},
     "output_type": "display_data"
    },
    {
     "data": {
      "image/png": "[encoded data removed]",
      "text/plain": [
       "plot without title"
      ]
     },
     "metadata": {},
     "output_type": "display_data"
    }
   ],
   "source": [
    "ggplot(data = data_ ) +  \n",
    "    geom_histogram(mapping = aes(data_$LotArea),fill=\"navyblue\",color=\"grey\") + \n",
    "        theme(aspect.ratio =.75)"
   ]
  },
  {
   "cell_type": "markdown",
   "metadata": {},
   "source": [
    "<br>\n",
    "<br>\n",
    "<br>\n",
    "<br>\n",
    "<br>\n",
    "<br>\n",
    "<br>\n",
    "<br>\n",
    "<br>\n",
    "\n",
    "#### 2.4. Plotting Frequency distribution and SalePrice distribution among Neighborhood cities\n",
    "##### 2.4.1. BAR GRAPH\n",
    " ** It is observed from the plot that the data set contains more houses located in the neighborhood of \"NAmes\" city.**"
   ]
  },
  {
   "cell_type": "code",
   "execution_count": 12,
   "metadata": {
    "collapsed": false
   },
   "outputs": [
    {
     "data": {},
     "metadata": {},
     "output_type": "display_data"
    },
    {
     "data": {
      "image/png": "[encoded data removed]",
      "text/plain": [
       "plot without title"
      ]
     },
     "metadata": {},
     "output_type": "display_data"
    }
   ],
   "source": [
    "ggplot(data = data_) + \n",
    "    geom_bar(mapping = aes(data_$Neighborhood), fill=\"black\",color=\"grey\")+ \n",
    "        theme(aspect.ratio =.65) +\n",
    "            labs(x=\"NEIGHBORHOOD\") +\n",
    "                #theme(axis.text.x = element_text(angle=90, hjust=1)) + \n",
    "                     coord_flip();"
   ]
  },
  {
   "cell_type": "markdown",
   "metadata": {},
   "source": [
    "<br>\n",
    "<br>\n",
    "<br>\n",
    "<br>\n",
    "<br>\n",
    "<br>\n",
    "<br>\n",
    "<br>\n",
    "\n",
    "\n",
    "##### 2.4.2. BOX PLOT\n",
    "** This plot shows the SalePrice range and details of each Neighborhood**"
   ]
  },
  {
   "cell_type": "code",
   "execution_count": 13,
   "metadata": {
    "collapsed": false
   },
   "outputs": [
    {
     "data": {
      "image/png": "[encoded data removed]",
      "text/plain": [
       "plot without title"
      ]
     },
     "metadata": {},
     "output_type": "display_data"
    }
   ],
   "source": [
    "boxplot(SalePrice~Neighborhood,data = data_,col = \"grey\",border = \"black\")"
   ]
  },
  {
   "cell_type": "markdown",
   "metadata": {},
   "source": [
    "<br>\n",
    "<br>\n",
    "<br>\n",
    "<br>\n",
    "<br>\n",
    "<br>\n",
    "<br>\n",
    "#### Plotting Box plot for HouseStyle so as to know how the data is distributed "
   ]
  },
  {
   "cell_type": "code",
   "execution_count": 14,
   "metadata": {
    "collapsed": false
   },
   "outputs": [
    {
     "data": {
      "image/png": "[encoded data removed]",
      "text/plain": [
       "plot without title"
      ]
     },
     "metadata": {},
     "output_type": "display_data"
    }
   ],
   "source": [
    "boxplot( SalePrice~HouseStyle,\n",
    "        data = data_,\n",
    "        col = \"white\",\n",
    "        border = \"black\", par(bg = 'grey') )"
   ]
  },
  {
   "cell_type": "markdown",
   "metadata": {
    "collapsed": true
   },
   "source": [
    "# <font color=\"darkred\">Note:</font> We don't conclude our exploration yet. The rest of the exploration will be done after the missing value imputation."
   ]
  },
  {
   "cell_type": "markdown",
   "metadata": {},
   "source": [
    "<br>\n",
    "<br>\n",
    "\n",
    "## 3. Missing Value \n",
    "** -By using missForest package **\n",
    "<font color=\"darkblue\"> ** This package is selected because it is flexible for imputing missing value of categorical and continuous variable at one go. ** </font><br>\n",
    "<font color=\"darkblue\"> ** This imputes the missing value by predicting the possibility of value **</font> </br>"
   ]
  },
  {
   "cell_type": "markdown",
   "metadata": {},
   "source": [
    "### 3.1 Checking for missing Values"
   ]
  },
  {
   "cell_type": "code",
   "execution_count": 15,
   "metadata": {
    "collapsed": false
   },
   "outputs": [
    {
     "name": "stderr",
     "output_type": "stream",
     "text": [
      "Loading required package: randomForest\n",
      "randomForest 4.6-12\n",
      "Type rfNews() to see new features/changes/bug fixes.\n",
      "\n",
      "Attaching package: ‘randomForest’\n",
      "\n",
      "The following object is masked from ‘package:ggplot2’:\n",
      "\n",
      "    margin\n",
      "\n",
      "Loading required package: foreach\n",
      "Loading required package: itertools\n",
      "Loading required package: iterators\n"
     ]
    }
   ],
   "source": [
    "## Loading missForest package for missing value treatment\n",
    "\n",
    "library(missForest)"
   ]
  },
  {
   "cell_type": "code",
   "execution_count": 16,
   "metadata": {
    "collapsed": false,
    "scrolled": true
   },
   "outputs": [
    {
     "data": {
      "text/html": [
       "<dl class=dl-horizontal>\n",
       "\t<dt>PoolQC</dt>\n",
       "\t\t<dd>0.995205479452055</dd>\n",
       "\t<dt>MiscFeature</dt>\n",
       "\t\t<dd>0.963013698630137</dd>\n",
       "\t<dt>Alley</dt>\n",
       "\t\t<dd>0.937671232876712</dd>\n",
       "\t<dt>Fence</dt>\n",
       "\t\t<dd>0.807534246575342</dd>\n",
       "\t<dt>FireplaceQu</dt>\n",
       "\t\t<dd>0.472602739726027</dd>\n",
       "\t<dt>LotFrontage</dt>\n",
       "\t\t<dd>0.177397260273973</dd>\n",
       "\t<dt>GarageType</dt>\n",
       "\t\t<dd>0.0554794520547945</dd>\n",
       "\t<dt>GarageYrBlt</dt>\n",
       "\t\t<dd>0.0554794520547945</dd>\n",
       "\t<dt>GarageFinish</dt>\n",
       "\t\t<dd>0.0554794520547945</dd>\n",
       "\t<dt>GarageQual</dt>\n",
       "\t\t<dd>0.0554794520547945</dd>\n",
       "\t<dt>GarageCond</dt>\n",
       "\t\t<dd>0.0554794520547945</dd>\n",
       "\t<dt>BsmtExposure</dt>\n",
       "\t\t<dd>0.026027397260274</dd>\n",
       "\t<dt>BsmtFinType2</dt>\n",
       "\t\t<dd>0.026027397260274</dd>\n",
       "\t<dt>BsmtQual</dt>\n",
       "\t\t<dd>0.0253424657534247</dd>\n",
       "\t<dt>BsmtCond</dt>\n",
       "\t\t<dd>0.0253424657534247</dd>\n",
       "\t<dt>BsmtFinType1</dt>\n",
       "\t\t<dd>0.0253424657534247</dd>\n",
       "\t<dt>MasVnrType</dt>\n",
       "\t\t<dd>0.00547945205479452</dd>\n",
       "\t<dt>MasVnrArea</dt>\n",
       "\t\t<dd>0.00547945205479452</dd>\n",
       "\t<dt>Electrical</dt>\n",
       "\t\t<dd>0.000684931506849315</dd>\n",
       "\t<dt>Id</dt>\n",
       "\t\t<dd>0</dd>\n",
       "</dl>\n"
      ],
      "text/latex": [
       "\\begin{description*}\n",
       "\\item[PoolQC] 0.995205479452055\n",
       "\\item[MiscFeature] 0.963013698630137\n",
       "\\item[Alley] 0.937671232876712\n",
       "\\item[Fence] 0.807534246575342\n",
       "\\item[FireplaceQu] 0.472602739726027\n",
       "\\item[LotFrontage] 0.177397260273973\n",
       "\\item[GarageType] 0.0554794520547945\n",
       "\\item[GarageYrBlt] 0.0554794520547945\n",
       "\\item[GarageFinish] 0.0554794520547945\n",
       "\\item[GarageQual] 0.0554794520547945\n",
       "\\item[GarageCond] 0.0554794520547945\n",
       "\\item[BsmtExposure] 0.026027397260274\n",
       "\\item[BsmtFinType2] 0.026027397260274\n",
       "\\item[BsmtQual] 0.0253424657534247\n",
       "\\item[BsmtCond] 0.0253424657534247\n",
       "\\item[BsmtFinType1] 0.0253424657534247\n",
       "\\item[MasVnrType] 0.00547945205479452\n",
       "\\item[MasVnrArea] 0.00547945205479452\n",
       "\\item[Electrical] 0.000684931506849315\n",
       "\\item[Id] 0\n",
       "\\end{description*}\n"
      ],
      "text/markdown": [
       "PoolQC\n",
       ":   0.995205479452055MiscFeature\n",
       ":   0.963013698630137Alley\n",
       ":   0.937671232876712Fence\n",
       ":   0.807534246575342FireplaceQu\n",
       ":   0.472602739726027LotFrontage\n",
       ":   0.177397260273973GarageType\n",
       ":   0.0554794520547945GarageYrBlt\n",
       ":   0.0554794520547945GarageFinish\n",
       ":   0.0554794520547945GarageQual\n",
       ":   0.0554794520547945GarageCond\n",
       ":   0.0554794520547945BsmtExposure\n",
       ":   0.026027397260274BsmtFinType2\n",
       ":   0.026027397260274BsmtQual\n",
       ":   0.0253424657534247BsmtCond\n",
       ":   0.0253424657534247BsmtFinType1\n",
       ":   0.0253424657534247MasVnrType\n",
       ":   0.00547945205479452MasVnrArea\n",
       ":   0.00547945205479452Electrical\n",
       ":   0.000684931506849315Id\n",
       ":   0\n",
       "\n"
      ],
      "text/plain": [
       "      PoolQC  MiscFeature        Alley        Fence  FireplaceQu  LotFrontage \n",
       "0.9952054795 0.9630136986 0.9376712329 0.8075342466 0.4726027397 0.1773972603 \n",
       "  GarageType  GarageYrBlt GarageFinish   GarageQual   GarageCond BsmtExposure \n",
       "0.0554794521 0.0554794521 0.0554794521 0.0554794521 0.0554794521 0.0260273973 \n",
       "BsmtFinType2     BsmtQual     BsmtCond BsmtFinType1   MasVnrType   MasVnrArea \n",
       "0.0260273973 0.0253424658 0.0253424658 0.0253424658 0.0054794521 0.0054794521 \n",
       "  Electrical           Id \n",
       "0.0006849315 0.0000000000 "
      ]
     },
     "metadata": {},
     "output_type": "display_data"
    }
   ],
   "source": [
    "#Checking For the Columns for presence of Missing Values\n",
    "\n",
    "no_of_missing_values = colMeans(is.na(data_))\n",
    "names(no_of_missing_values) <- colnames(data_)\n",
    "\n",
    "#print(no_of_missing_valuesof_missing_values)\n",
    "sort(no_of_missing_values,decreasing = TRUE)[1:20]"
   ]
  },
  {
   "cell_type": "markdown",
   "metadata": {},
   "source": [
    "<br><br>\n",
    "### 3.2. Missing Value Treatment"
   ]
  },
  {
   "cell_type": "markdown",
   "metadata": {},
   "source": [
    "### 3.2.1. Treating Missing values of those columns whose no. of missing values is more than 80%\n",
    "** These attributes without missing values might have been useful but since the missing values overempowers the dataset it is better to remove them because imputing large no. of values by considering a little data would be of less significance **"
   ]
  },
  {
   "cell_type": "code",
   "execution_count": 17,
   "metadata": {
    "collapsed": true
   },
   "outputs": [],
   "source": [
    "data_change <- data_[,! colMeans(is.na(data_))>.8 ]"
   ]
  },
  {
   "cell_type": "code",
   "execution_count": 18,
   "metadata": {
    "collapsed": false,
    "scrolled": true
   },
   "outputs": [
    {
     "data": {
      "text/html": [
       "<ol class=list-inline>\n",
       "\t<li>'Id'</li>\n",
       "\t<li>'MSSubClass'</li>\n",
       "\t<li>'MSZoning'</li>\n",
       "\t<li>'LotFrontage'</li>\n",
       "\t<li>'LotArea'</li>\n",
       "\t<li>'Street'</li>\n",
       "\t<li>'LotShape'</li>\n",
       "\t<li>'LandContour'</li>\n",
       "\t<li>'Utilities'</li>\n",
       "\t<li>'LotConfig'</li>\n",
       "\t<li>'LandSlope'</li>\n",
       "\t<li>'Neighborhood'</li>\n",
       "\t<li>'Condition1'</li>\n",
       "\t<li>'Condition2'</li>\n",
       "\t<li>'BldgType'</li>\n",
       "\t<li>'HouseStyle'</li>\n",
       "\t<li>'OverallQual'</li>\n",
       "\t<li>'OverallCond'</li>\n",
       "\t<li>'YearBuilt'</li>\n",
       "\t<li>'YearRemodAdd'</li>\n",
       "\t<li>'RoofStyle'</li>\n",
       "\t<li>'RoofMatl'</li>\n",
       "\t<li>'Exterior1st'</li>\n",
       "\t<li>'Exterior2nd'</li>\n",
       "\t<li>'MasVnrType'</li>\n",
       "\t<li>'MasVnrArea'</li>\n",
       "\t<li>'ExterQual'</li>\n",
       "\t<li>'ExterCond'</li>\n",
       "\t<li>'Foundation'</li>\n",
       "\t<li>'BsmtQual'</li>\n",
       "\t<li>'BsmtCond'</li>\n",
       "\t<li>'BsmtExposure'</li>\n",
       "\t<li>'BsmtFinType1'</li>\n",
       "\t<li>'BsmtFinSF1'</li>\n",
       "\t<li>'BsmtFinType2'</li>\n",
       "\t<li>'BsmtFinSF2'</li>\n",
       "\t<li>'BsmtUnfSF'</li>\n",
       "\t<li>'TotalBsmtSF'</li>\n",
       "\t<li>'Heating'</li>\n",
       "\t<li>'HeatingQC'</li>\n",
       "\t<li>'CentralAir'</li>\n",
       "\t<li>'Electrical'</li>\n",
       "\t<li>'X1stFlrSF'</li>\n",
       "\t<li>'X2ndFlrSF'</li>\n",
       "\t<li>'LowQualFinSF'</li>\n",
       "\t<li>'GrLivArea'</li>\n",
       "\t<li>'BsmtFullBath'</li>\n",
       "\t<li>'BsmtHalfBath'</li>\n",
       "\t<li>'FullBath'</li>\n",
       "\t<li>'HalfBath'</li>\n",
       "\t<li>'BedroomAbvGr'</li>\n",
       "\t<li>'KitchenAbvGr'</li>\n",
       "\t<li>'KitchenQual'</li>\n",
       "\t<li>'TotRmsAbvGrd'</li>\n",
       "\t<li>'Functional'</li>\n",
       "\t<li>'Fireplaces'</li>\n",
       "\t<li>'FireplaceQu'</li>\n",
       "\t<li>'GarageType'</li>\n",
       "\t<li>'GarageYrBlt'</li>\n",
       "\t<li>'GarageFinish'</li>\n",
       "\t<li>'GarageCars'</li>\n",
       "\t<li>'GarageArea'</li>\n",
       "\t<li>'GarageQual'</li>\n",
       "\t<li>'GarageCond'</li>\n",
       "\t<li>'PavedDrive'</li>\n",
       "\t<li>'WoodDeckSF'</li>\n",
       "\t<li>'OpenPorchSF'</li>\n",
       "\t<li>'EnclosedPorch'</li>\n",
       "\t<li>'X3SsnPorch'</li>\n",
       "\t<li>'ScreenPorch'</li>\n",
       "\t<li>'PoolArea'</li>\n",
       "\t<li>'MiscVal'</li>\n",
       "\t<li>'MoSold'</li>\n",
       "\t<li>'YrSold'</li>\n",
       "\t<li>'SaleType'</li>\n",
       "\t<li>'SaleCondition'</li>\n",
       "\t<li>'SalePrice'</li>\n",
       "</ol>\n"
      ],
      "text/latex": [
       "\\begin{enumerate*}\n",
       "\\item 'Id'\n",
       "\\item 'MSSubClass'\n",
       "\\item 'MSZoning'\n",
       "\\item 'LotFrontage'\n",
       "\\item 'LotArea'\n",
       "\\item 'Street'\n",
       "\\item 'LotShape'\n",
       "\\item 'LandContour'\n",
       "\\item 'Utilities'\n",
       "\\item 'LotConfig'\n",
       "\\item 'LandSlope'\n",
       "\\item 'Neighborhood'\n",
       "\\item 'Condition1'\n",
       "\\item 'Condition2'\n",
       "\\item 'BldgType'\n",
       "\\item 'HouseStyle'\n",
       "\\item 'OverallQual'\n",
       "\\item 'OverallCond'\n",
       "\\item 'YearBuilt'\n",
       "\\item 'YearRemodAdd'\n",
       "\\item 'RoofStyle'\n",
       "\\item 'RoofMatl'\n",
       "\\item 'Exterior1st'\n",
       "\\item 'Exterior2nd'\n",
       "\\item 'MasVnrType'\n",
       "\\item 'MasVnrArea'\n",
       "\\item 'ExterQual'\n",
       "\\item 'ExterCond'\n",
       "\\item 'Foundation'\n",
       "\\item 'BsmtQual'\n",
       "\\item 'BsmtCond'\n",
       "\\item 'BsmtExposure'\n",
       "\\item 'BsmtFinType1'\n",
       "\\item 'BsmtFinSF1'\n",
       "\\item 'BsmtFinType2'\n",
       "\\item 'BsmtFinSF2'\n",
       "\\item 'BsmtUnfSF'\n",
       "\\item 'TotalBsmtSF'\n",
       "\\item 'Heating'\n",
       "\\item 'HeatingQC'\n",
       "\\item 'CentralAir'\n",
       "\\item 'Electrical'\n",
       "\\item 'X1stFlrSF'\n",
       "\\item 'X2ndFlrSF'\n",
       "\\item 'LowQualFinSF'\n",
       "\\item 'GrLivArea'\n",
       "\\item 'BsmtFullBath'\n",
       "\\item 'BsmtHalfBath'\n",
       "\\item 'FullBath'\n",
       "\\item 'HalfBath'\n",
       "\\item 'BedroomAbvGr'\n",
       "\\item 'KitchenAbvGr'\n",
       "\\item 'KitchenQual'\n",
       "\\item 'TotRmsAbvGrd'\n",
       "\\item 'Functional'\n",
       "\\item 'Fireplaces'\n",
       "\\item 'FireplaceQu'\n",
       "\\item 'GarageType'\n",
       "\\item 'GarageYrBlt'\n",
       "\\item 'GarageFinish'\n",
       "\\item 'GarageCars'\n",
       "\\item 'GarageArea'\n",
       "\\item 'GarageQual'\n",
       "\\item 'GarageCond'\n",
       "\\item 'PavedDrive'\n",
       "\\item 'WoodDeckSF'\n",
       "\\item 'OpenPorchSF'\n",
       "\\item 'EnclosedPorch'\n",
       "\\item 'X3SsnPorch'\n",
       "\\item 'ScreenPorch'\n",
       "\\item 'PoolArea'\n",
       "\\item 'MiscVal'\n",
       "\\item 'MoSold'\n",
       "\\item 'YrSold'\n",
       "\\item 'SaleType'\n",
       "\\item 'SaleCondition'\n",
       "\\item 'SalePrice'\n",
       "\\end{enumerate*}\n"
      ],
      "text/markdown": [
       "1. 'Id'\n",
       "2. 'MSSubClass'\n",
       "3. 'MSZoning'\n",
       "4. 'LotFrontage'\n",
       "5. 'LotArea'\n",
       "6. 'Street'\n",
       "7. 'LotShape'\n",
       "8. 'LandContour'\n",
       "9. 'Utilities'\n",
       "10. 'LotConfig'\n",
       "11. 'LandSlope'\n",
       "12. 'Neighborhood'\n",
       "13. 'Condition1'\n",
       "14. 'Condition2'\n",
       "15. 'BldgType'\n",
       "16. 'HouseStyle'\n",
       "17. 'OverallQual'\n",
       "18. 'OverallCond'\n",
       "19. 'YearBuilt'\n",
       "20. 'YearRemodAdd'\n",
       "21. 'RoofStyle'\n",
       "22. 'RoofMatl'\n",
       "23. 'Exterior1st'\n",
       "24. 'Exterior2nd'\n",
       "25. 'MasVnrType'\n",
       "26. 'MasVnrArea'\n",
       "27. 'ExterQual'\n",
       "28. 'ExterCond'\n",
       "29. 'Foundation'\n",
       "30. 'BsmtQual'\n",
       "31. 'BsmtCond'\n",
       "32. 'BsmtExposure'\n",
       "33. 'BsmtFinType1'\n",
       "34. 'BsmtFinSF1'\n",
       "35. 'BsmtFinType2'\n",
       "36. 'BsmtFinSF2'\n",
       "37. 'BsmtUnfSF'\n",
       "38. 'TotalBsmtSF'\n",
       "39. 'Heating'\n",
       "40. 'HeatingQC'\n",
       "41. 'CentralAir'\n",
       "42. 'Electrical'\n",
       "43. 'X1stFlrSF'\n",
       "44. 'X2ndFlrSF'\n",
       "45. 'LowQualFinSF'\n",
       "46. 'GrLivArea'\n",
       "47. 'BsmtFullBath'\n",
       "48. 'BsmtHalfBath'\n",
       "49. 'FullBath'\n",
       "50. 'HalfBath'\n",
       "51. 'BedroomAbvGr'\n",
       "52. 'KitchenAbvGr'\n",
       "53. 'KitchenQual'\n",
       "54. 'TotRmsAbvGrd'\n",
       "55. 'Functional'\n",
       "56. 'Fireplaces'\n",
       "57. 'FireplaceQu'\n",
       "58. 'GarageType'\n",
       "59. 'GarageYrBlt'\n",
       "60. 'GarageFinish'\n",
       "61. 'GarageCars'\n",
       "62. 'GarageArea'\n",
       "63. 'GarageQual'\n",
       "64. 'GarageCond'\n",
       "65. 'PavedDrive'\n",
       "66. 'WoodDeckSF'\n",
       "67. 'OpenPorchSF'\n",
       "68. 'EnclosedPorch'\n",
       "69. 'X3SsnPorch'\n",
       "70. 'ScreenPorch'\n",
       "71. 'PoolArea'\n",
       "72. 'MiscVal'\n",
       "73. 'MoSold'\n",
       "74. 'YrSold'\n",
       "75. 'SaleType'\n",
       "76. 'SaleCondition'\n",
       "77. 'SalePrice'\n",
       "\n",
       "\n"
      ],
      "text/plain": [
       " [1] \"Id\"            \"MSSubClass\"    \"MSZoning\"      \"LotFrontage\"  \n",
       " [5] \"LotArea\"       \"Street\"        \"LotShape\"      \"LandContour\"  \n",
       " [9] \"Utilities\"     \"LotConfig\"     \"LandSlope\"     \"Neighborhood\" \n",
       "[13] \"Condition1\"    \"Condition2\"    \"BldgType\"      \"HouseStyle\"   \n",
       "[17] \"OverallQual\"   \"OverallCond\"   \"YearBuilt\"     \"YearRemodAdd\" \n",
       "[21] \"RoofStyle\"     \"RoofMatl\"      \"Exterior1st\"   \"Exterior2nd\"  \n",
       "[25] \"MasVnrType\"    \"MasVnrArea\"    \"ExterQual\"     \"ExterCond\"    \n",
       "[29] \"Foundation\"    \"BsmtQual\"      \"BsmtCond\"      \"BsmtExposure\" \n",
       "[33] \"BsmtFinType1\"  \"BsmtFinSF1\"    \"BsmtFinType2\"  \"BsmtFinSF2\"   \n",
       "[37] \"BsmtUnfSF\"     \"TotalBsmtSF\"   \"Heating\"       \"HeatingQC\"    \n",
       "[41] \"CentralAir\"    \"Electrical\"    \"X1stFlrSF\"     \"X2ndFlrSF\"    \n",
       "[45] \"LowQualFinSF\"  \"GrLivArea\"     \"BsmtFullBath\"  \"BsmtHalfBath\" \n",
       "[49] \"FullBath\"      \"HalfBath\"      \"BedroomAbvGr\"  \"KitchenAbvGr\" \n",
       "[53] \"KitchenQual\"   \"TotRmsAbvGrd\"  \"Functional\"    \"Fireplaces\"   \n",
       "[57] \"FireplaceQu\"   \"GarageType\"    \"GarageYrBlt\"   \"GarageFinish\" \n",
       "[61] \"GarageCars\"    \"GarageArea\"    \"GarageQual\"    \"GarageCond\"   \n",
       "[65] \"PavedDrive\"    \"WoodDeckSF\"    \"OpenPorchSF\"   \"EnclosedPorch\"\n",
       "[69] \"X3SsnPorch\"    \"ScreenPorch\"   \"PoolArea\"      \"MiscVal\"      \n",
       "[73] \"MoSold\"        \"YrSold\"        \"SaleType\"      \"SaleCondition\"\n",
       "[77] \"SalePrice\"    "
      ]
     },
     "metadata": {},
     "output_type": "display_data"
    }
   ],
   "source": [
    "names(data_change)"
   ]
  },
  {
   "cell_type": "markdown",
   "metadata": {},
   "source": [
    "<br><br><br><br><br><br><br><br><br><br><br><br><br><br><br><br><br><br><br>"
   ]
  },
  {
   "cell_type": "markdown",
   "metadata": {},
   "source": [
    "<br><br><br>\n",
    "### 3.2.2. Treating Missing Values less than 70%\n",
    "   ** By Predictive Imputation **"
   ]
  },
  {
   "cell_type": "markdown",
   "metadata": {},
   "source": [
    "** We use package \"missForest\" to impute missing values because our data contains a mixed type of variables**"
   ]
  },
  {
   "cell_type": "code",
   "execution_count": 19,
   "metadata": {
    "collapsed": false
   },
   "outputs": [
    {
     "data": {
      "text/html": [
       "<dl class=dl-horizontal>\n",
       "\t<dt>FireplaceQu</dt>\n",
       "\t\t<dd>0.472602739726027</dd>\n",
       "\t<dt>LotFrontage</dt>\n",
       "\t\t<dd>0.177397260273973</dd>\n",
       "\t<dt>GarageType</dt>\n",
       "\t\t<dd>0.0554794520547945</dd>\n",
       "\t<dt>GarageYrBlt</dt>\n",
       "\t\t<dd>0.0554794520547945</dd>\n",
       "\t<dt>GarageFinish</dt>\n",
       "\t\t<dd>0.0554794520547945</dd>\n",
       "\t<dt>GarageQual</dt>\n",
       "\t\t<dd>0.0554794520547945</dd>\n",
       "\t<dt>GarageCond</dt>\n",
       "\t\t<dd>0.0554794520547945</dd>\n",
       "\t<dt>BsmtExposure</dt>\n",
       "\t\t<dd>0.026027397260274</dd>\n",
       "\t<dt>BsmtFinType2</dt>\n",
       "\t\t<dd>0.026027397260274</dd>\n",
       "\t<dt>BsmtQual</dt>\n",
       "\t\t<dd>0.0253424657534247</dd>\n",
       "\t<dt>BsmtCond</dt>\n",
       "\t\t<dd>0.0253424657534247</dd>\n",
       "\t<dt>BsmtFinType1</dt>\n",
       "\t\t<dd>0.0253424657534247</dd>\n",
       "\t<dt>MasVnrType</dt>\n",
       "\t\t<dd>0.00547945205479452</dd>\n",
       "\t<dt>MasVnrArea</dt>\n",
       "\t\t<dd>0.00547945205479452</dd>\n",
       "\t<dt>Electrical</dt>\n",
       "\t\t<dd>0.000684931506849315</dd>\n",
       "\t<dt>Id</dt>\n",
       "\t\t<dd>0</dd>\n",
       "\t<dt>MSSubClass</dt>\n",
       "\t\t<dd>0</dd>\n",
       "</dl>\n"
      ],
      "text/latex": [
       "\\begin{description*}\n",
       "\\item[FireplaceQu] 0.472602739726027\n",
       "\\item[LotFrontage] 0.177397260273973\n",
       "\\item[GarageType] 0.0554794520547945\n",
       "\\item[GarageYrBlt] 0.0554794520547945\n",
       "\\item[GarageFinish] 0.0554794520547945\n",
       "\\item[GarageQual] 0.0554794520547945\n",
       "\\item[GarageCond] 0.0554794520547945\n",
       "\\item[BsmtExposure] 0.026027397260274\n",
       "\\item[BsmtFinType2] 0.026027397260274\n",
       "\\item[BsmtQual] 0.0253424657534247\n",
       "\\item[BsmtCond] 0.0253424657534247\n",
       "\\item[BsmtFinType1] 0.0253424657534247\n",
       "\\item[MasVnrType] 0.00547945205479452\n",
       "\\item[MasVnrArea] 0.00547945205479452\n",
       "\\item[Electrical] 0.000684931506849315\n",
       "\\item[Id] 0\n",
       "\\item[MSSubClass] 0\n",
       "\\end{description*}\n"
      ],
      "text/markdown": [
       "FireplaceQu\n",
       ":   0.472602739726027LotFrontage\n",
       ":   0.177397260273973GarageType\n",
       ":   0.0554794520547945GarageYrBlt\n",
       ":   0.0554794520547945GarageFinish\n",
       ":   0.0554794520547945GarageQual\n",
       ":   0.0554794520547945GarageCond\n",
       ":   0.0554794520547945BsmtExposure\n",
       ":   0.026027397260274BsmtFinType2\n",
       ":   0.026027397260274BsmtQual\n",
       ":   0.0253424657534247BsmtCond\n",
       ":   0.0253424657534247BsmtFinType1\n",
       ":   0.0253424657534247MasVnrType\n",
       ":   0.00547945205479452MasVnrArea\n",
       ":   0.00547945205479452Electrical\n",
       ":   0.000684931506849315Id\n",
       ":   0MSSubClass\n",
       ":   0\n",
       "\n"
      ],
      "text/plain": [
       " FireplaceQu  LotFrontage   GarageType  GarageYrBlt GarageFinish   GarageQual \n",
       "0.4726027397 0.1773972603 0.0554794521 0.0554794521 0.0554794521 0.0554794521 \n",
       "  GarageCond BsmtExposure BsmtFinType2     BsmtQual     BsmtCond BsmtFinType1 \n",
       "0.0554794521 0.0260273973 0.0260273973 0.0253424658 0.0253424658 0.0253424658 \n",
       "  MasVnrType   MasVnrArea   Electrical           Id   MSSubClass \n",
       "0.0054794521 0.0054794521 0.0006849315 0.0000000000 0.0000000000 "
      ]
     },
     "metadata": {},
     "output_type": "display_data"
    }
   ],
   "source": [
    "#VIEWING THE MISSING VALUE AMOUNT IN DATA SET BEFORE TREATMENT\n",
    "sort(colMeans(is.na(data_change)),decreasing = TRUE)[1:17]"
   ]
  },
  {
   "cell_type": "code",
   "execution_count": 20,
   "metadata": {
    "collapsed": false
   },
   "outputs": [
    {
     "data": {
      "text/html": [
       "<table>\n",
       "<thead><tr><th></th><th scope=col>LotFrontage</th><th scope=col>MasVnrType</th><th scope=col>MasVnrArea</th><th scope=col>BsmtQual</th><th scope=col>BsmtCond</th><th scope=col>BsmtExposure</th><th scope=col>BsmtFinType1</th><th scope=col>BsmtFinType2</th><th scope=col>Electrical</th><th scope=col>FireplaceQu</th><th scope=col>GarageType</th><th scope=col>GarageYrBlt</th><th scope=col>GarageFinish</th><th scope=col>GarageQual</th><th scope=col>GarageCond</th></tr></thead>\n",
       "<tbody>\n",
       "\t<tr><th scope=row>1455</th><td>62    </td><td>None  </td><td>  0   </td><td>Gd    </td><td>TA    </td><td>No    </td><td>GLQ   </td><td>Unf   </td><td>SBrkr </td><td>NA    </td><td>Attchd</td><td>2004  </td><td>RFn   </td><td>TA    </td><td>TA    </td></tr>\n",
       "\t<tr><th scope=row>1456</th><td>62    </td><td>None  </td><td>  0   </td><td>Gd    </td><td>TA    </td><td>No    </td><td>Unf   </td><td>Unf   </td><td>SBrkr </td><td>TA    </td><td>Attchd</td><td>1999  </td><td>RFn   </td><td>TA    </td><td>TA    </td></tr>\n",
       "\t<tr><th scope=row>1457</th><td>85    </td><td>Stone </td><td>119   </td><td>Gd    </td><td>TA    </td><td>No    </td><td>ALQ   </td><td>Rec   </td><td>SBrkr </td><td>TA    </td><td>Attchd</td><td>1978  </td><td>Unf   </td><td>TA    </td><td>TA    </td></tr>\n",
       "\t<tr><th scope=row>1458</th><td>66    </td><td>None  </td><td>  0   </td><td>TA    </td><td>Gd    </td><td>No    </td><td>GLQ   </td><td>Unf   </td><td>SBrkr </td><td>Gd    </td><td>Attchd</td><td>1941  </td><td>RFn   </td><td>TA    </td><td>TA    </td></tr>\n",
       "\t<tr><th scope=row>1459</th><td>68    </td><td>None  </td><td>  0   </td><td>TA    </td><td>TA    </td><td>Mn    </td><td>GLQ   </td><td>Rec   </td><td>FuseA </td><td>NA    </td><td>Attchd</td><td>1950  </td><td>Unf   </td><td>TA    </td><td>TA    </td></tr>\n",
       "\t<tr><th scope=row>1460</th><td>75    </td><td>None  </td><td>  0   </td><td>TA    </td><td>TA    </td><td>No    </td><td>BLQ   </td><td>LwQ   </td><td>SBrkr </td><td>NA    </td><td>Attchd</td><td>1965  </td><td>Fin   </td><td>TA    </td><td>TA    </td></tr>\n",
       "</tbody>\n",
       "</table>\n"
      ],
      "text/latex": [
       "\\begin{tabular}{r|lllllllllllllll}\n",
       "  & LotFrontage & MasVnrType & MasVnrArea & BsmtQual & BsmtCond & BsmtExposure & BsmtFinType1 & BsmtFinType2 & Electrical & FireplaceQu & GarageType & GarageYrBlt & GarageFinish & GarageQual & GarageCond\\\\\n",
       "\\hline\n",
       "\t1455 & 62     & None   &   0    & Gd     & TA     & No     & GLQ    & Unf    & SBrkr  & NA     & Attchd & 2004   & RFn    & TA     & TA    \\\\\n",
       "\t1456 & 62     & None   &   0    & Gd     & TA     & No     & Unf    & Unf    & SBrkr  & TA     & Attchd & 1999   & RFn    & TA     & TA    \\\\\n",
       "\t1457 & 85     & Stone  & 119    & Gd     & TA     & No     & ALQ    & Rec    & SBrkr  & TA     & Attchd & 1978   & Unf    & TA     & TA    \\\\\n",
       "\t1458 & 66     & None   &   0    & TA     & Gd     & No     & GLQ    & Unf    & SBrkr  & Gd     & Attchd & 1941   & RFn    & TA     & TA    \\\\\n",
       "\t1459 & 68     & None   &   0    & TA     & TA     & Mn     & GLQ    & Rec    & FuseA  & NA     & Attchd & 1950   & Unf    & TA     & TA    \\\\\n",
       "\t1460 & 75     & None   &   0    & TA     & TA     & No     & BLQ    & LwQ    & SBrkr  & NA     & Attchd & 1965   & Fin    & TA     & TA    \\\\\n",
       "\\end{tabular}\n"
      ],
      "text/markdown": [
       "\n",
       "| <!--/--> | LotFrontage | MasVnrType | MasVnrArea | BsmtQual | BsmtCond | BsmtExposure | BsmtFinType1 | BsmtFinType2 | Electrical | FireplaceQu | GarageType | GarageYrBlt | GarageFinish | GarageQual | GarageCond | \n",
       "|---|---|---|---|---|---|\n",
       "| 1455 | 62     | None   |   0    | Gd     | TA     | No     | GLQ    | Unf    | SBrkr  | NA     | Attchd | 2004   | RFn    | TA     | TA     | \n",
       "| 1456 | 62     | None   |   0    | Gd     | TA     | No     | Unf    | Unf    | SBrkr  | TA     | Attchd | 1999   | RFn    | TA     | TA     | \n",
       "| 1457 | 85     | Stone  | 119    | Gd     | TA     | No     | ALQ    | Rec    | SBrkr  | TA     | Attchd | 1978   | Unf    | TA     | TA     | \n",
       "| 1458 | 66     | None   |   0    | TA     | Gd     | No     | GLQ    | Unf    | SBrkr  | Gd     | Attchd | 1941   | RFn    | TA     | TA     | \n",
       "| 1459 | 68     | None   |   0    | TA     | TA     | Mn     | GLQ    | Rec    | FuseA  | NA     | Attchd | 1950   | Unf    | TA     | TA     | \n",
       "| 1460 | 75     | None   |   0    | TA     | TA     | No     | BLQ    | LwQ    | SBrkr  | NA     | Attchd | 1965   | Fin    | TA     | TA     | \n",
       "\n",
       "\n"
      ],
      "text/plain": [
       "     LotFrontage MasVnrType MasVnrArea BsmtQual BsmtCond BsmtExposure\n",
       "1455 62          None         0        Gd       TA       No          \n",
       "1456 62          None         0        Gd       TA       No          \n",
       "1457 85          Stone      119        Gd       TA       No          \n",
       "1458 66          None         0        TA       Gd       No          \n",
       "1459 68          None         0        TA       TA       Mn          \n",
       "1460 75          None         0        TA       TA       No          \n",
       "     BsmtFinType1 BsmtFinType2 Electrical FireplaceQu GarageType GarageYrBlt\n",
       "1455 GLQ          Unf          SBrkr      NA          Attchd     2004       \n",
       "1456 Unf          Unf          SBrkr      TA          Attchd     1999       \n",
       "1457 ALQ          Rec          SBrkr      TA          Attchd     1978       \n",
       "1458 GLQ          Unf          SBrkr      Gd          Attchd     1941       \n",
       "1459 GLQ          Rec          FuseA      NA          Attchd     1950       \n",
       "1460 BLQ          LwQ          SBrkr      NA          Attchd     1965       \n",
       "     GarageFinish GarageQual GarageCond\n",
       "1455 RFn          TA         TA        \n",
       "1456 RFn          TA         TA        \n",
       "1457 Unf          TA         TA        \n",
       "1458 RFn          TA         TA        \n",
       "1459 Unf          TA         TA        \n",
       "1460 Fin          TA         TA        "
      ]
     },
     "metadata": {},
     "output_type": "display_data"
    },
    {
     "name": "stdout",
     "output_type": "stream",
     "text": [
      "\n",
      "\n",
      "Focusing on a particular column::::\n",
      "\n"
     ]
    },
    {
     "data": {
      "text/html": [
       "<table>\n",
       "<thead><tr><th></th><th scope=col>FireplaceQu</th></tr></thead>\n",
       "<tbody>\n",
       "\t<tr><th scope=row>1455</th><td>NA</td></tr>\n",
       "\t<tr><th scope=row>1456</th><td>TA</td></tr>\n",
       "\t<tr><th scope=row>1457</th><td>TA</td></tr>\n",
       "\t<tr><th scope=row>1458</th><td>Gd</td></tr>\n",
       "\t<tr><th scope=row>1459</th><td>NA</td></tr>\n",
       "\t<tr><th scope=row>1460</th><td>NA</td></tr>\n",
       "</tbody>\n",
       "</table>\n"
      ],
      "text/latex": [
       "\\begin{tabular}{r|l}\n",
       "  & FireplaceQu\\\\\n",
       "\\hline\n",
       "\t1455 & NA\\\\\n",
       "\t1456 & TA\\\\\n",
       "\t1457 & TA\\\\\n",
       "\t1458 & Gd\\\\\n",
       "\t1459 & NA\\\\\n",
       "\t1460 & NA\\\\\n",
       "\\end{tabular}\n"
      ],
      "text/markdown": [
       "\n",
       "| <!--/--> | FireplaceQu | \n",
       "|---|---|---|---|---|---|\n",
       "| 1455 | NA | \n",
       "| 1456 | TA | \n",
       "| 1457 | TA | \n",
       "| 1458 | Gd | \n",
       "| 1459 | NA | \n",
       "| 1460 | NA | \n",
       "\n",
       "\n"
      ],
      "text/plain": [
       "     FireplaceQu\n",
       "1455 NA         \n",
       "1456 TA         \n",
       "1457 TA         \n",
       "1458 Gd         \n",
       "1459 NA         \n",
       "1460 NA         "
      ]
     },
     "metadata": {},
     "output_type": "display_data"
    }
   ],
   "source": [
    "#Viewing the missing data \n",
    "tail(data_change[,colSums(is.na(data_change))>0])\n",
    "cat(\"\\n\\nFocusing on a particular column::::\\n\\n\")\n",
    "tail(data_change['FireplaceQu'])"
   ]
  },
  {
   "cell_type": "code",
   "execution_count": 21,
   "metadata": {
    "collapsed": false
   },
   "outputs": [
    {
     "name": "stdout",
     "output_type": "stream",
     "text": [
      "  missForest iteration 1 in progress...done!\n",
      "  missForest iteration 2 in progress...done!\n",
      "  missForest iteration 3 in progress...done!\n"
     ]
    }
   ],
   "source": [
    "#Imputing the data set using pmm\n",
    "\n",
    "data_imp <- missForest(data_change, maxiter = 5,ntree = 50)"
   ]
  },
  {
   "cell_type": "code",
   "execution_count": 22,
   "metadata": {
    "collapsed": false,
    "scrolled": true
   },
   "outputs": [
    {
     "data": {
      "text/html": [
       "<dl class=dl-horizontal>\n",
       "\t<dt>NRMSE</dt>\n",
       "\t\t<dd>0.000625541665680956</dd>\n",
       "\t<dt>PFC</dt>\n",
       "\t\t<dd>0.0503280868151553</dd>\n",
       "</dl>\n"
      ],
      "text/latex": [
       "\\begin{description*}\n",
       "\\item[NRMSE] 0.000625541665680956\n",
       "\\item[PFC] 0.0503280868151553\n",
       "\\end{description*}\n"
      ],
      "text/markdown": [
       "NRMSE\n",
       ":   0.000625541665680956PFC\n",
       ":   0.0503280868151553\n",
       "\n"
      ],
      "text/plain": [
       "       NRMSE          PFC \n",
       "0.0006255417 0.0503280868 "
      ]
     },
     "metadata": {},
     "output_type": "display_data"
    }
   ],
   "source": [
    "## The error that missForest pmm(Predictive Means Matching) has gone through\n",
    "\n",
    "data_imp$OOBerror"
   ]
  },
  {
   "cell_type": "code",
   "execution_count": 23,
   "metadata": {
    "collapsed": false
   },
   "outputs": [],
   "source": [
    "#Creating a new dataFrame for these furnished data\n",
    "\n",
    "imputed_data_ <- data_imp$ximp"
   ]
  },
  {
   "cell_type": "code",
   "execution_count": 24,
   "metadata": {
    "collapsed": false
   },
   "outputs": [
    {
     "data": {
      "text/html": [
       "<table>\n",
       "<tbody>\n",
       "\t<tr><th scope=row>1455</th></tr>\n",
       "\t<tr><th scope=row>1456</th></tr>\n",
       "\t<tr><th scope=row>1457</th></tr>\n",
       "\t<tr><th scope=row>1458</th></tr>\n",
       "\t<tr><th scope=row>1459</th></tr>\n",
       "\t<tr><th scope=row>1460</th></tr>\n",
       "</tbody>\n",
       "</table>\n"
      ],
      "text/latex": [
       "\\begin{tabular}{r|}\n",
       "\t1455\\\\\n",
       "\t1456\\\\\n",
       "\t1457\\\\\n",
       "\t1458\\\\\n",
       "\t1459\\\\\n",
       "\t1460\\\\\n",
       "\\end{tabular}\n"
      ],
      "text/markdown": [
       "\n",
       "| 1455 | \n",
       "| 1456 | \n",
       "| 1457 | \n",
       "| 1458 | \n",
       "| 1459 | \n",
       "| 1460 | \n",
       "\n",
       "\n"
      ],
      "text/plain": [
       "    \n",
       "1455\n",
       "1456\n",
       "1457\n",
       "1458\n",
       "1459\n",
       "1460"
      ]
     },
     "metadata": {},
     "output_type": "display_data"
    },
    {
     "name": "stdout",
     "output_type": "stream",
     "text": [
      "\n",
      "\n",
      "Revisiting that particular column::::\n",
      "\n"
     ]
    },
    {
     "data": {
      "text/html": [
       "<table>\n",
       "<thead><tr><th></th><th scope=col>FireplaceQu</th></tr></thead>\n",
       "<tbody>\n",
       "\t<tr><th scope=row>1455</th><td>Gd</td></tr>\n",
       "\t<tr><th scope=row>1456</th><td>TA</td></tr>\n",
       "\t<tr><th scope=row>1457</th><td>TA</td></tr>\n",
       "\t<tr><th scope=row>1458</th><td>Gd</td></tr>\n",
       "\t<tr><th scope=row>1459</th><td>Gd</td></tr>\n",
       "\t<tr><th scope=row>1460</th><td>Gd</td></tr>\n",
       "</tbody>\n",
       "</table>\n"
      ],
      "text/latex": [
       "\\begin{tabular}{r|l}\n",
       "  & FireplaceQu\\\\\n",
       "\\hline\n",
       "\t1455 & Gd\\\\\n",
       "\t1456 & TA\\\\\n",
       "\t1457 & TA\\\\\n",
       "\t1458 & Gd\\\\\n",
       "\t1459 & Gd\\\\\n",
       "\t1460 & Gd\\\\\n",
       "\\end{tabular}\n"
      ],
      "text/markdown": [
       "\n",
       "| <!--/--> | FireplaceQu | \n",
       "|---|---|---|---|---|---|\n",
       "| 1455 | Gd | \n",
       "| 1456 | TA | \n",
       "| 1457 | TA | \n",
       "| 1458 | Gd | \n",
       "| 1459 | Gd | \n",
       "| 1460 | Gd | \n",
       "\n",
       "\n"
      ],
      "text/plain": [
       "     FireplaceQu\n",
       "1455 Gd         \n",
       "1456 TA         \n",
       "1457 TA         \n",
       "1458 Gd         \n",
       "1459 Gd         \n",
       "1460 Gd         "
      ]
     },
     "metadata": {},
     "output_type": "display_data"
    }
   ],
   "source": [
    "#Viewing the missing data\n",
    "\n",
    "tail(imputed_data_[,colSums(is.na(imputed_data_))>0])\n",
    "\n",
    "cat(\"\\n\\nRevisiting that particular column::::\\n\\n\")\n",
    "tail(imputed_data_['FireplaceQu'])"
   ]
  },
  {
   "cell_type": "code",
   "execution_count": 25,
   "metadata": {
    "collapsed": false,
    "scrolled": true
   },
   "outputs": [
    {
     "data": {
      "text/html": [
       "<dl class=dl-horizontal>\n",
       "\t<dt>Id</dt>\n",
       "\t\t<dd>0</dd>\n",
       "\t<dt>MSSubClass</dt>\n",
       "\t\t<dd>0</dd>\n",
       "\t<dt>MSZoning</dt>\n",
       "\t\t<dd>0</dd>\n",
       "\t<dt>LotFrontage</dt>\n",
       "\t\t<dd>0</dd>\n",
       "\t<dt>LotArea</dt>\n",
       "\t\t<dd>0</dd>\n",
       "\t<dt>Street</dt>\n",
       "\t\t<dd>0</dd>\n",
       "\t<dt>LotShape</dt>\n",
       "\t\t<dd>0</dd>\n",
       "\t<dt>LandContour</dt>\n",
       "\t\t<dd>0</dd>\n",
       "\t<dt>Utilities</dt>\n",
       "\t\t<dd>0</dd>\n",
       "\t<dt>LotConfig</dt>\n",
       "\t\t<dd>0</dd>\n",
       "\t<dt>LandSlope</dt>\n",
       "\t\t<dd>0</dd>\n",
       "\t<dt>Neighborhood</dt>\n",
       "\t\t<dd>0</dd>\n",
       "\t<dt>Condition1</dt>\n",
       "\t\t<dd>0</dd>\n",
       "\t<dt>Condition2</dt>\n",
       "\t\t<dd>0</dd>\n",
       "\t<dt>BldgType</dt>\n",
       "\t\t<dd>0</dd>\n",
       "\t<dt>HouseStyle</dt>\n",
       "\t\t<dd>0</dd>\n",
       "\t<dt>OverallQual</dt>\n",
       "\t\t<dd>0</dd>\n",
       "\t<dt>OverallCond</dt>\n",
       "\t\t<dd>0</dd>\n",
       "\t<dt>YearBuilt</dt>\n",
       "\t\t<dd>0</dd>\n",
       "\t<dt>YearRemodAdd</dt>\n",
       "\t\t<dd>0</dd>\n",
       "\t<dt>RoofStyle</dt>\n",
       "\t\t<dd>0</dd>\n",
       "\t<dt>RoofMatl</dt>\n",
       "\t\t<dd>0</dd>\n",
       "\t<dt>Exterior1st</dt>\n",
       "\t\t<dd>0</dd>\n",
       "\t<dt>Exterior2nd</dt>\n",
       "\t\t<dd>0</dd>\n",
       "\t<dt>MasVnrType</dt>\n",
       "\t\t<dd>0</dd>\n",
       "\t<dt>MasVnrArea</dt>\n",
       "\t\t<dd>0</dd>\n",
       "\t<dt>ExterQual</dt>\n",
       "\t\t<dd>0</dd>\n",
       "\t<dt>ExterCond</dt>\n",
       "\t\t<dd>0</dd>\n",
       "\t<dt>Foundation</dt>\n",
       "\t\t<dd>0</dd>\n",
       "\t<dt>BsmtQual</dt>\n",
       "\t\t<dd>0</dd>\n",
       "\t<dt>BsmtCond</dt>\n",
       "\t\t<dd>0</dd>\n",
       "\t<dt>BsmtExposure</dt>\n",
       "\t\t<dd>0</dd>\n",
       "\t<dt>BsmtFinType1</dt>\n",
       "\t\t<dd>0</dd>\n",
       "\t<dt>BsmtFinSF1</dt>\n",
       "\t\t<dd>0</dd>\n",
       "\t<dt>BsmtFinType2</dt>\n",
       "\t\t<dd>0</dd>\n",
       "\t<dt>BsmtFinSF2</dt>\n",
       "\t\t<dd>0</dd>\n",
       "\t<dt>BsmtUnfSF</dt>\n",
       "\t\t<dd>0</dd>\n",
       "\t<dt>TotalBsmtSF</dt>\n",
       "\t\t<dd>0</dd>\n",
       "\t<dt>Heating</dt>\n",
       "\t\t<dd>0</dd>\n",
       "\t<dt>HeatingQC</dt>\n",
       "\t\t<dd>0</dd>\n",
       "\t<dt>CentralAir</dt>\n",
       "\t\t<dd>0</dd>\n",
       "\t<dt>Electrical</dt>\n",
       "\t\t<dd>0</dd>\n",
       "\t<dt>X1stFlrSF</dt>\n",
       "\t\t<dd>0</dd>\n",
       "\t<dt>X2ndFlrSF</dt>\n",
       "\t\t<dd>0</dd>\n",
       "\t<dt>LowQualFinSF</dt>\n",
       "\t\t<dd>0</dd>\n",
       "\t<dt>GrLivArea</dt>\n",
       "\t\t<dd>0</dd>\n",
       "\t<dt>BsmtFullBath</dt>\n",
       "\t\t<dd>0</dd>\n",
       "\t<dt>BsmtHalfBath</dt>\n",
       "\t\t<dd>0</dd>\n",
       "\t<dt>FullBath</dt>\n",
       "\t\t<dd>0</dd>\n",
       "\t<dt>HalfBath</dt>\n",
       "\t\t<dd>0</dd>\n",
       "\t<dt>BedroomAbvGr</dt>\n",
       "\t\t<dd>0</dd>\n",
       "\t<dt>KitchenAbvGr</dt>\n",
       "\t\t<dd>0</dd>\n",
       "\t<dt>KitchenQual</dt>\n",
       "\t\t<dd>0</dd>\n",
       "\t<dt>TotRmsAbvGrd</dt>\n",
       "\t\t<dd>0</dd>\n",
       "\t<dt>Functional</dt>\n",
       "\t\t<dd>0</dd>\n",
       "\t<dt>Fireplaces</dt>\n",
       "\t\t<dd>0</dd>\n",
       "\t<dt>FireplaceQu</dt>\n",
       "\t\t<dd>0</dd>\n",
       "\t<dt>GarageType</dt>\n",
       "\t\t<dd>0</dd>\n",
       "\t<dt>GarageYrBlt</dt>\n",
       "\t\t<dd>0</dd>\n",
       "\t<dt>GarageFinish</dt>\n",
       "\t\t<dd>0</dd>\n",
       "\t<dt>GarageCars</dt>\n",
       "\t\t<dd>0</dd>\n",
       "\t<dt>GarageArea</dt>\n",
       "\t\t<dd>0</dd>\n",
       "\t<dt>GarageQual</dt>\n",
       "\t\t<dd>0</dd>\n",
       "\t<dt>GarageCond</dt>\n",
       "\t\t<dd>0</dd>\n",
       "\t<dt>PavedDrive</dt>\n",
       "\t\t<dd>0</dd>\n",
       "\t<dt>WoodDeckSF</dt>\n",
       "\t\t<dd>0</dd>\n",
       "\t<dt>OpenPorchSF</dt>\n",
       "\t\t<dd>0</dd>\n",
       "\t<dt>EnclosedPorch</dt>\n",
       "\t\t<dd>0</dd>\n",
       "\t<dt>X3SsnPorch</dt>\n",
       "\t\t<dd>0</dd>\n",
       "\t<dt>ScreenPorch</dt>\n",
       "\t\t<dd>0</dd>\n",
       "\t<dt>PoolArea</dt>\n",
       "\t\t<dd>0</dd>\n",
       "\t<dt>MiscVal</dt>\n",
       "\t\t<dd>0</dd>\n",
       "\t<dt>MoSold</dt>\n",
       "\t\t<dd>0</dd>\n",
       "\t<dt>YrSold</dt>\n",
       "\t\t<dd>0</dd>\n",
       "\t<dt>SaleType</dt>\n",
       "\t\t<dd>0</dd>\n",
       "\t<dt>SaleCondition</dt>\n",
       "\t\t<dd>0</dd>\n",
       "\t<dt>SalePrice</dt>\n",
       "\t\t<dd>0</dd>\n",
       "</dl>\n"
      ],
      "text/latex": [
       "\\begin{description*}\n",
       "\\item[Id] 0\n",
       "\\item[MSSubClass] 0\n",
       "\\item[MSZoning] 0\n",
       "\\item[LotFrontage] 0\n",
       "\\item[LotArea] 0\n",
       "\\item[Street] 0\n",
       "\\item[LotShape] 0\n",
       "\\item[LandContour] 0\n",
       "\\item[Utilities] 0\n",
       "\\item[LotConfig] 0\n",
       "\\item[LandSlope] 0\n",
       "\\item[Neighborhood] 0\n",
       "\\item[Condition1] 0\n",
       "\\item[Condition2] 0\n",
       "\\item[BldgType] 0\n",
       "\\item[HouseStyle] 0\n",
       "\\item[OverallQual] 0\n",
       "\\item[OverallCond] 0\n",
       "\\item[YearBuilt] 0\n",
       "\\item[YearRemodAdd] 0\n",
       "\\item[RoofStyle] 0\n",
       "\\item[RoofMatl] 0\n",
       "\\item[Exterior1st] 0\n",
       "\\item[Exterior2nd] 0\n",
       "\\item[MasVnrType] 0\n",
       "\\item[MasVnrArea] 0\n",
       "\\item[ExterQual] 0\n",
       "\\item[ExterCond] 0\n",
       "\\item[Foundation] 0\n",
       "\\item[BsmtQual] 0\n",
       "\\item[BsmtCond] 0\n",
       "\\item[BsmtExposure] 0\n",
       "\\item[BsmtFinType1] 0\n",
       "\\item[BsmtFinSF1] 0\n",
       "\\item[BsmtFinType2] 0\n",
       "\\item[BsmtFinSF2] 0\n",
       "\\item[BsmtUnfSF] 0\n",
       "\\item[TotalBsmtSF] 0\n",
       "\\item[Heating] 0\n",
       "\\item[HeatingQC] 0\n",
       "\\item[CentralAir] 0\n",
       "\\item[Electrical] 0\n",
       "\\item[X1stFlrSF] 0\n",
       "\\item[X2ndFlrSF] 0\n",
       "\\item[LowQualFinSF] 0\n",
       "\\item[GrLivArea] 0\n",
       "\\item[BsmtFullBath] 0\n",
       "\\item[BsmtHalfBath] 0\n",
       "\\item[FullBath] 0\n",
       "\\item[HalfBath] 0\n",
       "\\item[BedroomAbvGr] 0\n",
       "\\item[KitchenAbvGr] 0\n",
       "\\item[KitchenQual] 0\n",
       "\\item[TotRmsAbvGrd] 0\n",
       "\\item[Functional] 0\n",
       "\\item[Fireplaces] 0\n",
       "\\item[FireplaceQu] 0\n",
       "\\item[GarageType] 0\n",
       "\\item[GarageYrBlt] 0\n",
       "\\item[GarageFinish] 0\n",
       "\\item[GarageCars] 0\n",
       "\\item[GarageArea] 0\n",
       "\\item[GarageQual] 0\n",
       "\\item[GarageCond] 0\n",
       "\\item[PavedDrive] 0\n",
       "\\item[WoodDeckSF] 0\n",
       "\\item[OpenPorchSF] 0\n",
       "\\item[EnclosedPorch] 0\n",
       "\\item[X3SsnPorch] 0\n",
       "\\item[ScreenPorch] 0\n",
       "\\item[PoolArea] 0\n",
       "\\item[MiscVal] 0\n",
       "\\item[MoSold] 0\n",
       "\\item[YrSold] 0\n",
       "\\item[SaleType] 0\n",
       "\\item[SaleCondition] 0\n",
       "\\item[SalePrice] 0\n",
       "\\end{description*}\n"
      ],
      "text/markdown": [
       "Id\n",
       ":   0MSSubClass\n",
       ":   0MSZoning\n",
       ":   0LotFrontage\n",
       ":   0LotArea\n",
       ":   0Street\n",
       ":   0LotShape\n",
       ":   0LandContour\n",
       ":   0Utilities\n",
       ":   0LotConfig\n",
       ":   0LandSlope\n",
       ":   0Neighborhood\n",
       ":   0Condition1\n",
       ":   0Condition2\n",
       ":   0BldgType\n",
       ":   0HouseStyle\n",
       ":   0OverallQual\n",
       ":   0OverallCond\n",
       ":   0YearBuilt\n",
       ":   0YearRemodAdd\n",
       ":   0RoofStyle\n",
       ":   0RoofMatl\n",
       ":   0Exterior1st\n",
       ":   0Exterior2nd\n",
       ":   0MasVnrType\n",
       ":   0MasVnrArea\n",
       ":   0ExterQual\n",
       ":   0ExterCond\n",
       ":   0Foundation\n",
       ":   0BsmtQual\n",
       ":   0BsmtCond\n",
       ":   0BsmtExposure\n",
       ":   0BsmtFinType1\n",
       ":   0BsmtFinSF1\n",
       ":   0BsmtFinType2\n",
       ":   0BsmtFinSF2\n",
       ":   0BsmtUnfSF\n",
       ":   0TotalBsmtSF\n",
       ":   0Heating\n",
       ":   0HeatingQC\n",
       ":   0CentralAir\n",
       ":   0Electrical\n",
       ":   0X1stFlrSF\n",
       ":   0X2ndFlrSF\n",
       ":   0LowQualFinSF\n",
       ":   0GrLivArea\n",
       ":   0BsmtFullBath\n",
       ":   0BsmtHalfBath\n",
       ":   0FullBath\n",
       ":   0HalfBath\n",
       ":   0BedroomAbvGr\n",
       ":   0KitchenAbvGr\n",
       ":   0KitchenQual\n",
       ":   0TotRmsAbvGrd\n",
       ":   0Functional\n",
       ":   0Fireplaces\n",
       ":   0FireplaceQu\n",
       ":   0GarageType\n",
       ":   0GarageYrBlt\n",
       ":   0GarageFinish\n",
       ":   0GarageCars\n",
       ":   0GarageArea\n",
       ":   0GarageQual\n",
       ":   0GarageCond\n",
       ":   0PavedDrive\n",
       ":   0WoodDeckSF\n",
       ":   0OpenPorchSF\n",
       ":   0EnclosedPorch\n",
       ":   0X3SsnPorch\n",
       ":   0ScreenPorch\n",
       ":   0PoolArea\n",
       ":   0MiscVal\n",
       ":   0MoSold\n",
       ":   0YrSold\n",
       ":   0SaleType\n",
       ":   0SaleCondition\n",
       ":   0SalePrice\n",
       ":   0\n",
       "\n"
      ],
      "text/plain": [
       "           Id    MSSubClass      MSZoning   LotFrontage       LotArea \n",
       "            0             0             0             0             0 \n",
       "       Street      LotShape   LandContour     Utilities     LotConfig \n",
       "            0             0             0             0             0 \n",
       "    LandSlope  Neighborhood    Condition1    Condition2      BldgType \n",
       "            0             0             0             0             0 \n",
       "   HouseStyle   OverallQual   OverallCond     YearBuilt  YearRemodAdd \n",
       "            0             0             0             0             0 \n",
       "    RoofStyle      RoofMatl   Exterior1st   Exterior2nd    MasVnrType \n",
       "            0             0             0             0             0 \n",
       "   MasVnrArea     ExterQual     ExterCond    Foundation      BsmtQual \n",
       "            0             0             0             0             0 \n",
       "     BsmtCond  BsmtExposure  BsmtFinType1    BsmtFinSF1  BsmtFinType2 \n",
       "            0             0             0             0             0 \n",
       "   BsmtFinSF2     BsmtUnfSF   TotalBsmtSF       Heating     HeatingQC \n",
       "            0             0             0             0             0 \n",
       "   CentralAir    Electrical     X1stFlrSF     X2ndFlrSF  LowQualFinSF \n",
       "            0             0             0             0             0 \n",
       "    GrLivArea  BsmtFullBath  BsmtHalfBath      FullBath      HalfBath \n",
       "            0             0             0             0             0 \n",
       " BedroomAbvGr  KitchenAbvGr   KitchenQual  TotRmsAbvGrd    Functional \n",
       "            0             0             0             0             0 \n",
       "   Fireplaces   FireplaceQu    GarageType   GarageYrBlt  GarageFinish \n",
       "            0             0             0             0             0 \n",
       "   GarageCars    GarageArea    GarageQual    GarageCond    PavedDrive \n",
       "            0             0             0             0             0 \n",
       "   WoodDeckSF   OpenPorchSF EnclosedPorch    X3SsnPorch   ScreenPorch \n",
       "            0             0             0             0             0 \n",
       "     PoolArea       MiscVal        MoSold        YrSold      SaleType \n",
       "            0             0             0             0             0 \n",
       "SaleCondition     SalePrice \n",
       "            0             0 "
      ]
     },
     "metadata": {},
     "output_type": "display_data"
    }
   ],
   "source": [
    "colSums( is.na(imputed_data_))"
   ]
  },
  {
   "cell_type": "markdown",
   "metadata": {},
   "source": [
    "<br>\n",
    "<br>\n",
    "<br>\n",
    "<br>\n",
    "\n",
    "# 4. <u>Exploration (Part2)</u>\n",
    "<br>\n",
    "<br>"
   ]
  },
  {
   "cell_type": "markdown",
   "metadata": {},
   "source": [
    "## 4.1 Bivariate Analysis"
   ]
  },
  {
   "cell_type": "markdown",
   "metadata": {},
   "source": [
    "#### Effect of lotarea to Saleprice\n",
    "** Here we could see that SalePrice is linearly increasing with increase in LotArea (after 13000 Sq. Units).\n",
    "  <br> So we infer that SalePrice is linearly proportional to LotArea **"
   ]
  },
  {
   "cell_type": "code",
   "execution_count": 26,
   "metadata": {
    "collapsed": false
   },
   "outputs": [
    {
     "name": "stderr",
     "output_type": "stream",
     "text": [
      "`geom_smooth()` using method = 'gam'\n"
     ]
    },
    {
     "data": {},
     "metadata": {},
     "output_type": "display_data"
    },
    {
     "data": {
      "image/png": "[encoded data removed]",
      "text/plain": [
       "plot without title"
      ]
     },
     "metadata": {},
     "output_type": "display_data"
    }
   ],
   "source": [
    "ggplot(data = data_ ) + geom_smooth( mapping = aes( x=LotArea, y=SalePrice) ) "
   ]
  },
  {
   "cell_type": "markdown",
   "metadata": {},
   "source": [
    "<br>\n",
    "### Trace of Sale price over the years \n",
    "** This plot shows that the SalePrice is non-linearly changing with BuiltYear .\n",
    "  <br> There has been an exponential growth after year 1980 **"
   ]
  },
  {
   "cell_type": "code",
   "execution_count": 27,
   "metadata": {
    "collapsed": false,
    "scrolled": false
   },
   "outputs": [
    {
     "name": "stderr",
     "output_type": "stream",
     "text": [
      "`geom_smooth()` using method = 'gam'\n"
     ]
    },
    {
     "data": {},
     "metadata": {},
     "output_type": "display_data"
    },
    {
     "data": {
      "image/png": "[encoded data removed]",
      "text/plain": [
       "plot without title"
      ]
     },
     "metadata": {},
     "output_type": "display_data"
    }
   ],
   "source": [
    "ggplot(data = data_) + geom_smooth( mapping = aes( x=YearBuilt, y=SalePrice),col=\"magenta\" ) "
   ]
  },
  {
   "cell_type": "markdown",
   "metadata": {},
   "source": [
    "<br><br><br><br>\n",
    "<br><br><br><br>\n",
    "## 4.2 Multivariate analysis to get a comprehensive understanding\n",
    "<br>"
   ]
  },
  {
   "cell_type": "markdown",
   "metadata": {},
   "source": [
    "### Over Priced houses"
   ]
  },
  {
   "cell_type": "code",
   "execution_count": 28,
   "metadata": {
    "collapsed": false
   },
   "outputs": [
    {
     "data": {},
     "metadata": {},
     "output_type": "display_data"
    },
    {
     "data": {
      "image/png": "[encoded data removed]",
      "text/plain": [
       "plot without title"
      ]
     },
     "metadata": {},
     "output_type": "display_data"
    }
   ],
   "source": [
    "# we can see some over priced houses of sale condition \n",
    "ggplot(data = imputed_data_) + \n",
    "    geom_point( mapping = aes( x =GarageArea, y=SalePrice, color=YrSold) ) +\n",
    "                   geom_hline(yintercept = 6e+05,color=\"red\")"
   ]
  },
  {
   "cell_type": "code",
   "execution_count": 29,
   "metadata": {
    "collapsed": false,
    "scrolled": false
   },
   "outputs": [
    {
     "data": {},
     "metadata": {},
     "output_type": "display_data"
    },
    {
     "data": {
      "image/png": "[encoded data removed]",
      "text/plain": [
       "plot without title"
      ]
     },
     "metadata": {},
     "output_type": "display_data"
    }
   ],
   "source": [
    "ggplot(data = imputed_data_) + \n",
    "        geom_point( mapping = aes( x = CentralAir, y=SalePrice, color=SaleCondition) )"
   ]
  },
  {
   "cell_type": "markdown",
   "metadata": {},
   "source": [
    "## 4.3. Conclusions and Insights from Explorations\n",
    "** <big> 1. Univariate analysis provided us with features and their distributions <br>2. Multivariate Bivariate analysis gave us some relations b/w variables although we did not focus more here. <br>**"
   ]
  },
  {
   "cell_type": "markdown",
   "metadata": {},
   "source": [
    "# -------------------------------------------------------------------------------------------------------"
   ]
  },
  {
   "cell_type": "markdown",
   "metadata": {},
   "source": [
    "# 5. Fitting Model and Feature selection\n",
    "** Using randomForest model for predicting the house prices <br> **\n",
    "<big> Note: 1. We proceed forward without normalization because Random forest model fits the same for normalized data and un-normalized data.. i.e. It does not get affected by monotonic transformation of input variables. <br></big>\n",
    "\n",
    "### We do the Primary fitting on two aspects of same dataset.\n",
    "\n",
    "<big>1. UNMODELED DATA : The data is neither transformed nor modelled <br>2. MODELED DATA : Here the categorical variables are transformed into attributes(binary)\n",
    "\n"
   ]
  },
  {
   "cell_type": "code",
   "execution_count": 31,
   "metadata": {
    "collapsed": true
   },
   "outputs": [],
   "source": [
    "#Loading the library for Random Forest model \n",
    "\n",
    "library(randomForest)"
   ]
  },
  {
   "cell_type": "code",
   "execution_count": 30,
   "metadata": {
    "collapsed": false
   },
   "outputs": [],
   "source": [
    "#Creating a new dataframe to work on for modelfitting\n",
    "\n",
    "df <- imputed_data_"
   ]
  },
  {
   "cell_type": "markdown",
   "metadata": {},
   "source": [
    "## Defining our own functions for Error calculation\n",
    "### Our error evaluation metric is RMSE of Logarthimic values. i.e:\n",
    " ** RMSE_of_Log = Square-root of mean of square of [log(actual) - log(predicted)] **"
   ]
  },
  {
   "cell_type": "code",
   "execution_count": 32,
   "metadata": {
    "collapsed": false
   },
   "outputs": [],
   "source": [
    "#PRE-REQUIRED FUNCTION FOR ERROR CALCULATION\n",
    "\n",
    "#SQUARE FUNCTION\n",
    "sqr <- function(i){\n",
    "    return (i*i);\n",
    "}\n",
    "\n",
    "#RMSE\n",
    "rmse <- function(predicted_values,dataframe,col_name){\n",
    "    squared_sum = 0.0\n",
    "    for (i in 1:length(predicted_values)){\n",
    "        squared_sum = squared_sum + sqr(predicted_values[i]-dataframe[i,col_name])\n",
    "    }\n",
    "    rmse <- sqrt( squared_sum/nrow(dataframe) )\n",
    "    return (rmse)\n",
    "}\n",
    "\n",
    "#Log-RMSE\n",
    "lmse <- function(predicted_values,dataframe,col_name){\n",
    "    squared_sum = 0.0\n",
    "    for (i in 1:length(predicted_values)){\n",
    "        squared_sum = squared_sum + sqr(log(predicted_values[i])-log(dataframe[i,col_name]))\n",
    "    }\n",
    "    rmse <- sqrt( squared_sum/nrow(dataframe) )\n",
    "    return (rmse)\n",
    "}\n"
   ]
  },
  {
   "cell_type": "markdown",
   "metadata": {
    "collapsed": false
   },
   "source": [
    "<br><br><br>\n",
    "## 5.1. Random Forest on UN-MODELLED DATA"
   ]
  },
  {
   "cell_type": "code",
   "execution_count": 35,
   "metadata": {
    "collapsed": false,
    "scrolled": true
   },
   "outputs": [
    {
     "name": "stdout",
     "output_type": "stream",
     "text": [
      "     |      Out-of-bag   |\n",
      "Tree |      MSE  %Var(y) |\n",
      "  10 | 1.295e+09    20.53 |\n",
      "  20 | 1.047e+09    16.60 |\n",
      "  30 | 9.442e+08    14.97 |\n",
      "  40 | 9.084e+08    14.40 |\n",
      "  50 | 8.655e+08    13.72 |\n",
      "  60 | 8.175e+08    12.96 |\n",
      "  70 | 8.168e+08    12.95 |\n",
      "  80 | 8.051e+08    12.77 |\n",
      "  90 | 8.076e+08    12.81 |\n",
      " 100 | 8.053e+08    12.77 |\n",
      " 110 | 8.024e+08    12.72 |\n",
      " 120 | 7.961e+08    12.62 |\n",
      " 130 | 7.862e+08    12.47 |\n",
      " 140 | 7.76e+08    12.30 |\n",
      " 150 | 7.733e+08    12.26 |\n",
      " 160 | 7.715e+08    12.23 |\n",
      " 170 | 7.678e+08    12.17 |\n",
      " 180 | 7.641e+08    12.11 |\n",
      " 190 | 7.681e+08    12.18 |\n",
      " 200 | 7.709e+08    12.22 |\n",
      " 210 | 7.687e+08    12.19 |\n",
      " 220 | 7.673e+08    12.17 |\n",
      " 230 | 7.653e+08    12.13 |\n",
      " 240 | 7.617e+08    12.08 |\n",
      " 250 | 7.647e+08    12.12 |\n",
      " 260 | 7.643e+08    12.12 |\n",
      " 270 | 7.625e+08    12.09 |\n",
      " 280 | 7.613e+08    12.07 |\n",
      " 290 | 7.603e+08    12.05 |\n",
      " 300 | 7.53e+08    11.94 |\n",
      " 310 | 7.529e+08    11.94 |\n",
      " 320 | 7.553e+08    11.98 |\n",
      " 330 | 7.556e+08    11.98 |\n",
      " 340 | 7.585e+08    12.03 |\n",
      " 350 | 7.603e+08    12.05 |\n",
      " 360 | 7.598e+08    12.05 |\n",
      " 370 | 7.601e+08    12.05 |\n",
      " 380 | 7.598e+08    12.05 |\n",
      " 390 | 7.57e+08    12.00 |\n",
      " 400 | 7.554e+08    11.98 |\n",
      " 410 | 7.525e+08    11.93 |\n",
      " 420 | 7.558e+08    11.98 |\n",
      " 430 | 7.553e+08    11.98 |\n",
      " 440 | 7.549e+08    11.97 |\n",
      " 450 | 7.528e+08    11.94 |\n",
      " 460 | 7.536e+08    11.95 |\n",
      " 470 | 7.527e+08    11.94 |\n",
      " 480 | 7.52e+08    11.92 |\n",
      " 490 | 7.548e+08    11.97 |\n",
      " 500 | 7.542e+08    11.96 |\n",
      " 510 | 7.546e+08    11.96 |\n",
      " 520 | 7.535e+08    11.95 |\n",
      " 530 | 7.54e+08    11.96 |\n",
      " 540 | 7.544e+08    11.96 |\n",
      " 550 | 7.564e+08    11.99 |\n",
      " 560 | 7.559e+08    11.99 |\n",
      " 570 | 7.58e+08    12.02 |\n",
      " 580 | 7.567e+08    12.00 |\n",
      " 590 | 7.548e+08    11.97 |\n",
      " 600 | 7.554e+08    11.98 |\n",
      " 610 | 7.551e+08    11.97 |\n",
      " 620 | 7.557e+08    11.98 |\n",
      " 630 | 7.556e+08    11.98 |\n",
      " 640 | 7.57e+08    12.00 |\n",
      " 650 | 7.559e+08    11.99 |\n",
      " 660 | 7.57e+08    12.00 |\n",
      " 670 | 7.575e+08    12.01 |\n",
      " 680 | 7.585e+08    12.03 |\n",
      " 690 | 7.568e+08    12.00 |\n",
      " 700 | 7.569e+08    12.00 |\n",
      " 710 | 7.567e+08    12.00 |\n",
      " 720 | 7.582e+08    12.02 |\n",
      " 730 | 7.597e+08    12.05 |\n",
      " 740 | 7.599e+08    12.05 |\n",
      " 750 | 7.618e+08    12.08 |\n",
      " 760 | 7.617e+08    12.08 |\n",
      " 770 | 7.626e+08    12.09 |\n",
      " 780 | 7.615e+08    12.07 |\n",
      " 790 | 7.589e+08    12.03 |\n",
      " 800 | 7.594e+08    12.04 |\n",
      " 810 | 7.593e+08    12.04 |\n",
      " 820 | 7.598e+08    12.05 |\n",
      " 830 | 7.587e+08    12.03 |\n",
      " 840 | 7.595e+08    12.04 |\n",
      " 850 | 7.613e+08    12.07 |\n",
      " 860 | 7.614e+08    12.07 |\n",
      " 870 | 7.621e+08    12.08 |\n",
      " 880 | 7.625e+08    12.09 |\n",
      " 890 | 7.645e+08    12.12 |\n",
      " 900 | 7.638e+08    12.11 |\n",
      " 910 | 7.641e+08    12.12 |\n",
      " 920 | 7.649e+08    12.13 |\n",
      " 930 | 7.643e+08    12.12 |\n",
      " 940 | 7.638e+08    12.11 |\n",
      " 950 | 7.632e+08    12.10 |\n",
      " 960 | 7.624e+08    12.09 |\n",
      " 970 | 7.627e+08    12.09 |\n",
      " 980 | 7.62e+08    12.08 |\n",
      " 990 | 7.629e+08    12.10 |\n",
      "1000 | 7.628e+08    12.10 |\n"
     ]
    }
   ],
   "source": [
    "#MODEL FITTING\n",
    "\n",
    "rf_model <- randomForest(SalePrice ~ ., imputed_data_, do.trace=10, ntree=1000)"
   ]
  },
  {
   "cell_type": "code",
   "execution_count": 36,
   "metadata": {
    "collapsed": false
   },
   "outputs": [],
   "source": [
    "#MODEL PREDICTION\n",
    "\n",
    "x_prediction <- predict(rf_model, imputed_data_)"
   ]
  },
  {
   "cell_type": "markdown",
   "metadata": {},
   "source": [
    "<br><br><br><br><br><br><br><br><br><br><br><br><br><br><br><br><br><br><br>"
   ]
  },
  {
   "cell_type": "markdown",
   "metadata": {
    "collapsed": false
   },
   "source": [
    "### Plotting the Prediction value \n",
    "<Big> Here the <font color=darkblue> <u>blue bars</u> </font> are actual distribution<br>And the <u> grey shaded</u> are the prediction distribution<br><br></big>\n",
    "** We could observe the predictions are quite similarly distributed **"
   ]
  },
  {
   "cell_type": "code",
   "execution_count": 37,
   "metadata": {
    "collapsed": false,
    "scrolled": false
   },
   "outputs": [
    {
     "name": "stderr",
     "output_type": "stream",
     "text": [
      "`stat_bin()` using `bins = 30`. Pick better value with `binwidth`.\n",
      "`stat_bin()` using `bins = 30`. Pick better value with `binwidth`.\n"
     ]
    },
    {
     "data": {},
     "metadata": {},
     "output_type": "display_data"
    },
    {
     "data": {
      "image/png": "[encoded data removed]",
      "text/plain": [
       "plot without title"
      ]
     },
     "metadata": {},
     "output_type": "display_data"
    }
   ],
   "source": [
    "#PLOT\n",
    "ggplot(data = imputed_data_) +geom_histogram(mapping= aes(SalePrice),color=\"blue\",fill=\"blue\")+  geom_histogram(mapping= aes(x_prediction),color=\"green\")"
   ]
  },
  {
   "cell_type": "markdown",
   "metadata": {},
   "source": [
    "<br><br><br><br><br><br><br>"
   ]
  },
  {
   "cell_type": "markdown",
   "metadata": {},
   "source": [
    "### Plotting the predicted values with respect to a specific attribute\n",
    "<br>\n",
    "** If we could recall, we claimed the neighborhood plays a major role in determining the Salesprice.<br>This is evident from the below plot which reveals that the distribution of Sales price is in alignment with the NEIGHBORHOOD Attribute.. **"
   ]
  },
  {
   "cell_type": "code",
   "execution_count": 38,
   "metadata": {
    "collapsed": false
   },
   "outputs": [
    {
     "data": {},
     "metadata": {},
     "output_type": "display_data"
    },
    {
     "data": {
      "image/png": "[encoded data removed]",
      "text/plain": [
       "plot without title"
      ]
     },
     "metadata": {},
     "output_type": "display_data"
    }
   ],
   "source": [
    "ggplot(data = imputed_data_) +geom_point(mapping= aes(x =Neighborhood,y=SalePrice))+  geom_point(mapping= aes(x =Neighborhood,y=x_prediction),color=\"red\")"
   ]
  },
  {
   "cell_type": "markdown",
   "metadata": {},
   "source": [
    "### Evaluation of error"
   ]
  },
  {
   "cell_type": "code",
   "execution_count": 39,
   "metadata": {
    "collapsed": false
   },
   "outputs": [
    {
     "name": "stdout",
     "output_type": "stream",
     "text": [
      "11245.63"
     ]
    }
   ],
   "source": [
    "#RMSE CALCULATION\n",
    "\n",
    "cat(err_1<-rmse(x_prediction,imputed_data_,'SalePrice'))"
   ]
  },
  {
   "cell_type": "code",
   "execution_count": 40,
   "metadata": {
    "collapsed": false
   },
   "outputs": [
    {
     "name": "stdout",
     "output_type": "stream",
     "text": [
      "0.06206722"
     ]
    }
   ],
   "source": [
    "#LMSE CALCULATION\n",
    "\n",
    "cat(err_1<-lmse(x_prediction,imputed_data_,'SalePrice'))"
   ]
  },
  {
   "cell_type": "markdown",
   "metadata": {},
   "source": [
    "### Plotting the variable importance for the features in the model\n",
    "<big> The increasing node purity is used for rating features<br>\n",
    "    It is analogous to finding intra-clusterdistance and inter-clusterdistance in clustering"
   ]
  },
  {
   "cell_type": "code",
   "execution_count": 45,
   "metadata": {
    "collapsed": false
   },
   "outputs": [
    {
     "data": {
      "image/png": "[encoded data removed]",
      "text/plain": [
       "Plot with title “Top 30 - Variable Importance”"
      ]
     },
     "metadata": {},
     "output_type": "display_data"
    }
   ],
   "source": [
    "# Important variable plot\n",
    "\n",
    "varImpPlot(rf_modellmodel,  \n",
    "           sort = T,\n",
    "           n.var=30,\n",
    "           main=\"Top 30 - Variable Importance\")"
   ]
  },
  {
   "cell_type": "markdown",
   "metadata": {},
   "source": [
    "<br><br><br><br><br><br><br>\n",
    "# -----------------------------------------------------------------------------------------------------------"
   ]
  },
  {
   "cell_type": "markdown",
   "metadata": {},
   "source": [
    "## 5.2. RANDOM FOREST on MODELLED DATA\n",
    "** We model the data using the model.matrix() method/function in R **"
   ]
  },
  {
   "cell_type": "code",
   "execution_count": null,
   "metadata": {
    "collapsed": false
   },
   "outputs": [],
   "source": [
    "#MODELLED_DATA COLUMN SELECTION\n",
    "\n",
    "cnames <- colnames(df)\n",
    "cnames <- cnames[!cnames %in% \"Id\"]\n",
    "\n",
    "#Formula for modelling Categorical variable into patterns\n",
    "\n",
    "formula_for_modelling <- as.formula(paste (\"~\",paste(cnames,collapse = \" + \")))\n",
    "\n",
    "#CREATION OF MODELLED_DATA\n",
    "\n",
    "modeled_df <- model.matrix(formula_for_modelling, data = df)\n",
    "\n",
    "##FINALIZING MODELED_DATA\n",
    "\n",
    "#selecting column names of modeled_data\n",
    "cnames <- colnames(modeled_df)\n",
    "cnames <- cnames[! cnames %in% \"(Intercept)\"]\n",
    "\n",
    "#Adjusting the space between certain attribute's names:::::::::::::::\n",
    "cnames_ok = c()\n",
    "for ( i in cnames){\n",
    "    str = paste(unlist(strsplit(i,\" \")),collapse = \"\")\n",
    "    cnames_ok <- c(cnames_ok,str )\n",
    "}\n",
    "\n",
    "#selecting attribute names without spaces\n",
    "selected_attr = c()\n",
    "for ( i in cnames_ok){\n",
    "    if ( i %in% cnames && !i %in% c('RoofMatlTar&Grv')){\n",
    "      selected_attr <- c(selected_attr,i)  \n",
    "    }\n",
    "}\n",
    "\n",
    "\n",
    "modeled_df <- modeled_df[,selected_attr]\n",
    "\n",
    "\n"
   ]
  },
  {
   "cell_type": "code",
   "execution_count": 51,
   "metadata": {
    "collapsed": false,
    "scrolled": true
   },
   "outputs": [
    {
     "name": "stdout",
     "output_type": "stream",
     "text": [
      "     |      Out-of-bag   |\n",
      "Tree |      MSE  %Var(y) |\n",
      "  10 | 1.198e+09    19.00 |\n",
      "  20 | 1.221e+09    19.37 |\n",
      "  30 | 9.903e+08    15.70 |\n",
      "  40 | 9.272e+08    14.70 |\n",
      "  50 | 9.452e+08    14.99 |\n",
      "  60 | 9.186e+08    14.57 |\n",
      "  70 | 8.987e+08    14.25 |\n",
      "  80 | 8.809e+08    13.97 |\n",
      "  90 | 8.719e+08    13.82 |\n",
      " 100 | 8.908e+08    14.12 |\n",
      " 110 | 8.852e+08    14.04 |\n",
      " 120 | 8.854e+08    14.04 |\n",
      " 130 | 8.742e+08    13.86 |\n",
      " 140 | 8.67e+08    13.75 |\n",
      " 150 | 8.574e+08    13.60 |\n",
      " 160 | 8.491e+08    13.46 |\n",
      " 170 | 8.493e+08    13.47 |\n",
      " 180 | 8.441e+08    13.38 |\n",
      " 190 | 8.507e+08    13.49 |\n",
      " 200 | 8.491e+08    13.46 |\n",
      " 210 | 8.442e+08    13.39 |\n",
      " 220 | 8.387e+08    13.30 |\n",
      " 230 | 8.351e+08    13.24 |\n",
      " 240 | 8.372e+08    13.28 |\n",
      " 250 | 8.351e+08    13.24 |\n",
      " 260 | 8.378e+08    13.28 |\n",
      " 270 | 8.417e+08    13.35 |\n",
      " 280 | 8.385e+08    13.29 |\n",
      " 290 |  8.4e+08    13.32 |\n",
      " 300 | 8.395e+08    13.31 |\n",
      " 310 | 8.398e+08    13.32 |\n",
      " 320 | 8.376e+08    13.28 |\n",
      " 330 | 8.381e+08    13.29 |\n",
      " 340 | 8.39e+08    13.30 |\n",
      " 350 | 8.415e+08    13.34 |\n",
      " 360 | 8.438e+08    13.38 |\n",
      " 370 | 8.456e+08    13.41 |\n",
      " 380 | 8.449e+08    13.40 |\n",
      " 390 | 8.432e+08    13.37 |\n",
      " 400 | 8.405e+08    13.33 |\n",
      " 410 | 8.374e+08    13.28 |\n",
      " 420 | 8.379e+08    13.29 |\n",
      " 430 | 8.368e+08    13.27 |\n",
      " 440 | 8.367e+08    13.27 |\n",
      " 450 | 8.351e+08    13.24 |\n",
      " 460 | 8.338e+08    13.22 |\n",
      " 470 | 8.335e+08    13.22 |\n",
      " 480 | 8.346e+08    13.23 |\n",
      " 490 | 8.335e+08    13.22 |\n",
      " 500 | 8.324e+08    13.20 |\n",
      " 510 | 8.288e+08    13.14 |\n",
      " 520 | 8.27e+08    13.11 |\n",
      " 530 | 8.258e+08    13.09 |\n",
      " 540 | 8.247e+08    13.08 |\n",
      " 550 | 8.227e+08    13.04 |\n",
      " 560 | 8.224e+08    13.04 |\n",
      " 570 | 8.209e+08    13.02 |\n",
      " 580 | 8.214e+08    13.02 |\n",
      " 590 | 8.205e+08    13.01 |\n",
      " 600 | 8.198e+08    13.00 |\n",
      " 610 | 8.197e+08    13.00 |\n",
      " 620 | 8.176e+08    12.96 |\n",
      " 630 | 8.16e+08    12.94 |\n",
      " 640 | 8.138e+08    12.90 |\n",
      " 650 | 8.133e+08    12.90 |\n",
      " 660 | 8.118e+08    12.87 |\n",
      " 670 | 8.124e+08    12.88 |\n",
      " 680 | 8.113e+08    12.86 |\n",
      " 690 | 8.089e+08    12.83 |\n",
      " 700 | 8.099e+08    12.84 |\n",
      " 710 | 8.106e+08    12.85 |\n",
      " 720 | 8.102e+08    12.85 |\n",
      " 730 | 8.084e+08    12.82 |\n",
      " 740 | 8.09e+08    12.83 |\n",
      " 750 | 8.085e+08    12.82 |\n",
      " 760 | 8.109e+08    12.86 |\n",
      " 770 | 8.119e+08    12.87 |\n",
      " 780 | 8.113e+08    12.86 |\n",
      " 790 | 8.105e+08    12.85 |\n",
      " 800 | 8.089e+08    12.83 |\n",
      " 810 | 8.089e+08    12.83 |\n",
      " 820 | 8.084e+08    12.82 |\n",
      " 830 | 8.107e+08    12.85 |\n",
      " 840 | 8.113e+08    12.86 |\n",
      " 850 | 8.115e+08    12.87 |\n",
      " 860 | 8.115e+08    12.87 |\n",
      " 870 | 8.105e+08    12.85 |\n",
      " 880 | 8.116e+08    12.87 |\n",
      " 890 | 8.127e+08    12.89 |\n",
      " 900 | 8.12e+08    12.88 |\n",
      " 910 | 8.115e+08    12.87 |\n",
      " 920 | 8.119e+08    12.87 |\n",
      " 930 | 8.114e+08    12.87 |\n",
      " 940 | 8.12e+08    12.88 |\n",
      " 950 | 8.121e+08    12.88 |\n",
      " 960 | 8.117e+08    12.87 |\n",
      " 970 | 8.117e+08    12.87 |\n",
      " 980 | 8.124e+08    12.88 |\n",
      " 990 | 8.142e+08    12.91 |\n",
      "1000 | 8.136e+08    12.90 |\n"
     ]
    }
   ],
   "source": [
    "#MODEL FITTING\n",
    "\n",
    "rf_model2 <- randomForest(SalePrice ~ ., modeled_df, do.trace=10, ntree=1000)"
   ]
  },
  {
   "cell_type": "code",
   "execution_count": 52,
   "metadata": {
    "collapsed": true
   },
   "outputs": [],
   "source": [
    "#PREDICTION\n",
    "\n",
    "x_prediction2 <- predict(rf_model2, modeled_df)"
   ]
  },
  {
   "cell_type": "markdown",
   "metadata": {},
   "source": [
    "### Evaluation of error"
   ]
  },
  {
   "cell_type": "code",
   "execution_count": 53,
   "metadata": {
    "collapsed": false,
    "scrolled": true
   },
   "outputs": [
    {
     "name": "stdout",
     "output_type": "stream",
     "text": [
      "11665.76"
     ]
    }
   ],
   "source": [
    "#RMSE CALCULATION\n",
    "#RMSE\n",
    "cat(err_2 <-rmse(x_prediction2,modeled_df,'SalePrice'))"
   ]
  },
  {
   "cell_type": "code",
   "execution_count": 54,
   "metadata": {
    "collapsed": false
   },
   "outputs": [
    {
     "name": "stdout",
     "output_type": "stream",
     "text": [
      "0.06360193"
     ]
    }
   ],
   "source": [
    "#RMSE\n",
    "cat(err_2 <-lmse(x_prediction2,modeled_df,'SalePrice'))"
   ]
  },
  {
   "cell_type": "markdown",
   "metadata": {},
   "source": [
    "## Comparision between the results of model1 and model2\n",
    "<big>We could observe that the results in case of modeled data are less accurate than expected.<br>\n",
    "This negative results are the consequence of increasing the data attributes with the same no. of instances.<br>"
   ]
  },
  {
   "cell_type": "code",
   "execution_count": 55,
   "metadata": {
    "collapsed": false
   },
   "outputs": [
    {
     "name": "stdout",
     "output_type": "stream",
     "text": [
      "0.06231549   0.06360193"
     ]
    }
   ],
   "source": [
    "# COMPARISION\n",
    "cat(err_1,\" \",err_2)"
   ]
  },
  {
   "cell_type": "code",
   "execution_count": 71,
   "metadata": {
    "collapsed": false
   },
   "outputs": [
    {
     "data": {
      "text/html": [
       "<ol class=list-inline>\n",
       "\t<li>1460</li>\n",
       "\t<li>232</li>\n",
       "</ol>\n"
      ],
      "text/latex": [
       "\\begin{enumerate*}\n",
       "\\item 1460\n",
       "\\item 232\n",
       "\\end{enumerate*}\n"
      ],
      "text/markdown": [
       "1. 1460\n",
       "2. 232\n",
       "\n",
       "\n"
      ],
      "text/plain": [
       "[1] 1460  232"
      ]
     },
     "metadata": {},
     "output_type": "display_data"
    }
   ],
   "source": [
    "#Reason for difference in results\n",
    "dim(modeled_df)"
   ]
  },
  {
   "cell_type": "markdown",
   "metadata": {},
   "source": [
    "# ---------------------------------------------------------------------------------------------------"
   ]
  }
 ],
 "metadata": {
  "kernelspec": {
   "display_name": "R",
   "language": "R",
   "name": "ir"
  },
  "language_info": {
   "codemirror_mode": "r",
   "file_extension": ".r",
   "mimetype": "text/x-r-source",
   "name": "R",
   "pygments_lexer": "r",
   "version": "3.4.1"
  }
 },
 "nbformat": 4,
 "nbformat_minor": 2
}
